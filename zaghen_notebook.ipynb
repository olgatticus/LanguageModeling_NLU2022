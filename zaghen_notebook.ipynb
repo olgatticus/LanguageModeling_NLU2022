{
  "nbformat": 4,
  "nbformat_minor": 0,
  "metadata": {
    "colab": {
      "name": "zaghen_224436.ipynb",
      "provenance": [],
      "collapsed_sections": []
    },
    "kernelspec": {
      "name": "python3",
      "display_name": "Python 3"
    },
    "language_info": {
      "name": "python"
    },
    "accelerator": "GPU",
    "gpuClass": "standard"
  },
  "cells": [
    {
      "cell_type": "markdown",
      "source": [
        ">     Instructions for the execution of the code:\n",
        ">     \n",
        ">     - We suppose to work with an existing directory with path \"/content/gdrive/MyDrive/NLU_project/\", \n",
        ">       containing a folder \"dataset\" with the zipped dataset ptbdataset.zip (at \"dataset/ptbdataset.zip\") and an empty folder \"models\". \n",
        ">     - The code cells should be executed one after the other, in the same order in which they appear. \n",
        ">       Otherwise some errors may arise in the execution."
      ],
      "metadata": {
        "id": "HYS2nwr35KNx"
      }
    },
    {
      "cell_type": "markdown",
      "source": [
        "#<center> Language Modeling </center>\n",
        "###### <center> with </center>\n",
        "#<center> LSTM and Attention </center>\n",
        "---"
      ],
      "metadata": {
        "id": "VHGZkAGW6Bqj"
      }
    },
    {
      "cell_type": "markdown",
      "source": [
        "-       Imports and global variables"
      ],
      "metadata": {
        "id": "L-z8zreZ_v0F"
      }
    },
    {
      "cell_type": "code",
      "execution_count": 1,
      "metadata": {
        "id": "CeXfbUjf9EzC"
      },
      "outputs": [],
      "source": [
        "# Imports\n",
        "import os\n",
        "import torch\n",
        "import torch.nn as nn\n",
        "from torch.nn.utils.rnn import pack_padded_sequence, pad_packed_sequence\n",
        "import torch.nn.functional as F\n",
        "from torch.utils.data import DataLoader\n",
        "import torch\n",
        "import random\n",
        "import numpy as np\n",
        "import matplotlib.pyplot as plt\n",
        "from tqdm import tqdm\n",
        "import torch.utils.data as data\n",
        "import torch.optim as optim\n",
        "from collections import Counter\n",
        "import nltk\n",
        "\n",
        "\n",
        "# Seeds\n",
        "torch.manual_seed(5)\n",
        "random.seed(5)\n",
        "np.random.seed(5)\n",
        "\n",
        "# Global variables\n",
        "device = 'cuda:0' \n",
        "os.environ['CUDA_LAUNCH_BLOCKING'] = \"1\"\n",
        "PAD_TOKEN = 0"
      ]
    },
    {
      "cell_type": "markdown",
      "source": [
        "-       Mounting of the Google Drive folder"
      ],
      "metadata": {
        "id": "A33zp1RmBVxN"
      }
    },
    {
      "cell_type": "code",
      "source": [
        "from google.colab import drive\n",
        "drive.mount('/content/gdrive')"
      ],
      "metadata": {
        "id": "FEynazgR-Wuf",
        "colab": {
          "base_uri": "https://localhost:8080/"
        },
        "outputId": "94694856-27d2-4f52-d9f2-f83f809ef941"
      },
      "execution_count": 2,
      "outputs": [
        {
          "output_type": "stream",
          "name": "stdout",
          "text": [
            "Mounted at /content/gdrive\n"
          ]
        }
      ]
    },
    {
      "cell_type": "markdown",
      "source": [
        "\n",
        "<br/>\n",
        "\n",
        "## <center>Analysis of the Penn Tree bank dataset:</center>\n",
        "This section contains all the operations performed on the dataset with the aims of:\n",
        "-     extracting all the training, test and validation sentences\n",
        "-     constructing a vocabulary and a map from words to indexes (and viceversa)\n",
        "-     analyzing the properties of the dataset. "
      ],
      "metadata": {
        "id": "Gl_pU2Js-XTd"
      }
    },
    {
      "cell_type": "code",
      "source": [
        "!unzip gdrive/MyDrive/NLU_project/dataset/ptbdataset.zip -d gdrive/MyDrive/NLU_project/dataset"
      ],
      "metadata": {
        "id": "o4cE6X97-iZi"
      },
      "execution_count": null,
      "outputs": []
    },
    {
      "cell_type": "markdown",
      "source": [
        "\n",
        "<br/>\n",
        "\n",
        "### Extraction of the sentences and the words from the dataset\n",
        "\n",
        "The dataset consists in three .txt files, corresponding to training, validation and test sets, each of them containing sentences, distinguished from being in different line of the file."
      ],
      "metadata": {
        "id": "doytZhzhv02L"
      }
    },
    {
      "cell_type": "code",
      "source": [
        "\"\"\"\n",
        "Function that returns all the sentences in the txt from the input path.\n",
        "\n",
        ":param path: path to the txt dataset\n",
        ":return sents: list of all sentences\n",
        "\"\"\"\n",
        "\n",
        "def list_sents(path):\n",
        "    sents = []\n",
        "    with open(path) as file:\n",
        "        for line in file:\n",
        "          sent = line.split()\n",
        "          sents.append(sent)\n",
        "    file.close()\n",
        "    return sents\n",
        "\n",
        "\"\"\"\n",
        "Function that returns all the words in the txt of the input path.\n",
        "\n",
        ":param path: path to the txt dataset\n",
        ":return sents: set of all words\n",
        "\"\"\"\n",
        "def list_words(path):\n",
        "    words = []\n",
        "    with open(path) as file:\n",
        "        for line in file:\n",
        "          for word in line.split():\n",
        "            words.append(word)\n",
        "    file.close()\n",
        "    return words"
      ],
      "metadata": {
        "id": "RGKZecmfv6cV"
      },
      "execution_count": 3,
      "outputs": []
    },
    {
      "cell_type": "markdown",
      "source": [
        "*  Extraction of sentences from the dataset, seen as lists of words."
      ],
      "metadata": {
        "id": "MX_1WtejQmEI"
      }
    },
    {
      "cell_type": "code",
      "source": [
        "# Sentences in the training set \n",
        "train_sents = list_sents(\"gdrive/MyDrive/NLU_project/dataset/ptb.train.txt\")\n",
        "\n",
        "# Sentences in the test set \n",
        "test_sents = list_sents(\"gdrive/MyDrive/NLU_project/dataset/ptb.test.txt\")\n",
        "\n",
        "# Sentences in the validation set \n",
        "valid_sents = list_sents(\"gdrive/MyDrive/NLU_project/dataset/ptb.valid.txt\")"
      ],
      "metadata": {
        "id": "jr7OLwp3xKfg"
      },
      "execution_count": 4,
      "outputs": []
    },
    {
      "cell_type": "markdown",
      "source": [
        "*    Extraction of the list (and set) of words from the dataset."
      ],
      "metadata": {
        "id": "52tgZNFUQvrr"
      }
    },
    {
      "cell_type": "code",
      "source": [
        "# Words in the training set \n",
        "train_words_list = list_words(\"gdrive/MyDrive/NLU_project/dataset/ptb.train.txt\")\n",
        "train_words = set(train_words_list)\n",
        "\n",
        "# Words in the test set \n",
        "test_words_list = list_words(\"gdrive/MyDrive/NLU_project/dataset/ptb.test.txt\")\n",
        "test_words = set(test_words_list)\n",
        "\n",
        "# Words in the validation set \n",
        "valid_words_list = list_words(\"gdrive/MyDrive/NLU_project/dataset/ptb.valid.txt\")\n",
        "valid_words = set(valid_words_list)"
      ],
      "metadata": {
        "id": "oIXI5jw00Cnv"
      },
      "execution_count": 5,
      "outputs": []
    },
    {
      "cell_type": "markdown",
      "source": [
        "\n",
        "<br/>\n",
        "\n",
        "At this point some considerations can be made about the dataset, that are useful for the preprocessing as well as for the setting of the training procedure:\n",
        "\n",
        "-      all the words it contains are already **lowercased**\n",
        "-      it does not contain puctuation\n",
        "-      all the numbers have been replaced with the symbol \"**N**\"\n",
        "-      the training set, as well as the test and validation set, contain the special token **\\<unk\\>**. This means that this dataset has already been preprocessed and that the \\<unk\\> token is already applied in the corpus, because the maximum vocabulary size was previously fixed to **10k words**.\n"
      ],
      "metadata": {
        "id": "jXgIt8XqHAg8"
      }
    },
    {
      "cell_type": "code",
      "source": [
        "# The <unk> token is already contained\n",
        "print('<unk>' in train_words)\n",
        "\n",
        "# The numbers are replaced with N\n",
        "print('N' in train_words)"
      ],
      "metadata": {
        "colab": {
          "base_uri": "https://localhost:8080/"
        },
        "id": "2bxd_gnMJNbS",
        "outputId": "20fe6af2-5e09-4600-9bb3-0be9b9fcc4c1"
      },
      "execution_count": 6,
      "outputs": [
        {
          "output_type": "stream",
          "name": "stdout",
          "text": [
            "True\n",
            "True\n"
          ]
        }
      ]
    },
    {
      "cell_type": "markdown",
      "source": [
        "\n",
        "<br/>\n",
        "\n",
        "Another property that must be checked is the maximum length of the sentences in the training set. Indeed, since the Language Model is implemented through an RNN architecture, it's important to make sure the training sequences are not excessively long, otherwise the simple Backpropagation Through Time may suffer of vanishing or exploding gradients and a more sophisticated approach (Truncated BBTT) should be adopted to reduce the problem.\n",
        "\n",
        "It's easily verified that the maximum length of the sentences in the training set is 82. This guarantees that Backpropagation Through Time can be adopted without too serious consequences in the following steps.\n",
        "\n",
        "Also, the length of each sequence in **train_sents** is at least 1. Indeed, it is possibile to verify that none of the sentences has length 0 (which means that there are no empty lines in the .txt file), while many of them have length 1, and they correspond to sentences composed by one single word."
      ],
      "metadata": {
        "id": "XV96qY5OlsOO"
      }
    },
    {
      "cell_type": "code",
      "source": [
        "# The sequences with length values over 80 are few\n",
        "print(\"Maximum length reached in training set: \")\n",
        "max_len = -1\n",
        "for sent in train_sents:\n",
        "  if len(sent) > max_len:\n",
        "    max_len = len(sent)\n",
        "print(max_len)\n",
        "\n",
        "# The sequences with length values equal to 1 are a lot\n",
        "print(\"\\nNumber of sentences with length equal to 1 in training set: \")\n",
        "sent_equal_1 = 0\n",
        "for sent in train_sents:\n",
        "  if len(sent) == 1:\n",
        "    sent_equal_1 += 1\n",
        "print(sent_equal_1)\n",
        "\n",
        "# There are no sequences of length 0\n",
        "print(\"\\nNumber of sentences with length equal to 0 in training set: \")\n",
        "sent_equal_0 = 0\n",
        "for sent in train_sents:\n",
        "  if len(sent) == 0:\n",
        "    sent_equal_0 += 1\n",
        "print(sent_equal_0)"
      ],
      "metadata": {
        "colab": {
          "base_uri": "https://localhost:8080/"
        },
        "id": "Tenzi_DEnJWc",
        "outputId": "f3daad6f-cc01-464b-aba8-c538bedfff8a"
      },
      "execution_count": 7,
      "outputs": [
        {
          "output_type": "stream",
          "name": "stdout",
          "text": [
            "Maximum length reached in training set: \n",
            "82\n",
            "\n",
            "Number of sentences with length equal to 1 in training set: \n",
            "137\n",
            "\n",
            "Number of sentences with length equal to 0 in training set: \n",
            "0\n"
          ]
        }
      ]
    },
    {
      "cell_type": "markdown",
      "source": [
        "\n",
        "<br/>\n",
        "\n",
        "The same type of statistical analysis can be performed also on the validation and test sets. This can be useful to predict in advance, to some extent, whether the methods and techniques adopted for the training phase will work well also in the validation and test phases."
      ],
      "metadata": {
        "id": "SGSRO05fBQUQ"
      }
    },
    {
      "cell_type": "code",
      "source": [
        "# Length of sequences in test and validation sets, for statistical purposes\n",
        "\n",
        "print(\"Maximum length in validation set:\")\n",
        "max_len = -1\n",
        "for sent in valid_sents:\n",
        "  if len(sent) > max_len:\n",
        "    max_len = len(sent)\n",
        "print(max_len)\n",
        "\n",
        "print(\"\\n\")\n",
        "\n",
        "print(\"Maximum length in test set:\")\n",
        "max_len = -1\n",
        "for sent in test_sents:\n",
        "  if len(sent) > max_len:\n",
        "    max_len = len(sent)\n",
        "print(max_len)"
      ],
      "metadata": {
        "colab": {
          "base_uri": "https://localhost:8080/"
        },
        "id": "ZQHtFDkeBOiX",
        "outputId": "e6eee1f9-a797-4e28-918d-82a1a02f6378"
      },
      "execution_count": 8,
      "outputs": [
        {
          "output_type": "stream",
          "name": "stdout",
          "text": [
            "Maximum length in validation set:\n",
            "74\n",
            "\n",
            "\n",
            "Maximum length in test set:\n",
            "77\n"
          ]
        }
      ]
    },
    {
      "cell_type": "markdown",
      "source": [
        "\n",
        "<br/>\n",
        "\n",
        "It may be interesting to plot the histograms that show graphically the frequencies of the various sequence lengths, from the minimal of 0 to the maximal one (defined according to the results previously obtained for the three cases). \n",
        "\n",
        "The obtained graphs, that follow a \"bell curve\" shape, clearly show that in all cases the **most frequent sequence length** corresponds to a value **between 15 and 20**, and **most sentences** are characterized by a length value that is **below 25**."
      ],
      "metadata": {
        "id": "BvHGO7RLZG9S"
      }
    },
    {
      "cell_type": "code",
      "source": [
        "# Training set \n",
        "\n",
        "lengths = list(range(1, 83))\n",
        "frequencies = [0 for i in lengths]\n",
        "for sent in train_sents:\n",
        "  frequencies[len(sent)-1] += 1\n",
        "\n",
        "pos = np.arange(1, 86, 5)\n",
        "width = 0.5  \n",
        "lens = list(range(1, 86, 5))\n",
        "\n",
        "ax = plt.axes()\n",
        "ax.set_xticks(pos + (width / 2))\n",
        "ax.set_xticklabels(lens)\n",
        "ax.set_xlabel(r'Sentence length')\n",
        "ax.set_ylabel(r'Frequence in the training set')\n",
        "\n",
        "plt.bar(lengths, frequencies, width, color='r')\n",
        "plt.show()\n",
        "\n",
        "# Test set\n",
        "\n",
        "lengths = list(range(1, 78))\n",
        "frequencies = [0 for i in lengths]\n",
        "for sent in test_sents:\n",
        "  frequencies[len(sent)-1] += 1\n",
        "\n",
        "pos = np.arange(1, 81, 5)\n",
        "width = 0.5  \n",
        "lens = list(range(1, 81, 5))\n",
        "\n",
        "ax = plt.axes()\n",
        "ax.set_xticks(pos + (width / 2))\n",
        "ax.set_xticklabels(lens)\n",
        "ax.set_xlabel(r'Sentence length')\n",
        "ax.set_ylabel(r'Frequence in the test set')\n",
        "\n",
        "plt.bar(lengths, frequencies, width, color='b')\n",
        "plt.show()\n",
        "\n",
        "\n",
        "# Validation set \n",
        "\n",
        "lengths = list(range(1, 75))\n",
        "frequencies = [0 for i in lengths]\n",
        "for sent in valid_sents:\n",
        "  frequencies[len(sent)-1] += 1\n",
        "\n",
        "pos = np.arange(1, 76, 5)\n",
        "width = 0.5  \n",
        "lens = list(range(1, 76, 5))\n",
        "\n",
        "ax = plt.axes()\n",
        "ax.set_xticks(pos + (width / 2))\n",
        "ax.set_xticklabels(lens)\n",
        "ax.set_xlabel(r'Sentence length')\n",
        "ax.set_ylabel(r'Frequence in the validation set')\n",
        "\n",
        "plt.bar(lengths, frequencies, width, color='g')\n",
        "plt.show()"
      ],
      "metadata": {
        "colab": {
          "base_uri": "https://localhost:8080/",
          "height": 803
        },
        "id": "jvKy7bNRoaZB",
        "outputId": "230f7e5d-2050-48f8-c663-4451eb750e05"
      },
      "execution_count": 10,
      "outputs": [
        {
          "output_type": "display_data",
          "data": {
            "text/plain": [
              "<Figure size 432x288 with 1 Axes>"
            ],
            "image/png": "[encoded data removed]"
          },
          "metadata": {
            "needs_background": "light"
          }
        },
        {
          "output_type": "display_data",
          "data": {
            "text/plain": [
              "<Figure size 432x288 with 1 Axes>"
            ],
            "image/png": "[encoded data removed]"
          },
          "metadata": {
            "needs_background": "light"
          }
        },
        {
          "output_type": "display_data",
          "data": {
            "text/plain": [
              "<Figure size 432x288 with 1 Axes>"
            ],
            "image/png": "[encoded data removed]"
          },
          "metadata": {
            "needs_background": "light"
          }
        }
      ]
    },
    {
      "cell_type": "markdown",
      "source": [
        "\n",
        "<br/>\n",
        "\n",
        "\n",
        "A fundamental value that must be taken into account for the definition of the capacity (and hence the number of parameters/layers/units of the model) is the **dimension of the training set**. The more samples are contained in the training set, the easiest it is to avoid overfitting (with properly adopted regularization methods), while maintaining a fixed number of parameters in the architectural framework. "
      ],
      "metadata": {
        "id": "-f-95P4GRhV_"
      }
    },
    {
      "cell_type": "code",
      "source": [
        "# Number of samples in the training set\n",
        "print(\"Train: \", len(train_sents), \"\\n\")\n",
        "\n",
        "# Number of samples in the test set\n",
        "print(\"Test: \", len(test_sents), \"\\n\")\n",
        "\n",
        "# Number of samples in the validation set\n",
        "print(\"Valid: \", len(valid_sents), \"\\n\")"
      ],
      "metadata": {
        "colab": {
          "base_uri": "https://localhost:8080/"
        },
        "id": "_8gbiU47SnW0",
        "outputId": "12ca2213-9820-4dfe-cc31-c9fb616a75fe"
      },
      "execution_count": 11,
      "outputs": [
        {
          "output_type": "stream",
          "name": "stdout",
          "text": [
            "Train:  42068 \n",
            "\n",
            "Test:  3761 \n",
            "\n",
            "Valid:  3370 \n",
            "\n"
          ]
        }
      ]
    },
    {
      "cell_type": "markdown",
      "source": [
        "\n",
        "<br/>\n",
        "\n",
        "\n",
        "\n",
        "Additionally to the aforementioned points, it's important to notice that **there are no OOV words** in the test and validation sets, that is, all the words belonging to the test and validation sets already belong to the training set. \n",
        "\n",
        "This implies that, in order to define a reference vocabulary, it suffices to **consider just the words contained in the training set**.\n",
        "\n",
        "The total number of words contained in the training set is **9999**."
      ],
      "metadata": {
        "id": "e7NVQAITKPCw"
      }
    },
    {
      "cell_type": "code",
      "source": [
        "print(\"Test words set is contained in training words set: \") \n",
        "print(test_words.issubset(train_words), \"\\n\")\n",
        "\n",
        "print(\"Validation words set is contained in training words set : \")\n",
        "print(valid_words.issubset(train_words), \"\\n\")\n",
        "\n",
        "# Number of words in the training set\n",
        "print(\"Total number of words in the training set: \", len(train_words))\n"
      ],
      "metadata": {
        "colab": {
          "base_uri": "https://localhost:8080/"
        },
        "id": "6HTcRgNGKwau",
        "outputId": "eb8592b0-283b-4893-a20f-d0e2ecaa5564"
      },
      "execution_count": 12,
      "outputs": [
        {
          "output_type": "stream",
          "name": "stdout",
          "text": [
            "Test words set is contained in training words set: \n",
            "True \n",
            "\n",
            "Validation words set is contained in training words set : \n",
            "True \n",
            "\n",
            "Total number of words in the training set:  9999\n"
          ]
        }
      ]
    },
    {
      "cell_type": "markdown",
      "source": [
        "\n",
        "<br/>\n",
        "\n",
        "\n",
        "The **50 most frequent words** for the tree sets of the dataset are now computed. \n",
        "\n",
        "It is possible to notice that, along with the most common prepositions, such as \"the\" and \"of\", the special tokens **\"N\"** and \"**\\<unk\\>**\" correspond to the words that appear most frequently."
      ],
      "metadata": {
        "id": "gVI-igNAHBPe"
      }
    },
    {
      "cell_type": "code",
      "source": [
        "# Training set \n",
        "\n",
        "training_freqdist = nltk.FreqDist(train_words_list)\n",
        "print(\"First 50 words of the training Frequency Dictionary: \")\n",
        "print(dict(sorted(training_freqdist.items(), key=lambda item: item[1], reverse=True)[:50]), '\\n')\n",
        "\n",
        "# Test set \n",
        "\n",
        "test_freqdist = nltk.FreqDist(test_words_list)\n",
        "print(\"First 50 words of the test Frequency Dictionary: \")\n",
        "print(dict(sorted(test_freqdist.items(), key=lambda item: item[1], reverse=True)[:50]), '\\n')\n",
        "\n",
        "# Validation set \n",
        "\n",
        "valid_freqdist = nltk.FreqDist(valid_words_list)\n",
        "print(\"First 50 words of the validation Frequency Dictionary: \")\n",
        "print(dict(sorted(valid_freqdist.items(), key=lambda item: item[1], reverse=True)[:50]), '\\n')"
      ],
      "metadata": {
        "id": "1uidO7oxHAPU",
        "colab": {
          "base_uri": "https://localhost:8080/"
        },
        "outputId": "bdef6727-a662-4b37-c790-0f9703484414"
      },
      "execution_count": 13,
      "outputs": [
        {
          "output_type": "stream",
          "name": "stdout",
          "text": [
            "First 50 words of the training Frequency Dictionary: \n",
            "{'the': 50770, '<unk>': 45020, 'N': 32481, 'of': 24400, 'to': 23638, 'a': 21196, 'in': 18000, 'and': 17474, \"'s\": 9784, 'that': 8931, 'for': 8927, '$': 7541, 'is': 7337, 'it': 6112, 'said': 6027, 'on': 5650, 'by': 4915, 'at': 4894, 'as': 4833, 'from': 4724, 'million': 4627, 'with': 4585, 'mr.': 4326, 'was': 4073, 'be': 3923, 'are': 3914, 'its': 3846, 'he': 3632, 'but': 3541, 'has': 3494, 'an': 3477, \"n't\": 3388, 'will': 3270, 'have': 3245, 'new': 2793, 'or': 2704, 'company': 2680, 'they': 2562, 'this': 2438, 'year': 2379, 'which': 2362, 'would': 2308, 'about': 2220, 'says': 2092, 'more': 2065, 'were': 2009, 'market': 2005, 'billion': 1881, 'his': 1852, 'had': 1850} \n",
            "\n",
            "First 50 words of the test Frequency Dictionary: \n",
            "{'<unk>': 4794, 'the': 4529, 'N': 2523, 'of': 2195, 'to': 2042, 'a': 1821, 'in': 1640, 'and': 1539, \"'s\": 903, 'that': 831, 'for': 783, 'is': 667, 'said': 601, '$': 564, 'it': 542, 'on': 507, 'as': 461, 'by': 450, 'at': 420, 'with': 405, 'its': 393, 'was': 391, 'be': 384, 'are': 365, 'from': 355, 'million': 348, \"n't\": 335, 'but': 335, 'mr.': 319, 'have': 309, 'he': 302, 'market': 300, 'has': 296, 'will': 294, 'an': 260, 'about': 258, 'this': 255, 'company': 227, 'or': 220, 'they': 220, 'new': 219, 'year': 214, 'were': 203, 'which': 202, 'more': 198, 'would': 189, 'u.s.': 179, 'stock': 175, 'had': 175, 'than': 173} \n",
            "\n",
            "First 50 words of the validation Frequency Dictionary: \n",
            "{'the': 4122, '<unk>': 3485, 'N': 2603, 'of': 1832, 'to': 1750, 'a': 1738, 'in': 1392, 'and': 1391, \"'s\": 868, 'for': 726, '$': 659, 'that': 657, 'it': 537, 'is': 529, 'said': 513, 'on': 486, 'at': 453, 'was': 436, 'as': 402, 'with': 364, 'from': 356, 'million': 356, 'market': 342, 'by': 340, 'its': 331, 'but': 316, 'mr.': 304, \"n't\": 283, 'he': 283, 'be': 279, 'an': 257, 'has': 250, 'are': 248, 'or': 245, 'new': 239, 'have': 232, 'says': 217, 'stock': 216, 'will': 202, 'were': 202, 'would': 198, 'which': 192, 'had': 192, 'about': 190, 'they': 180, 'company': 170, 'up': 163, 'more': 160, 'year': 160, 'trading': 159} \n",
            "\n"
          ]
        }
      ]
    },
    {
      "cell_type": "markdown",
      "source": [
        "\n",
        "<br/>\n",
        "\n",
        "### Definition of the vocabulary\n",
        "\n",
        "The vocabulary is defined as an instance of the class **Vocab**, and it is composed by two dictionaries that map each word from the dataset to a particular index and viceversa.\n",
        "\n",
        "As mentioned before, it suffices to consider the words contained in the training set, since it contains also all the words from the test and validation sets. Additionally to these ones, the dictionary also contains two special tokens:\n",
        "\n",
        "*  **'pad'**, that is the padding token (which is defined as \"0\"), that will be useful for constructing the batches in the following steps;\n",
        "*  **'\\</s\\>'**, the end-of-sentence token, which is added at the end of each sentence of the datasets before the construction of the batches. \n"
      ],
      "metadata": {
        "id": "o5gEzpPGkn3M"
      }
    },
    {
      "cell_type": "code",
      "source": [
        "class Vocab():\n",
        "\n",
        "    def __init__(self, words):\n",
        "        self.word2id = self.w2id(words)\n",
        "        self.id2word = {v:k for k, v in self.word2id.items()}\n",
        "        \n",
        "    def w2id(self, elements):\n",
        "        vocab = {'pad': PAD_TOKEN, '</s>': 1}\n",
        "        for w in list(elements):\n",
        "          if w not in vocab:\n",
        "            vocab[w] = len(vocab)\n",
        "        return vocab\n",
        "\n",
        "\n",
        "# Creation of the vocabulary containing all the words in training, test and validation sets\n",
        "vocab = Vocab(train_words_list)"
      ],
      "metadata": {
        "id": "6eY7bU4Vkq4z"
      },
      "execution_count": 6,
      "outputs": []
    },
    {
      "cell_type": "markdown",
      "source": [
        "\n",
        "<br/>\n",
        "\n",
        "The dimension of the two dictionaries is hence 9999 + 1 + 1 = **10001**."
      ],
      "metadata": {
        "id": "KyHxIzKxSrHO"
      }
    },
    {
      "cell_type": "code",
      "source": [
        "print(len(vocab.id2word))\n",
        "print(len(vocab.word2id))"
      ],
      "metadata": {
        "colab": {
          "base_uri": "https://localhost:8080/"
        },
        "id": "Id_xtdtVFqAa",
        "outputId": "48d229d9-d5e8-43b6-b5cf-34a73ca7d846"
      },
      "execution_count": 15,
      "outputs": [
        {
          "output_type": "stream",
          "name": "stdout",
          "text": [
            "10001\n",
            "10001\n"
          ]
        }
      ]
    },
    {
      "cell_type": "markdown",
      "source": [
        "\n",
        "<br/>\n",
        "\n",
        "## <center>First baseline: N-gram statistical language models</center>\n",
        "\n",
        "In order to better evaluate the results that will be obtained through the Neural Language Model, a statistical baseline is implemented through three **n-gram Language Models** and considered as a starting point reference."
      ],
      "metadata": {
        "id": "xKizraQYygRV"
      }
    },
    {
      "cell_type": "code",
      "source": [
        "# Preparation of test data \n",
        "\n",
        "from nltk.lm.preprocessing import pad_both_ends\n",
        "\n",
        "test_sentences_padding_2 = [w for sent in test_sents for w in list(pad_both_ends(sent, n=2))]\n",
        "test_sentences_padding_3 = [w for sent in test_sents for w in list(pad_both_ends(sent, n=3))]\n",
        "\n",
        "test_ngrams_padding = {}\n",
        "test_ngrams_padding[2] = list(nltk.bigrams(test_sentences_padding_2))\n",
        "test_ngrams_padding[3] = list(nltk.trigrams(test_sentences_padding_3))"
      ],
      "metadata": {
        "id": "s8YfYVH6ymEc"
      },
      "execution_count": null,
      "outputs": []
    },
    {
      "cell_type": "markdown",
      "source": [
        "Training and evaluation of 2-gram and 3-gram Language Models:\n",
        "\n",
        "* MLE\n",
        "* Laplace\n",
        "* Lidstone\n",
        "\n",
        "It is possible to verify that the result are not outstanding, and the **bigram** Language Models (~ 900 in test perplexity) behave better with respect to the **trigram** Language Models (~ 3000 in test perplexity) in this setting."
      ],
      "metadata": {
        "id": "o5N5QzTi_hRs"
      }
    },
    {
      "cell_type": "code",
      "source": [
        "from nltk.lm.preprocessing import padded_everygram_pipeline\n",
        "\n",
        "from nltk.lm import MLE, Laplace, Lidstone\n",
        "\n",
        "print(\"MLE: \\n\")\n",
        "\n",
        "for ngram_size in [2,3]:\n",
        "\n",
        "    print(\"n-gram size: \", ngram_size, \"\\n\")\n",
        "    \n",
        "    # Preparation of training data\n",
        "    padded_ngrams, flat_text = list(padded_everygram_pipeline(ngram_size, train_sents))\n",
        "    \n",
        "    mle_lm = MLE(ngram_size)\n",
        "    mle_lm.fit(padded_ngrams, flat_text)\n",
        "    print(\"MLE ngram counts: \", mle_lm.counts)\n",
        "    print(\"MLE entropy: \", mle_lm.entropy(test_ngrams_padding[ngram_size]))\n",
        "    print(\"MLE perplexity: \", mle_lm.perplexity(test_ngrams_padding[ngram_size]))\n",
        "    print(\"\\n\")\n",
        "\n",
        "\n",
        "print(\"Laplace: \\n\")\n",
        "\n",
        "for ngram_size in [2,3]:\n",
        "\n",
        "    print(\"n-gram size: \", ngram_size, \"\\n\")\n",
        "    \n",
        "    padded_ngrams, flat_text = list(padded_everygram_pipeline(ngram_size, train_sents))\n",
        "    \n",
        "    # 1) Laplace\n",
        "    laplace_lm = Laplace(ngram_size)\n",
        "    laplace_lm.fit(padded_ngrams, flat_text)\n",
        "    print(\"Laplace ngram counts: \", laplace_lm.counts)\n",
        "    print(\"Laplace entropy: \", laplace_lm.entropy(test_ngrams_padding[ngram_size]))\n",
        "    print(\"Laplace perplexity: \", laplace_lm.perplexity(test_ngrams_padding[ngram_size]))\n",
        "    print(\"\\n\")\n",
        "\n",
        "\n",
        "print(\"Lidstone: \\n\")\n",
        "\n",
        "for ngram_size in [2,3]:\n",
        "\n",
        "    print(\"n-gram size: \", ngram_size, \"\\n\")\n",
        "\n",
        "    padded_ngrams, flat_text = list(padded_everygram_pipeline(ngram_size, train_sents))\n",
        "    \n",
        "    # 2) Lidstone\n",
        "    # also requires gamma parameter\n",
        "    lidstone_lm = Lidstone(order=ngram_size, gamma=1)\n",
        "    lidstone_lm.fit(padded_ngrams, flat_text)\n",
        "    print(\"Lidstone ngram counts: \", lidstone_lm.counts)\n",
        "    print(\"Lidstone entropy: \", lidstone_lm.entropy(test_ngrams_padding[ngram_size]))\n",
        "    print(\"Lidstone perplexity: \", lidstone_lm.perplexity(test_ngrams_padding[ngram_size]))\n",
        "    print(\"\\n\")"
      ],
      "metadata": {
        "colab": {
          "base_uri": "https://localhost:8080/"
        },
        "id": "bFAVwOtB18Na",
        "outputId": "0605e389-43e9-410d-afbe-2036b075b5b9"
      },
      "execution_count": null,
      "outputs": [
        {
          "output_type": "stream",
          "name": "stdout",
          "text": [
            "MLE: \n",
            "\n",
            "n-gram size:  2 \n",
            "\n",
            "MLE ngram counts:  <NgramCounter with 2 ngram orders and 1901246 ngrams>\n",
            "MLE entropy:  inf\n",
            "MLE perplexity:  inf\n",
            "\n",
            "\n",
            "n-gram size:  3 \n",
            "\n",
            "MLE ngram counts:  <NgramCounter with 3 ngram orders and 3041175 ngrams>\n",
            "MLE entropy:  inf\n",
            "MLE perplexity:  inf\n",
            "\n",
            "\n",
            "Laplace: \n",
            "\n",
            "n-gram size:  2 \n",
            "\n",
            "Laplace ngram counts:  <NgramCounter with 2 ngram orders and 1901246 ngrams>\n",
            "Laplace entropy:  9.843858866753022\n",
            "Laplace perplexity:  918.9603891637692\n",
            "\n",
            "\n",
            "n-gram size:  3 \n",
            "\n",
            "Laplace ngram counts:  <NgramCounter with 3 ngram orders and 3041175 ngrams>\n",
            "Laplace entropy:  11.667129359774286\n",
            "Laplace perplexity:  3252.0401633846063\n",
            "\n",
            "\n",
            "Lidstone: \n",
            "\n",
            "n-gram size:  2 \n",
            "\n",
            "Lidstone ngram counts:  <NgramCounter with 2 ngram orders and 1901246 ngrams>\n",
            "Lidstone entropy:  9.843858866753022\n",
            "Lidstone perplexity:  918.9603891637692\n",
            "\n",
            "\n",
            "n-gram size:  3 \n",
            "\n",
            "Lidstone ngram counts:  <NgramCounter with 3 ngram orders and 3041175 ngrams>\n",
            "Lidstone entropy:  11.667129359774286\n",
            "Lidstone perplexity:  3252.0401633846063\n",
            "\n",
            "\n"
          ]
        }
      ]
    },
    {
      "cell_type": "markdown",
      "source": [
        "\n",
        "<br/>\n",
        "\n",
        "## <center>Dataset and Dataloader</center>\n",
        "\n",
        "The code used for the definition of the datasets and dataloaders was inspired and adapted from the *10_sequence_nn.ipynb* Notebook explained during the lectures of the course."
      ],
      "metadata": {
        "id": "_j1FMJh4a8ky"
      }
    },
    {
      "cell_type": "code",
      "source": [
        "\"\"\"\n",
        "Function that returns all the sentences in the txt from the input path, \n",
        "with the addition of the end-of-sequence token </s>.\n",
        "\n",
        ":param path: path to the txt dataset\n",
        ":return sents: list of all sentences, each one ending with </s>\n",
        "\"\"\"\n",
        "def list_sents_eos(path):\n",
        "    sents = []\n",
        "    with open(path) as file:\n",
        "        for line in file:\n",
        "          sent = line.split()\n",
        "          sent.insert(len(sent), '</s>')\n",
        "          sents.append(sent)\n",
        "    file.close()\n",
        "    return sents\n",
        "\n",
        "# Sentences in the training set, with the end-of-sentence token </s>\n",
        "train_data = list_sents_eos(\"gdrive/MyDrive/NLU_project/dataset/ptb.train.txt\")\n",
        "\n",
        "# Sentences in the test set, with the end-of-sentence token </s>\n",
        "test_data = list_sents_eos(\"gdrive/MyDrive/NLU_project/dataset/ptb.test.txt\")\n",
        "\n",
        "# Sentences in the validation set, with the end-of-sentence token </s>\n",
        "valid_data = list_sents_eos(\"gdrive/MyDrive/NLU_project/dataset/ptb.valid.txt\")"
      ],
      "metadata": {
        "id": "kaM9yuvoERUq"
      },
      "execution_count": 7,
      "outputs": []
    },
    {
      "cell_type": "markdown",
      "source": [
        "\n",
        "<br/>\n",
        "\n",
        "### Definition of the datasets\n",
        "\n",
        "The datasets are defined as instances of the class **SentsDataset**, and their elements are tensors, each one corresponding to a particular sentence, containing the numerical indexes to which each original word is mapped through the **vocab** dictionary maps."
      ],
      "metadata": {
        "id": "HuQi0YtUI3yL"
      }
    },
    {
      "cell_type": "code",
      "source": [
        "class SentsDataset(data.Dataset):\n",
        "\n",
        "    def __init__(self, dataset, vocab):\n",
        "        self.sentences = dataset\n",
        "        self.sents_ids = self.mapping_seq(self.sentences, vocab.word2id)\n",
        "\n",
        "    def __len__(self):\n",
        "        return len(self.sentences)\n",
        "\n",
        "    def __getitem__(self, idx):\n",
        "        sent = torch.Tensor(self.sents_ids[idx])\n",
        "        return sent\n",
        "    \n",
        "    # Auxiliary method\n",
        "    def mapping_seq(self, data, mapper): # Map sequences to number\n",
        "        res = []\n",
        "        for seq in data:\n",
        "            tmp_seq = []\n",
        "            for x in seq:\n",
        "                tmp_seq.append(mapper[x])\n",
        "            res.append(tmp_seq)\n",
        "        return res\n",
        "\n",
        "\n",
        "# Training dataset\n",
        "train_dataset = SentsDataset(train_data, vocab)\n",
        "\n",
        "# Validation dataset\n",
        "valid_dataset = SentsDataset(valid_data, vocab)\n",
        "\n",
        "# Test dataset\n",
        "test_dataset = SentsDataset(test_data, vocab)"
      ],
      "metadata": {
        "id": "HAYf3prdM0kK"
      },
      "execution_count": 8,
      "outputs": []
    },
    {
      "cell_type": "markdown",
      "source": [
        "\n",
        "<br/>\n",
        "\n",
        "### Definition of the dataloaders\n",
        "\n",
        "The **Dataloader** class is needed in order to split the data into batches and add padding. Padding is a strategy used to fit sequences of different lengths into a matrix.\n",
        " \n",
        "```python\n",
        "DataLoader(Dataset, batch_size=N, collate_fn={custom function}, shuffle=True)\n",
        "```\n",
        "\n",
        "The Dataloader provides batches containing all the same number of sentences, and the batch size is fixed when the Dataloader is first defined. For what concerns the second dimension, it can vary from batch to batch and it corresponds to the **length of the longest sentence in the batch** itself. \n",
        "The sentences within a single batch are ordered according to their length, from the longest one to the shortest, and padding is performed through the **'pad'** token on the right of the sentences whose length is lower than **max_len**.\n",
        "\n",
        "In order to customize the shape and composition of the output, an appropriate *collate_fn* function is defined. "
      ],
      "metadata": {
        "id": "z5hSouir7Yrf"
      }
    },
    {
      "cell_type": "code",
      "source": [
        "def collate_fn(sents):\n",
        "\n",
        "    def merge(sequences):\n",
        "        \"\"\"\n",
        "        Function used to merge from batch * sent_len to batch * max_len\n",
        "        \"\"\"\n",
        "        lengths = [len(seq) for seq in sequences]\n",
        "        max_len = 1 if max(lengths)==0 else max(lengths)\n",
        "        padded_seqs = torch.LongTensor(len(sequences),max_len).fill_(PAD_TOKEN)\n",
        "        # The matrix is filled with PAD_TOKENS \n",
        "        # And then each sentence is copied into the matrix\n",
        "        for i, seq in enumerate(sequences):\n",
        "            end = lengths[i]\n",
        "            padded_seqs[i, :end] = seq # We copy each sequence into the matrix\n",
        "        padded_seqs = padded_seqs.detach()  # We remove these tensors from the computational graph\n",
        "\n",
        "        return padded_seqs, lengths\n",
        "\n",
        "    # Sort data by seq lengths\n",
        "    sents.sort(key=lambda s: len(s), reverse=True) \n",
        "\n",
        "    # Input sequences\n",
        "    sents_in = [s[:-1] for s in sents]\n",
        "    # Output (target) sequences\n",
        "    sents_out = [s[1:] for s in sents]\n",
        "\n",
        "    # The sequence length is the same in both cases\n",
        "    padded_in, seq_lengths = merge(sents_in)\n",
        "    padded_out, _ = merge(sents_out)\n",
        "\n",
        "    # Length of input/output\n",
        "    seq_lengths = torch.LongTensor(seq_lengths).to(device)\n",
        "\n",
        "    return (padded_in, padded_out, seq_lengths)"
      ],
      "metadata": {
        "id": "obbF5mNQ7ePW"
      },
      "execution_count": 9,
      "outputs": []
    },
    {
      "cell_type": "markdown",
      "source": [
        "The **batch_size** is set to **64** for both the training and evaluation phases. This value has shown to work well empirically for the considered task: it allows for a both fast and stable training procedure."
      ],
      "metadata": {
        "id": "uNLbAGoUfuTG"
      }
    },
    {
      "cell_type": "code",
      "source": [
        "# Definition of the dataloaders\n",
        "batch_size = 64\n",
        "\n",
        "# Training dataloader\n",
        "train_loader = DataLoader(train_dataset, batch_size=batch_size, collate_fn=collate_fn,  shuffle=True)\n",
        "\n",
        "# Validation dataloader\n",
        "valid_loader = DataLoader(valid_dataset, batch_size=batch_size, collate_fn=collate_fn)\n",
        "\n",
        "# Test dataloader\n",
        "test_loader = DataLoader(test_dataset, batch_size=batch_size, collate_fn=collate_fn)"
      ],
      "metadata": {
        "id": "7GhqP_EtfpfX"
      },
      "execution_count": 10,
      "outputs": []
    },
    {
      "cell_type": "markdown",
      "source": [
        "\n",
        "<br/>\n",
        "\n",
        "## <center>Baseline Neural Models</center>"
      ],
      "metadata": {
        "id": "G65lBDgilXrK"
      }
    },
    {
      "cell_type": "markdown",
      "source": [
        "\n",
        "<br/>\n",
        "\n",
        "### Definition of the baseline models\n",
        "\n",
        "Two baseline **Neural Language Models** are defined and evaluated: a simple RNN architecture with a Vanilla RNN cell, and the same architecture with an LSTM cell in substitution of the Vanilla cell. \n",
        "The LSTM provides some improvements in the training phase with respect to the simple Vanilla cell, since it allows to significantly reduce the issue of **vanishing and exploding gradients**, that make the training slower and more difficult. \n",
        "\n",
        "They are composed of the following modules:\n",
        "\n",
        "* **Simple RNN**: \n",
        "    -   embedding layer \n",
        "    -   vanilla RNN cell \n",
        "    -   linear decoder layer \n",
        "* **LSTM**:  \n",
        "    -   embedding layer \n",
        "    -   LSTM cell \n",
        "    -   linear decoder layer \n"
      ],
      "metadata": {
        "id": "Ht6Lf3ZniW43"
      }
    },
    {
      "cell_type": "code",
      "source": [
        "class Baseline_NLM(nn.Module):\n",
        "\n",
        "    def __init__(self, hid_size, emb_size, vocab_len, lstm = False, n_layer = 1, pad_index = 0):\n",
        "\n",
        "        super(Baseline_NLM, self).__init__()  \n",
        "\n",
        "        # Word embedding \n",
        "        self.embedding = nn.Embedding(vocab_len, emb_size, padding_idx=pad_index)\n",
        "        \n",
        "        if lstm:\n",
        "          # We set bidirectionality to false, so the LSTM is one-directional \n",
        "          self.rnn = nn.LSTM(emb_size, hid_size, n_layer, bidirectional=False) \n",
        "        else:\n",
        "          self.rnn = nn.RNN(emb_size, hid_size, n_layer)   \n",
        "\n",
        "        # Output layer\n",
        "        self.decoder = nn.Linear(hid_size, vocab_len)\n",
        "        \n",
        "    def forward(self, sentences, seq_lengths):\n",
        "\n",
        "        # sentences: (batch_size, seq_len)\n",
        "        sents_emb = self.embedding(sentences) \n",
        "        # sents_emb: (batch_size, seq_len, emb_size)\n",
        "\n",
        "        # Swap the matrix in order to have dimensions setted in another way:\n",
        "        # We need seq len first -> permute\n",
        "        sents_emb = sents_emb.permute(1,0,2) \n",
        "        # sents_emb: (seq_len, batch_size, emb_size)\n",
        "        \n",
        "        # Compression\n",
        "        # pack_padded_sequence avoids computation over pad tokens reducing the computational cost\n",
        "        packed_input = pack_padded_sequence(sents_emb, seq_lengths.cpu().numpy())\n",
        "\n",
        "        # Process the batch through the RNN layer\n",
        "        packed_output, _ = self.rnn(packed_input) \n",
        "\n",
        "        # Unpack the sequence: decompression\n",
        "        padded_output, _ = pad_packed_sequence(packed_output)\n",
        "\n",
        "        # Get the output\n",
        "        out = self.decoder(padded_output)\n",
        "\n",
        "        # Swap the output in order to have dimensions setted correctly for the loss\n",
        "        out = out.permute(1,0,2).contiguous()\n",
        "        out = out.view(-1, out.shape[-1])\n",
        "        # out: (batch_size * seq_len, vocab_len)\n",
        "\n",
        "        return out"
      ],
      "metadata": {
        "id": "Uk_-uVbBnIx2"
      },
      "execution_count": 17,
      "outputs": []
    },
    {
      "cell_type": "markdown",
      "source": [
        "\n",
        "<br/>\n",
        "\n",
        "### Function to randomly initialize the weights of the architecture\n",
        "\n",
        "Weight initialization is an essential procedure that allows to stabilize the training phase. "
      ],
      "metadata": {
        "id": "xMUIEPcTs18n"
      }
    },
    {
      "cell_type": "code",
      "source": [
        "def init_weights(mat):\n",
        "    for m in mat.modules():\n",
        "        if type(m) in [nn.LSTM, nn.RNN]:\n",
        "            for name, param in m.named_parameters():\n",
        "                if 'weight_ih' in name:\n",
        "                    for idx in range(4):\n",
        "                        mul = param.shape[0]//4\n",
        "                        torch.nn.init.xavier_uniform_(param[idx*mul:(idx+1)*mul])\n",
        "                elif 'weight_hh' in name:\n",
        "                    for idx in range(4):\n",
        "                        mul = param.shape[0]//4\n",
        "                        torch.nn.init.orthogonal_(param[idx*mul:(idx+1)*mul])\n",
        "                elif 'bias' in name:\n",
        "                    param.data.fill_(0.00)\n",
        "        else:\n",
        "            if type(m) in [nn.Linear]:\n",
        "                torch.nn.init.uniform_(m.weight, -0.1, 0.1)\n",
        "                if m.bias != None:\n",
        "                    m.bias.data.fill_(0.01)\n",
        "            if type(m) in [nn.Embedding]:\n",
        "                torch.nn.init.uniform_(m.weight, -0.1, 0.1)"
      ],
      "metadata": {
        "id": "18uY9IuksyZr"
      },
      "execution_count": 11,
      "outputs": []
    },
    {
      "cell_type": "markdown",
      "source": [
        "\n",
        "<br/>\n",
        "\n",
        "### Training loop"
      ],
      "metadata": {
        "id": "qPsZBhhUznD0"
      }
    },
    {
      "cell_type": "code",
      "source": [
        "def train_loop_baseline(data_loader, optimizer, cost_function, model, device = 'cuda:0'):\n",
        "\n",
        "    # Set the model in training mode\n",
        "    model.train()\n",
        "\n",
        "    # Cumulative loss values obtained for each batch\n",
        "    loss_sum_array = []\n",
        "\n",
        "    # Total number of words in the batch\n",
        "    num_words_array = []\n",
        "\n",
        "    # Iterate over the training set\n",
        "    for batch_idx, (inputs, targets, lengths) in enumerate(data_loader):\n",
        "\n",
        "        # Load data into GPU\n",
        "        inputs = inputs.to(device)\n",
        "        targets = targets.to(device)\n",
        "          \n",
        "        # Gradients reset\n",
        "        optimizer.zero_grad()\n",
        "\n",
        "        # Forward pass\n",
        "        outputs = model(inputs, lengths)\n",
        "\n",
        "        # Loss computation\n",
        "        loss = cost_function(outputs,targets.view(-1))\n",
        "\n",
        "        # Update of the loss array and number of words array\n",
        "        loss_sum_array.append(loss.item())\n",
        "        num_words_array.append((torch.sum(lengths)).item())\n",
        "\n",
        "        # Backward pass\n",
        "        loss.backward()\n",
        "        \n",
        "        # Parameters update\n",
        "        optimizer.step()\n",
        "      \n",
        "    return loss_sum_array, num_words_array"
      ],
      "metadata": {
        "id": "CaVFATU0zwcQ"
      },
      "execution_count": 18,
      "outputs": []
    },
    {
      "cell_type": "markdown",
      "source": [
        "\n",
        "<br/>\n",
        "\n",
        "### Evaluation loop"
      ],
      "metadata": {
        "id": "Tima3RyW7cjI"
      }
    },
    {
      "cell_type": "code",
      "source": [
        "def eval_loop_baseline(data_loader, cost_function, model, device = 'cuda:0'):\n",
        "\n",
        "  # Set the network to evaluation mode\n",
        "  model.eval() \n",
        "\n",
        "  # Cumulative loss values obtained for each batch\n",
        "  loss_sum_array = []\n",
        "\n",
        "  # Total number of words in the batch\n",
        "  num_words_array = []\n",
        "\n",
        "  # Disable gradient computation \n",
        "  with torch.no_grad():\n",
        "\n",
        "    # Iterate over the test set\n",
        "    for batch_idx, (inputs, targets, lengths) in enumerate(data_loader):\n",
        "      \n",
        "        # Load data into GPU\n",
        "        inputs = inputs.to(device)\n",
        "        targets = targets.to(device)\n",
        "          \n",
        "        # Forward pass\n",
        "        outputs = model(inputs, lengths)\n",
        "\n",
        "        # Loss computation\n",
        "        loss = cost_function(outputs, targets.view(-1))\n",
        "\n",
        "        # Update of the loss array\n",
        "        loss_sum_array.append(loss.item())\n",
        "        num_words_array.append((torch.sum(lengths)).item())\n",
        "      \n",
        "  return loss_sum_array, num_words_array"
      ],
      "metadata": {
        "id": "6gOlqAY07kUv"
      },
      "execution_count": 19,
      "outputs": []
    },
    {
      "cell_type": "markdown",
      "source": [
        "\n",
        "<br/>\n",
        "\n",
        "### Definition of the training procedure\n",
        "\n",
        "The neural networks are trained by iterating several times (that is, for several **epochs**) over the training set.\n",
        "\n",
        "The number of **epochs** defines the number of times the whole training set is seen by the network, and this quantity was set to a maximum fixed value of **200**. Indeed, it is most likely that less than 200 epochs are performed in practice, since an **early stopping** procedure is applied. \n",
        "\n",
        "**Early stopping** is a regularization technique that allows to save the network and stop the training procedure before the models overfits too much and the generalization gap starts being excessive. It is put in place by monitoring the **validation loss** (that is the loss computed on the validation set) every few steps, and stopping the training procedure when such loss is not subject to any improvement for a number of iterations equal to a certain fixed value called **patience**. So this value tells how many steps of not improving performance one has to wait before stopping the training. \n",
        "\n",
        "A **patience** value that has shown to work well in practice is **3**.\n",
        "In order to put in place the early stopping procedure, the **validation set** is used."
      ],
      "metadata": {
        "id": "tCiam5tbj7wt"
      }
    },
    {
      "cell_type": "code",
      "source": [
        "def main_baseline(baseline_model,\n",
        "         prediction_loss, \n",
        "         optimizer, \n",
        "         train_loader, \n",
        "         valid_loader, \n",
        "         test_loader,\n",
        "         n_epochs = 200,   \n",
        "         patience = 3):\n",
        "\n",
        "    # Vectors filled during training that allow to plot the loss variations across epochs\n",
        "    losses_train_baseline = []\n",
        "    losses_valid_baseline = []\n",
        "    sampled_epochs_baseline = []\n",
        "\n",
        "    # Initial best loss value, used for the early stopping technique\n",
        "    best_loss = 100.00\n",
        "\n",
        "\n",
        "    for x in tqdm(range(n_epochs)):\n",
        "\n",
        "        # For each epoch:\n",
        "        print('Epoch n. ', x, '\\n')\n",
        "\n",
        "        \"\"\" Cross entropy loss and perplexity on the training set \"\"\"\n",
        "        loss_train, num_words = train_loop_baseline(train_loader, optimizer, prediction_loss, baseline_model)\n",
        "\n",
        "        # Cross entropy\n",
        "        ce_train = np.asarray(loss_train).sum() / np.asarray(num_words).sum()\n",
        "        print('CE on the training set: ', ce_train, '\\n')\n",
        "\n",
        "        # Perplexity\n",
        "        perplexity_train = np.exp(ce_train)\n",
        "        print('Perplexity on the training set: ', perplexity_train, '\\n')\n",
        "\n",
        "        if x % 3 == 0:\n",
        "\n",
        "            sampled_epochs_baseline.append(x)\n",
        "            losses_train_baseline.append(ce_train)\n",
        "\n",
        "            \"\"\" Cross entropy loss and perplexity on the validation set \"\"\"\n",
        "            loss_valid, num_words = eval_loop_baseline(valid_loader, prediction_loss, baseline_model)\n",
        "\n",
        "            # Cross entropy\n",
        "            ce_valid = np.asarray(loss_valid).sum() / np.asarray(num_words).sum()\n",
        "            print('CE on the validation set: ', ce_valid, '\\n')\n",
        "\n",
        "            # Perplexity\n",
        "            perplexity_valid = np.exp(ce_valid)\n",
        "            print('Perplexity on the validation set: ', perplexity_valid, '\\n')\n",
        "\n",
        "            losses_valid_baseline.append(ce_valid)\n",
        "\n",
        "            if ce_valid < best_loss:\n",
        "                best_loss = ce_valid\n",
        "            else:\n",
        "                patience -= 1\n",
        "            if patience <= 0: \n",
        "                # Early stopping with patience\n",
        "                break \n",
        "\n",
        "\n",
        "    \"\"\" Cross entropy loss and perplexity on the test set \"\"\"\n",
        "    loss_test, num_words = eval_loop_baseline(test_loader, prediction_loss, baseline_model)\n",
        "\n",
        "    # Cross entropy\n",
        "    ce_test = np.asarray(loss_test).sum() / np.asarray(num_words).sum()\n",
        "    print('CE on the test set: ', ce_test, '\\n')\n",
        "\n",
        "    # Perplexity\n",
        "    perplexity_test = np.exp(ce_test)\n",
        "    print('Perplexity on the test set: ', perplexity_test, '\\n')\n",
        "\n",
        "\n",
        "    return losses_train_baseline, losses_valid_baseline, sampled_epochs_baseline, baseline_model\n"
      ],
      "metadata": {
        "id": "u7Pq0B08kCJw"
      },
      "execution_count": 20,
      "outputs": []
    },
    {
      "cell_type": "markdown",
      "source": [
        "\n",
        "<br/>\n",
        "\n",
        "### Training of the neural network\n",
        "\n",
        "In order to train the two baseline Neural Language Models, the previously defined **main** procedure is invoked, but some important elements and hyperparameters must be defined in advance:\n",
        "\n",
        "*  the **model architecture**, of which the hidden size, embedding size and vocabulary size must be defined. In this case, this values were set to standard ones, that seem to work well in general.\n",
        "\n",
        "*  the **optimizer**: **Adam** optimization is a stochastic gradient descent method that is based on adaptive estimation of first-order and second-order moments, and in particular it computes a exponentially decaying moving average of squared gradients that is useful for the computation of **adaptive learning rates**, starting from a fixed initial value. This optimizer has shown to work well for this task, and the learning rate **lr** is initialized to the value that has shown to perform best in practice.\n",
        "\n",
        "*   the **prediction loss**, which is used for both training and evaluation, is the **Cross Entropy Loss**, and it also allows the computation of the **Perplexity** as $pp = exp(loss_{CrossEnt})$. In particular, it defined by requiring:\n",
        "  - **ignore_index = PAD_TOKEN**: the **pad** tokens present in the target vectors must be ignored for a correct computation of the loss and perplexity values, and this constraints the method to do so\n",
        "  - **reduction = 'sum'**: after adding up the cross entropy values corresponding to all the samples in the batch, the obtained value is returned, hence it is not subsequently divided for the total number of samples for the computation of the average. This allows to better handle the case in which different batches contain a different number of elements on which the Cross Entropy loss is computed (because of the presence of **pad** tokens): it is better to **sum up all these CE costs** and then divide, in the end, with respect to the **sum of the number of samples contained in all batches**.\n",
        "\n",
        "<br/>\n",
        "\n",
        "1.  **Vanilla RNN**"
      ],
      "metadata": {
        "id": "T6RGtsSKwi9_"
      }
    },
    {
      "cell_type": "code",
      "source": [
        "# Hyperparameters \n",
        "n_epochs = 200        # Number of epochs\n",
        "patience = 3          # Patience parameter for the early stopping regularization\n",
        "hid_size = 200        # Size of the hidden LSTM representation \n",
        "emb_size = 300        # Size of the embedding vector\n",
        "lr = 0.001           # Learning rate for the optimization phase\n",
        "\n",
        "# Computation of the length of the vocabulary \n",
        "vocab_len = len(vocab.word2id)\n",
        "\n",
        "# Definition of the model, initialization of the weights\n",
        "rnn_model = Baseline_NLM(hid_size, emb_size, vocab_len, lstm = False, pad_index=PAD_TOKEN).to(device)\n",
        "rnn_model.apply(init_weights)\n",
        "\n",
        "# Definition of the optimizer\n",
        "optimizer = torch.optim.Adam(rnn_model.parameters(), lr=lr)\n",
        "\n",
        "# Definition of the loss\n",
        "prediction_loss = nn.CrossEntropyLoss(ignore_index = PAD_TOKEN, reduction = 'sum')\n",
        "\n",
        "# Training procedure\n",
        "loss_train_rnn, loss_valid_rnn, sampled_epochs_rnn, rnn_model = main_baseline(rnn_model,\n",
        "                                                                    prediction_loss, \n",
        "                                                                    optimizer, \n",
        "                                                                    train_loader, \n",
        "                                                                    valid_loader, \n",
        "                                                                    test_loader,\n",
        "                                                                    n_epochs = n_epochs,   \n",
        "                                                                    patience = patience)\n",
        "# Save the trained model \n",
        "torch.save(rnn_model.state_dict(), \"gdrive/MyDrive/NLU_project/models/baseline_model_rnn\")"
      ],
      "metadata": {
        "id": "dVBwpgOAuNfq",
        "colab": {
          "base_uri": "https://localhost:8080/"
        },
        "outputId": "f6dacbd7-3b8e-49ce-ab55-8026c98e6403"
      },
      "execution_count": 31,
      "outputs": [
        {
          "output_type": "stream",
          "name": "stderr",
          "text": [
            "\r  0%|          | 0/200 [00:00<?, ?it/s]"
          ]
        },
        {
          "output_type": "stream",
          "name": "stdout",
          "text": [
            "Epoch n.  0 \n",
            "\n",
            "CE on the training set:  6.0501240307359625 \n",
            "\n",
            "Perplexity on the training set:  424.16563635834444 \n",
            "\n"
          ]
        },
        {
          "output_type": "stream",
          "name": "stderr",
          "text": [
            "\r  0%|          | 1/200 [00:22<1:14:50, 22.57s/it]"
          ]
        },
        {
          "output_type": "stream",
          "name": "stdout",
          "text": [
            "CE on the validation set:  5.491592544661883 \n",
            "\n",
            "Perplexity on the validation set:  242.64331964886566 \n",
            "\n",
            "Epoch n.  1 \n",
            "\n"
          ]
        },
        {
          "output_type": "stream",
          "name": "stderr",
          "text": [
            "\r  1%|          | 2/200 [00:44<1:13:59, 22.42s/it]"
          ]
        },
        {
          "output_type": "stream",
          "name": "stdout",
          "text": [
            "CE on the training set:  5.226421593342932 \n",
            "\n",
            "Perplexity on the training set:  186.12557742369725 \n",
            "\n",
            "Epoch n.  2 \n",
            "\n"
          ]
        },
        {
          "output_type": "stream",
          "name": "stderr",
          "text": [
            "\r  2%|▏         | 3/200 [01:06<1:12:37, 22.12s/it]"
          ]
        },
        {
          "output_type": "stream",
          "name": "stdout",
          "text": [
            "CE on the training set:  4.905267584040353 \n",
            "\n",
            "Perplexity on the training set:  134.99902875975346 \n",
            "\n",
            "Epoch n.  3 \n",
            "\n",
            "CE on the training set:  4.691743052109823 \n",
            "\n",
            "Perplexity on the training set:  109.04308202879348 \n",
            "\n"
          ]
        },
        {
          "output_type": "stream",
          "name": "stderr",
          "text": [
            "\r  2%|▏         | 4/200 [01:28<1:12:10, 22.09s/it]"
          ]
        },
        {
          "output_type": "stream",
          "name": "stdout",
          "text": [
            "CE on the validation set:  4.985055430569861 \n",
            "\n",
            "Perplexity on the validation set:  146.21167939824946 \n",
            "\n",
            "Epoch n.  4 \n",
            "\n"
          ]
        },
        {
          "output_type": "stream",
          "name": "stderr",
          "text": [
            "\r  2%|▎         | 5/200 [01:50<1:11:20, 21.95s/it]"
          ]
        },
        {
          "output_type": "stream",
          "name": "stdout",
          "text": [
            "CE on the training set:  4.521399718524926 \n",
            "\n",
            "Perplexity on the training set:  91.9642319705838 \n",
            "\n",
            "Epoch n.  5 \n",
            "\n"
          ]
        },
        {
          "output_type": "stream",
          "name": "stderr",
          "text": [
            "\r  3%|▎         | 6/200 [02:11<1:10:28, 21.80s/it]"
          ]
        },
        {
          "output_type": "stream",
          "name": "stdout",
          "text": [
            "CE on the training set:  4.3773493144590025 \n",
            "\n",
            "Perplexity on the training set:  79.62668811301592 \n",
            "\n",
            "Epoch n.  6 \n",
            "\n",
            "CE on the training set:  4.247953508481243 \n",
            "\n",
            "Perplexity on the training set:  69.96208892001134 \n",
            "\n"
          ]
        },
        {
          "output_type": "stream",
          "name": "stderr",
          "text": [
            "\r  4%|▎         | 7/200 [02:33<1:10:19, 21.86s/it]"
          ]
        },
        {
          "output_type": "stream",
          "name": "stdout",
          "text": [
            "CE on the validation set:  4.941136647855918 \n",
            "\n",
            "Perplexity on the validation set:  139.92920943807454 \n",
            "\n",
            "Epoch n.  7 \n",
            "\n"
          ]
        },
        {
          "output_type": "stream",
          "name": "stderr",
          "text": [
            "\r  4%|▍         | 8/200 [02:55<1:09:57, 21.86s/it]"
          ]
        },
        {
          "output_type": "stream",
          "name": "stdout",
          "text": [
            "CE on the training set:  4.132246281278573 \n",
            "\n",
            "Perplexity on the training set:  62.31774902455931 \n",
            "\n",
            "Epoch n.  8 \n",
            "\n"
          ]
        },
        {
          "output_type": "stream",
          "name": "stderr",
          "text": [
            "\r  4%|▍         | 9/200 [03:17<1:09:13, 21.75s/it]"
          ]
        },
        {
          "output_type": "stream",
          "name": "stdout",
          "text": [
            "CE on the training set:  4.024721051549855 \n",
            "\n",
            "Perplexity on the training set:  55.96469533904489 \n",
            "\n",
            "Epoch n.  9 \n",
            "\n",
            "CE on the training set:  3.923852880548698 \n",
            "\n",
            "Perplexity on the training set:  50.59500624175248 \n",
            "\n"
          ]
        },
        {
          "output_type": "stream",
          "name": "stderr",
          "text": [
            "\r  5%|▌         | 10/200 [03:39<1:09:10, 21.84s/it]"
          ]
        },
        {
          "output_type": "stream",
          "name": "stdout",
          "text": [
            "CE on the validation set:  5.00902420262888 \n",
            "\n",
            "Perplexity on the validation set:  149.7585308465701 \n",
            "\n",
            "Epoch n.  10 \n",
            "\n"
          ]
        },
        {
          "output_type": "stream",
          "name": "stderr",
          "text": [
            "\r  6%|▌         | 11/200 [04:00<1:08:23, 21.71s/it]"
          ]
        },
        {
          "output_type": "stream",
          "name": "stdout",
          "text": [
            "CE on the training set:  3.8300409682262537 \n",
            "\n",
            "Perplexity on the training set:  46.06442537335878 \n",
            "\n",
            "Epoch n.  11 \n",
            "\n"
          ]
        },
        {
          "output_type": "stream",
          "name": "stderr",
          "text": [
            "\r  6%|▌         | 12/200 [04:22<1:07:41, 21.60s/it]"
          ]
        },
        {
          "output_type": "stream",
          "name": "stdout",
          "text": [
            "CE on the training set:  3.7405022536471586 \n",
            "\n",
            "Perplexity on the training set:  42.11913934477707 \n",
            "\n",
            "Epoch n.  12 \n",
            "\n",
            "CE on the training set:  3.658266379857799 \n",
            "\n",
            "Perplexity on the training set:  38.79403042853968 \n",
            "\n"
          ]
        },
        {
          "output_type": "stream",
          "name": "stderr",
          "text": [
            "\r  6%|▋         | 13/200 [04:43<1:07:34, 21.68s/it]"
          ]
        },
        {
          "output_type": "stream",
          "name": "stdout",
          "text": [
            "CE on the validation set:  5.133381334823173 \n",
            "\n",
            "Perplexity on the validation set:  169.58958882409345 \n",
            "\n",
            "Epoch n.  13 \n",
            "\n"
          ]
        },
        {
          "output_type": "stream",
          "name": "stderr",
          "text": [
            "\r  7%|▋         | 14/200 [05:05<1:07:05, 21.64s/it]"
          ]
        },
        {
          "output_type": "stream",
          "name": "stdout",
          "text": [
            "CE on the training set:  3.578834238692266 \n",
            "\n",
            "Perplexity on the training set:  35.8317452277631 \n",
            "\n",
            "Epoch n.  14 \n",
            "\n"
          ]
        },
        {
          "output_type": "stream",
          "name": "stderr",
          "text": [
            "\r  8%|▊         | 15/200 [05:27<1:06:42, 21.64s/it]"
          ]
        },
        {
          "output_type": "stream",
          "name": "stdout",
          "text": [
            "CE on the training set:  3.5045649959664686 \n",
            "\n",
            "Perplexity on the training set:  33.26696943852867 \n",
            "\n",
            "Epoch n.  15 \n",
            "\n",
            "CE on the training set:  3.436429438843912 \n",
            "\n",
            "Perplexity on the training set:  31.075801790313413 \n",
            "\n"
          ]
        },
        {
          "output_type": "stream",
          "name": "stderr",
          "text": [
            "\r  8%|▊         | 15/200 [05:49<1:11:44, 23.27s/it]"
          ]
        },
        {
          "output_type": "stream",
          "name": "stdout",
          "text": [
            "CE on the validation set:  5.2623396836486895 \n",
            "\n",
            "Perplexity on the validation set:  192.93236433957387 \n",
            "\n"
          ]
        },
        {
          "output_type": "stream",
          "name": "stderr",
          "text": [
            "\n"
          ]
        },
        {
          "output_type": "stream",
          "name": "stdout",
          "text": [
            "CE on the test set:  5.179098321318992 \n",
            "\n",
            "Perplexity on the test set:  177.5226703992398 \n",
            "\n"
          ]
        }
      ]
    },
    {
      "cell_type": "markdown",
      "source": [
        "\n",
        "<br/>\n",
        "\n",
        "In order to **assess the reliability** of the obtained result for the test loss and perplexity, at this point multiple runs (**5**) of training and test of the aforementioned model are executed, maintaining exactly the same setting described above for each run.  \n",
        "\n",
        "At the end of each run the test loss and perplexity values are stored, and in the end the results' **mean** and **standard deviation** is computed and printed. "
      ],
      "metadata": {
        "id": "Nf5PdOqyDkeF"
      }
    },
    {
      "cell_type": "code",
      "source": [
        "# Definition of the number of runs\n",
        "runs = 5 \n",
        "\n",
        "test_loss_runs, test_perplexity_runs = [], []\n",
        "\n",
        "for x in tqdm(range(0, runs)):\n",
        "\n",
        "    # Hyperparameters \n",
        "    n_epochs = 200        # Number of epochs\n",
        "    patience = 3          # Patience parameter for the early stopping regularization\n",
        "    hid_size = 200        # Size of the hidden LSTM representation \n",
        "    emb_size = 300        # Size of the embedding vector\n",
        "    lr = 0.001           # Learning rate for the optimization phase\n",
        "\n",
        "    # Computation of the length of the vocabulary \n",
        "    vocab_len = len(vocab.word2id)\n",
        "\n",
        "    # Definition of the model, initialization of the weights\n",
        "    rnn_model = Baseline_NLM(hid_size, emb_size, vocab_len, lstm = False, pad_index=PAD_TOKEN).to(device)\n",
        "    rnn_model.apply(init_weights)\n",
        "\n",
        "    # Definition of the optimizer\n",
        "    optimizer = torch.optim.Adam(rnn_model.parameters(), lr=lr)\n",
        "\n",
        "    # Definition of the loss\n",
        "    prediction_loss = nn.CrossEntropyLoss(ignore_index = PAD_TOKEN, reduction = 'sum')\n",
        "    \n",
        "\n",
        "    # Initial best loss value, used for the early stopping technique\n",
        "    best_loss = 100.00\n",
        "\n",
        "\n",
        "    for x in range(1, n_epochs):\n",
        "\n",
        "        # For each epoch:\n",
        "        \"\"\" Training step \"\"\"\n",
        "        loss_train, num_words = train_loop_baseline(train_loader, optimizer, prediction_loss, rnn_model)\n",
        "\n",
        "        if x % 3 == 0:\n",
        "\n",
        "            \"\"\" Validation step \"\"\"\n",
        "            loss_valid, num_words = eval_loop_baseline(valid_loader, prediction_loss, rnn_model)\n",
        "\n",
        "            # Cross entropy\n",
        "            ce_valid = np.asarray(loss_valid).sum() / np.asarray(num_words).sum()\n",
        "\n",
        "            if ce_valid < best_loss:\n",
        "                best_loss = ce_valid\n",
        "            else:\n",
        "                patience -= 1\n",
        "            if patience <= 0: \n",
        "                # Early stopping with patience\n",
        "                break \n",
        "\n",
        "\n",
        "    \"\"\" Cross entropy loss and perplexity on the test set \"\"\"\n",
        "    loss_test, num_words = eval_loop_baseline(test_loader, prediction_loss, rnn_model)\n",
        "\n",
        "    # Cross entropy\n",
        "    ce_test = np.asarray(loss_test).sum() / np.asarray(num_words).sum()\n",
        "    test_loss_runs.append(ce_test)\n",
        "\n",
        "    # Perplexity\n",
        "    perplexity_test = np.exp(ce_test)\n",
        "    test_perplexity_runs.append(perplexity_test)\n",
        "    print(perplexity_test)\n",
        "\n",
        "test_loss_runs = np.asarray(test_loss_runs)\n",
        "test_perplexity_runs = np.asarray(test_perplexity_runs)\n",
        "\n",
        "# Computation of mean and standard deviation values among the results of the 5 runs\n",
        "print('Test loss', round(test_loss_runs.mean(),3), '+-', round(test_loss_runs.std(),3))\n",
        "print('Test perplexity', round(test_perplexity_runs.mean(), 3), '+-', round(test_perplexity_runs.std(), 3))"
      ],
      "metadata": {
        "colab": {
          "base_uri": "https://localhost:8080/"
        },
        "id": "YgQXEYrn__D-",
        "outputId": "b8bac6e1-76ae-48cf-b21d-adc78f50d961"
      },
      "execution_count": 27,
      "outputs": [
        {
          "output_type": "stream",
          "name": "stderr",
          "text": [
            " 20%|██        | 1/5 [05:23<21:32, 323.13s/it]"
          ]
        },
        {
          "output_type": "stream",
          "name": "stdout",
          "text": [
            "171.22848479671384\n"
          ]
        },
        {
          "output_type": "stream",
          "name": "stderr",
          "text": [
            "\r 40%|████      | 2/5 [10:47<16:10, 323.57s/it]"
          ]
        },
        {
          "output_type": "stream",
          "name": "stdout",
          "text": [
            "169.9562736615147\n"
          ]
        },
        {
          "output_type": "stream",
          "name": "stderr",
          "text": [
            "\r 60%|██████    | 3/5 [16:15<10:51, 325.63s/it]"
          ]
        },
        {
          "output_type": "stream",
          "name": "stdout",
          "text": [
            "170.84788931706342\n"
          ]
        },
        {
          "output_type": "stream",
          "name": "stderr",
          "text": [
            "\r 80%|████████  | 4/5 [21:43<05:26, 326.57s/it]"
          ]
        },
        {
          "output_type": "stream",
          "name": "stdout",
          "text": [
            "167.31326839890806\n"
          ]
        },
        {
          "output_type": "stream",
          "name": "stderr",
          "text": [
            "100%|██████████| 5/5 [27:06<00:00, 325.34s/it]"
          ]
        },
        {
          "output_type": "stream",
          "name": "stdout",
          "text": [
            "168.5247761496744\n",
            "Test loss 5.133 +- 0.009\n",
            "Test perplexity 169.574 +- 1.464\n"
          ]
        },
        {
          "output_type": "stream",
          "name": "stderr",
          "text": [
            "\n"
          ]
        }
      ]
    },
    {
      "cell_type": "markdown",
      "source": [
        "\n",
        "<br/>\n",
        "\n",
        "2.  **LSTM**"
      ],
      "metadata": {
        "id": "Fms94r5EvZnH"
      }
    },
    {
      "cell_type": "code",
      "source": [
        "# Hyperparameters \n",
        "n_epochs = 200        # Number of epochs\n",
        "patience = 3          # Patience parameter for the early stopping regularization\n",
        "hid_size = 200        # Size of the hidden LSTM representation \n",
        "emb_size = 300        # Size of the embedding vector\n",
        "lr = 0.001           # Learning rate for the optimization phase\n",
        "\n",
        "# Computation of the length of the vocabulary \n",
        "vocab_len = len(vocab.word2id)\n",
        "\n",
        "# Definition of the model, initialization of the weights\n",
        "lstm_model = Baseline_NLM(hid_size, emb_size, vocab_len, lstm = True, pad_index=PAD_TOKEN).to(device)\n",
        "lstm_model.apply(init_weights)\n",
        "\n",
        "# Definition of the optimizer\n",
        "optimizer = torch.optim.Adam(lstm_model.parameters(), lr=lr)\n",
        "\n",
        "# Definition of the loss\n",
        "prediction_loss = nn.CrossEntropyLoss(ignore_index = PAD_TOKEN, reduction = 'sum')\n",
        "\n",
        "# Training procedure\n",
        "loss_train_lstm, loss_valid_lstm, sampled_epochs_lstm, lstm_model = main_baseline(lstm_model,\n",
        "                                                                    prediction_loss, \n",
        "                                                                    optimizer, \n",
        "                                                                    train_loader, \n",
        "                                                                    valid_loader, \n",
        "                                                                    test_loader,\n",
        "                                                                    n_epochs = n_epochs,   \n",
        "                                                                    patience = patience)\n",
        "# Save the trained model \n",
        "torch.save(lstm_model.state_dict(), \"gdrive/MyDrive/NLU_project/models/baseline_model_lstm\")"
      ],
      "metadata": {
        "colab": {
          "base_uri": "https://localhost:8080/"
        },
        "id": "5tzT8EQ9ofAZ",
        "outputId": "2f71a19f-bb7b-4951-883e-189e54d2a9a3"
      },
      "execution_count": 30,
      "outputs": [
        {
          "output_type": "stream",
          "name": "stderr",
          "text": [
            "\r  0%|          | 0/200 [00:00<?, ?it/s]"
          ]
        },
        {
          "output_type": "stream",
          "name": "stdout",
          "text": [
            "Epoch n.  0 \n",
            "\n",
            "CE on the training set:  6.192854406204719 \n",
            "\n",
            "Perplexity on the training set:  489.24060645521377 \n",
            "\n"
          ]
        },
        {
          "output_type": "stream",
          "name": "stderr",
          "text": [
            "\r  0%|          | 1/200 [00:23<1:16:50, 23.17s/it]"
          ]
        },
        {
          "output_type": "stream",
          "name": "stdout",
          "text": [
            "CE on the validation set:  5.668114145297627 \n",
            "\n",
            "Perplexity on the validation set:  289.4880868235107 \n",
            "\n",
            "Epoch n.  1 \n",
            "\n"
          ]
        },
        {
          "output_type": "stream",
          "name": "stderr",
          "text": [
            "\r  1%|          | 2/200 [00:46<1:15:48, 22.97s/it]"
          ]
        },
        {
          "output_type": "stream",
          "name": "stdout",
          "text": [
            "CE on the training set:  5.438467635554539 \n",
            "\n",
            "Perplexity on the training set:  230.08933246917485 \n",
            "\n",
            "Epoch n.  2 \n",
            "\n"
          ]
        },
        {
          "output_type": "stream",
          "name": "stderr",
          "text": [
            "\r  2%|▏         | 3/200 [01:08<1:14:55, 22.82s/it]"
          ]
        },
        {
          "output_type": "stream",
          "name": "stdout",
          "text": [
            "CE on the training set:  5.135568686846344 \n",
            "\n",
            "Perplexity on the training set:  169.96094695172874 \n",
            "\n",
            "Epoch n.  3 \n",
            "\n",
            "CE on the training set:  4.934692715386057 \n",
            "\n",
            "Perplexity on the training set:  139.03041406040285 \n",
            "\n"
          ]
        },
        {
          "output_type": "stream",
          "name": "stderr",
          "text": [
            "\r  2%|▏         | 4/200 [01:31<1:14:50, 22.91s/it]"
          ]
        },
        {
          "output_type": "stream",
          "name": "stdout",
          "text": [
            "CE on the validation set:  5.079437799530962 \n",
            "\n",
            "Perplexity on the validation set:  160.68369408207136 \n",
            "\n",
            "Epoch n.  4 \n",
            "\n"
          ]
        },
        {
          "output_type": "stream",
          "name": "stderr",
          "text": [
            "\r  2%|▎         | 5/200 [01:54<1:13:54, 22.74s/it]"
          ]
        },
        {
          "output_type": "stream",
          "name": "stdout",
          "text": [
            "CE on the training set:  4.780990333086352 \n",
            "\n",
            "Perplexity on the training set:  119.22236144904574 \n",
            "\n",
            "Epoch n.  5 \n",
            "\n"
          ]
        },
        {
          "output_type": "stream",
          "name": "stderr",
          "text": [
            "\r  3%|▎         | 6/200 [02:16<1:13:15, 22.66s/it]"
          ]
        },
        {
          "output_type": "stream",
          "name": "stdout",
          "text": [
            "CE on the training set:  4.6518387971594475 \n",
            "\n",
            "Perplexity on the training set:  104.77747307000567 \n",
            "\n",
            "Epoch n.  6 \n",
            "\n",
            "CE on the training set:  4.537855988880739 \n",
            "\n",
            "Perplexity on the training set:  93.49014118660241 \n",
            "\n"
          ]
        },
        {
          "output_type": "stream",
          "name": "stderr",
          "text": [
            "\r  4%|▎         | 7/200 [02:39<1:13:19, 22.80s/it]"
          ]
        },
        {
          "output_type": "stream",
          "name": "stdout",
          "text": [
            "CE on the validation set:  4.9380578399974695 \n",
            "\n",
            "Perplexity on the validation set:  139.49905680686746 \n",
            "\n",
            "Epoch n.  7 \n",
            "\n"
          ]
        },
        {
          "output_type": "stream",
          "name": "stderr",
          "text": [
            "\r  4%|▍         | 8/200 [03:02<1:12:38, 22.70s/it]"
          ]
        },
        {
          "output_type": "stream",
          "name": "stdout",
          "text": [
            "CE on the training set:  4.434731833353494 \n",
            "\n",
            "Perplexity on the training set:  84.32950749458455 \n",
            "\n",
            "Epoch n.  8 \n",
            "\n"
          ]
        },
        {
          "output_type": "stream",
          "name": "stderr",
          "text": [
            "\r  4%|▍         | 9/200 [03:25<1:12:28, 22.77s/it]"
          ]
        },
        {
          "output_type": "stream",
          "name": "stdout",
          "text": [
            "CE on the training set:  4.339932480569914 \n",
            "\n",
            "Perplexity on the training set:  76.7023602638022 \n",
            "\n",
            "Epoch n.  9 \n",
            "\n",
            "CE on the training set:  4.251582460492704 \n",
            "\n",
            "Perplexity on the training set:  70.21643921669967 \n",
            "\n"
          ]
        },
        {
          "output_type": "stream",
          "name": "stderr",
          "text": [
            "\r  5%|▌         | 10/200 [03:48<1:12:24, 22.87s/it]"
          ]
        },
        {
          "output_type": "stream",
          "name": "stdout",
          "text": [
            "CE on the validation set:  4.8973416419069205 \n",
            "\n",
            "Perplexity on the validation set:  133.9332634461609 \n",
            "\n",
            "Epoch n.  10 \n",
            "\n"
          ]
        },
        {
          "output_type": "stream",
          "name": "stderr",
          "text": [
            "\r  6%|▌         | 11/200 [04:10<1:11:41, 22.76s/it]"
          ]
        },
        {
          "output_type": "stream",
          "name": "stdout",
          "text": [
            "CE on the training set:  4.168115377389882 \n",
            "\n",
            "Perplexity on the training set:  64.59360275922114 \n",
            "\n",
            "Epoch n.  11 \n",
            "\n"
          ]
        },
        {
          "output_type": "stream",
          "name": "stderr",
          "text": [
            "\r  6%|▌         | 12/200 [04:33<1:11:09, 22.71s/it]"
          ]
        },
        {
          "output_type": "stream",
          "name": "stdout",
          "text": [
            "CE on the training set:  4.089755700807009 \n",
            "\n",
            "Perplexity on the training set:  59.72529907936833 \n",
            "\n",
            "Epoch n.  12 \n",
            "\n",
            "CE on the training set:  4.01415733157542 \n",
            "\n",
            "Perplexity on the training set:  55.37661161371189 \n",
            "\n"
          ]
        },
        {
          "output_type": "stream",
          "name": "stderr",
          "text": [
            "\r  6%|▋         | 13/200 [04:56<1:11:14, 22.86s/it]"
          ]
        },
        {
          "output_type": "stream",
          "name": "stdout",
          "text": [
            "CE on the validation set:  4.924197755779185 \n",
            "\n",
            "Perplexity on the validation set:  137.5789254605519 \n",
            "\n",
            "Epoch n.  13 \n",
            "\n"
          ]
        },
        {
          "output_type": "stream",
          "name": "stderr",
          "text": [
            "\r  7%|▋         | 14/200 [05:19<1:10:41, 22.80s/it]"
          ]
        },
        {
          "output_type": "stream",
          "name": "stdout",
          "text": [
            "CE on the training set:  3.941852862451635 \n",
            "\n",
            "Perplexity on the training set:  51.513961213311475 \n",
            "\n",
            "Epoch n.  14 \n",
            "\n"
          ]
        },
        {
          "output_type": "stream",
          "name": "stderr",
          "text": [
            "\r  8%|▊         | 15/200 [05:42<1:10:19, 22.81s/it]"
          ]
        },
        {
          "output_type": "stream",
          "name": "stdout",
          "text": [
            "CE on the training set:  3.872403522457805 \n",
            "\n",
            "Perplexity on the training set:  48.0577552731277 \n",
            "\n",
            "Epoch n.  15 \n",
            "\n",
            "CE on the training set:  3.8047845835577854 \n",
            "\n",
            "Perplexity on the training set:  44.915573517754765 \n",
            "\n"
          ]
        },
        {
          "output_type": "stream",
          "name": "stderr",
          "text": [
            "\r  8%|▊         | 16/200 [06:05<1:10:12, 22.90s/it]"
          ]
        },
        {
          "output_type": "stream",
          "name": "stdout",
          "text": [
            "CE on the validation set:  4.987621095692304 \n",
            "\n",
            "Perplexity on the validation set:  146.58729124564053 \n",
            "\n",
            "Epoch n.  16 \n",
            "\n"
          ]
        },
        {
          "output_type": "stream",
          "name": "stderr",
          "text": [
            "\r  8%|▊         | 17/200 [06:27<1:09:31, 22.80s/it]"
          ]
        },
        {
          "output_type": "stream",
          "name": "stdout",
          "text": [
            "CE on the training set:  3.739506977488948 \n",
            "\n",
            "Perplexity on the training set:  42.0772400237392 \n",
            "\n",
            "Epoch n.  17 \n",
            "\n"
          ]
        },
        {
          "output_type": "stream",
          "name": "stderr",
          "text": [
            "\r  9%|▉         | 18/200 [06:50<1:08:54, 22.71s/it]"
          ]
        },
        {
          "output_type": "stream",
          "name": "stdout",
          "text": [
            "CE on the training set:  3.6763910137132934 \n",
            "\n",
            "Perplexity on the training set:  39.50356866254286 \n",
            "\n",
            "Epoch n.  18 \n",
            "\n",
            "CE on the training set:  3.6146786730576745 \n",
            "\n",
            "Perplexity on the training set:  37.13941011500843 \n",
            "\n"
          ]
        },
        {
          "output_type": "stream",
          "name": "stderr",
          "text": [
            "\r  9%|▉         | 18/200 [07:13<1:13:00, 24.07s/it]"
          ]
        },
        {
          "output_type": "stream",
          "name": "stdout",
          "text": [
            "CE on the validation set:  5.0700697779503034 \n",
            "\n",
            "Perplexity on the validation set:  159.18543458911597 \n",
            "\n"
          ]
        },
        {
          "output_type": "stream",
          "name": "stderr",
          "text": [
            "\n"
          ]
        },
        {
          "output_type": "stream",
          "name": "stdout",
          "text": [
            "CE on the test set:  4.96249238862453 \n",
            "\n",
            "Perplexity on the test set:  142.94963831640266 \n",
            "\n"
          ]
        }
      ]
    },
    {
      "cell_type": "markdown",
      "source": [
        "\n",
        "<br/>\n",
        "\n",
        "In order to **assess the reliability** of the obtained result for the test loss and perplexity, at this point multiple runs (**5**) of training and test of the aforementioned model are executed, maintaining exactly the same setting described above for each run.  \n",
        "\n",
        "At the end of each run the test loss and perplexity values are stored, and in the end the results' **mean** and **standard deviation** is computed and printed. "
      ],
      "metadata": {
        "id": "dgarbZN-E2WD"
      }
    },
    {
      "cell_type": "code",
      "source": [
        "# Definition of the number of runs\n",
        "runs = 5 \n",
        "\n",
        "test_loss_runs, test_perplexity_runs = [], []\n",
        "\n",
        "for x in tqdm(range(0, runs)):\n",
        "\n",
        "    # Hyperparameters \n",
        "    n_epochs = 200        # Number of epochs\n",
        "    patience = 3          # Patience parameter for the early stopping regularization\n",
        "    hid_size = 200        # Size of the hidden LSTM representation \n",
        "    emb_size = 300        # Size of the embedding vector\n",
        "    lr = 0.001           # Learning rate for the optimization phase\n",
        "\n",
        "    # Computation of the length of the vocabulary \n",
        "    vocab_len = len(vocab.word2id)\n",
        "\n",
        "    # Definition of the model, initialization of the weights\n",
        "    lstm_model = Baseline_NLM(hid_size, emb_size, vocab_len, lstm = True, pad_index=PAD_TOKEN).to(device)\n",
        "    lstm_model.apply(init_weights)\n",
        "\n",
        "    # Definition of the optimizer\n",
        "    optimizer = torch.optim.Adam(lstm_model.parameters(), lr=lr)\n",
        "\n",
        "    # Definition of the loss\n",
        "    prediction_loss = nn.CrossEntropyLoss(ignore_index = PAD_TOKEN, reduction = 'sum')\n",
        "    \n",
        "\n",
        "    # Initial best loss value, used for the early stopping technique\n",
        "    best_loss = 100.00\n",
        "\n",
        "\n",
        "    for x in range(1, n_epochs):\n",
        "\n",
        "        # For each epoch:\n",
        "        \"\"\" Training step \"\"\"\n",
        "        loss_train, num_words = train_loop_baseline(train_loader, optimizer, prediction_loss, lstm_model)\n",
        "\n",
        "        if x % 3 == 0:\n",
        "\n",
        "            \"\"\" Validation step \"\"\"\n",
        "            loss_valid, num_words = eval_loop_baseline(valid_loader, prediction_loss, lstm_model)\n",
        "\n",
        "            # Cross entropy\n",
        "            ce_valid = np.asarray(loss_valid).sum() / np.asarray(num_words).sum()\n",
        "\n",
        "            if ce_valid < best_loss:\n",
        "                best_loss = ce_valid\n",
        "            else:\n",
        "                patience -= 1\n",
        "            if patience <= 0: \n",
        "                # Early stopping with patience\n",
        "                break \n",
        "\n",
        "\n",
        "    \"\"\" Cross entropy loss and perplexity on the test set \"\"\"\n",
        "    loss_test, num_words = eval_loop_baseline(test_loader, prediction_loss, lstm_model)\n",
        "\n",
        "    # Cross entropy\n",
        "    ce_test = np.asarray(loss_test).sum() / np.asarray(num_words).sum()\n",
        "    test_loss_runs.append(ce_test)\n",
        "\n",
        "    # Perplexity\n",
        "    perplexity_test = np.exp(ce_test)\n",
        "    test_perplexity_runs.append(perplexity_test)\n",
        "    print(perplexity_test)\n",
        "\n",
        "test_loss_runs = np.asarray(test_loss_runs)\n",
        "test_perplexity_runs = np.asarray(test_perplexity_runs)\n",
        "\n",
        "# Computation of mean and standard deviation values among the results of the 5 runs\n",
        "print('Test loss', round(test_loss_runs.mean(),3), '+-', round(test_loss_runs.std(),3))\n",
        "print('Test perplexity', round(test_perplexity_runs.mean(), 3), '+-', round(test_perplexity_runs.std(), 3))"
      ],
      "metadata": {
        "colab": {
          "base_uri": "https://localhost:8080/"
        },
        "outputId": "4b033d2c-b3c3-4bb4-98a7-677bd1b44294",
        "id": "sF_XdMtWE2WE"
      },
      "execution_count": 26,
      "outputs": [
        {
          "output_type": "stream",
          "name": "stderr",
          "text": [
            " 20%|██        | 1/5 [06:48<27:15, 408.77s/it]"
          ]
        },
        {
          "output_type": "stream",
          "name": "stdout",
          "text": [
            "138.6628835090754\n"
          ]
        },
        {
          "output_type": "stream",
          "name": "stderr",
          "text": [
            "\r 40%|████      | 2/5 [13:36<20:25, 408.35s/it]"
          ]
        },
        {
          "output_type": "stream",
          "name": "stdout",
          "text": [
            "137.09937832826287\n"
          ]
        },
        {
          "output_type": "stream",
          "name": "stderr",
          "text": [
            "\r 60%|██████    | 3/5 [20:24<13:36, 408.17s/it]"
          ]
        },
        {
          "output_type": "stream",
          "name": "stdout",
          "text": [
            "138.47082958356805\n"
          ]
        },
        {
          "output_type": "stream",
          "name": "stderr",
          "text": [
            "\r 80%|████████  | 4/5 [27:13<06:48, 408.20s/it]"
          ]
        },
        {
          "output_type": "stream",
          "name": "stdout",
          "text": [
            "139.76938786909454\n"
          ]
        },
        {
          "output_type": "stream",
          "name": "stderr",
          "text": [
            "100%|██████████| 5/5 [34:00<00:00, 408.19s/it]"
          ]
        },
        {
          "output_type": "stream",
          "name": "stdout",
          "text": [
            "138.2187649278532\n",
            "Test loss 4.93 +- 0.006\n",
            "Test perplexity 138.444 +- 0.856\n"
          ]
        },
        {
          "output_type": "stream",
          "name": "stderr",
          "text": [
            "\n"
          ]
        }
      ]
    },
    {
      "cell_type": "markdown",
      "source": [
        "\n",
        "<br/>\n",
        "\n",
        "### Plot of the training and validation losses for the baseline models\n",
        "\n",
        "The plots clearly show that, although the LSTM architecture reaches a final value for the test perplexity which is better than the RNN, both the baseline models highly suffer from **overfitting** and **low generalization** capabilities.\n",
        "\n",
        "This implies that strong **regularization** techniques must be introduced, as well as an improved **optimization** procedure. \n"
      ],
      "metadata": {
        "id": "mcjA83yX1eR7"
      }
    },
    {
      "cell_type": "code",
      "source": [
        "# Vanilla RNN\n",
        "\n",
        "plt.figure(num = 3, figsize=(8, 5)).patch.set_facecolor('white')\n",
        "plt.title('Baseline Vanilla RNN: Train and Valid Losses')\n",
        "plt.ylabel('Loss')\n",
        "plt.xlabel('Epochs')\n",
        "plt.plot(sampled_epochs_rnn, loss_train_rnn, label='Train loss Vanilla RNN')\n",
        "plt.plot(sampled_epochs_rnn, loss_valid_rnn, label='Valid loss Vanilla RNN')\n",
        "plt.legend()\n",
        "plt.show()\n",
        "\n",
        "# LSTM\n",
        "\n",
        "plt.figure(num = 3, figsize=(8, 5)).patch.set_facecolor('white')\n",
        "plt.title('Baseline LSTM: Train and Valid Losses')\n",
        "plt.ylabel('Loss')\n",
        "plt.xlabel('Epochs')\n",
        "plt.plot(sampled_epochs_lstm, loss_train_lstm, label='Train loss LSTM')\n",
        "plt.plot(sampled_epochs_lstm, loss_valid_lstm, label='Valid loss LSTM')\n",
        "plt.legend()\n",
        "plt.show()"
      ],
      "metadata": {
        "colab": {
          "base_uri": "https://localhost:8080/",
          "height": 683
        },
        "id": "voCXLa1y1Udx",
        "outputId": "a63f18fd-a8af-49c9-af10-60fd6ee827cc"
      },
      "execution_count": 39,
      "outputs": [
        {
          "output_type": "display_data",
          "data": {
            "text/plain": [
              "<Figure size 576x360 with 1 Axes>"
            ],
            "image/png": "[encoded data removed]"
          },
          "metadata": {}
        },
        {
          "output_type": "display_data",
          "data": {
            "text/plain": [
              "<Figure size 576x360 with 1 Axes>"
            ],
            "image/png": "[encoded data removed]"
          },
          "metadata": {}
        }
      ]
    },
    {
      "cell_type": "markdown",
      "source": [
        "\n",
        "<br/>\n",
        "\n",
        "## <center>Improved LSTM Models</center>"
      ],
      "metadata": {
        "id": "X8fZ51FlosjE"
      }
    },
    {
      "cell_type": "markdown",
      "source": [
        "\n",
        "<br/>\n",
        "\n",
        "### Definition of the improved LSTM model\n",
        "\n",
        "In order to improve the performance and results of the baseline models, I decided to introduce some **regularization** techniques, as well as improve the optimization algorithm, to the training phase of the **LSTM** model.\n",
        "\n",
        "In particular, the additions I made to the **definition of the architecture** are the following:\n",
        "\n",
        "* **Embedding dropout** regularization technique to the embedding layer. In general, dropout avoids overfitting by adding some noise in the training phase (the value of **0.1** was suggested by the *Regularizing and Optimizing LSTM Language Models* paper).\n",
        "\n",
        "* **Locked dropout** regularization technique to the inputs and outputs of the LSTM layer: it samples a\n",
        "binary dropout mask only once upon the first call and then\n",
        "it repeatedly uses that locked dropout mask for all repeated\n",
        "connections within the forward and backward pass. The values of **0.4** were suggested by the *Regularizing and Optimizing LSTM Language Models* paper.\n",
        "\n",
        "* **Weight tying** of the weights in **embedding** matrix and **decoder** output matrix: this technique allows to substantially reduce the number of parameters of the model, reducing the problem of overfitting and improving the performance in the training procedure.\n",
        "\n",
        "* **Attention module**: although attention modules are mostly used in the framework of machine translation, because of their ability of providing a good measure for the alignment between the words in the input sentence and translated sentence, I tried implementing a sort of attention layer that could suit and be useful for the considered Language Modeling task. I took inspiration, to some extent, from the general ideas underlying the structure of the **self-attention** module in the Transformer proposed in the *Attention Is All You Need* paper.\n",
        "\n",
        "* **Residual connections**: as shown with their introduction in ResNet, skip connections implemented through residual blocks improve the results obtained from the training procedure because they help the model in better exploiting its parameters in order to approximate certain complex functions, and they allow to skip some layers when they are not needed. Also, these residual connections encourage **feature reuse**. \n",
        "In particular, the whole aforementioned **attention module** is introduced in the architecture as a residual block, hence it can be ignored by the network if it's considered not useful.\n",
        "<center>\n",
        "<img src='https://drive.google.com/uc?export=view&id=13QJYClkMM3wd824BtBmNR9UBTw_HNKjZ' width='500'>\n",
        "</center>"
      ],
      "metadata": {
        "id": "1IsFkETT8lxl"
      }
    },
    {
      "cell_type": "code",
      "source": [
        "from torch.autograd import Variable\n",
        "\n",
        "class LockedDropout(nn.Module):\n",
        "# source: https://github.com/salesforce/awd-lstm-lm/blob/master/locked_dropout.py\n",
        "\n",
        "    def __init__(self):\n",
        "        super().__init__()\n",
        "\n",
        "    def forward(self, x, dropout=0.5):\n",
        "        if not self.training or not dropout:\n",
        "            return x\n",
        "        m = x.data.new(1, x.size(1), x.size(2)).bernoulli_(1 - dropout)\n",
        "        mask = Variable(m, requires_grad=False) / (1 - dropout)\n",
        "        mask = mask.expand_as(x)\n",
        "        return mask * x\n",
        "\n",
        "class AttentionLayer(nn.Module):\n",
        "\n",
        "    def __init__(self, hid_size):\n",
        "\n",
        "        super(AttentionLayer, self).__init__()  \n",
        "\n",
        "        self.energy = nn.Bilinear(hid_size, hid_size, 1)\n",
        "        self.relu = nn.ReLU()\n",
        "        self.softmax = nn.Softmax(dim=0)\n",
        "        self.value = nn.Linear(hid_size, hid_size)\n",
        "\n",
        "    def forward(self, hidden_timesteps):\n",
        "        # input: (seq_len, batch_size, hid_size)\n",
        "        n_timesteps = hidden_timesteps.shape[0]\n",
        "        #batch_size = hidden_timesteps.shape[1]\n",
        "        #hid_size = hidden_timesteps.shape[2]\n",
        "\n",
        "        context_vectors = torch.zeros_like(hidden_timesteps)\n",
        "        context_vectors[0] = hidden_timesteps[0]\n",
        "\n",
        "        for t in range(1, n_timesteps):\n",
        "            # For each timestep's hidden state:\n",
        "\n",
        "            s = max(t-6, 0)\n",
        "\n",
        "            hidden_previous_t = hidden_timesteps[s:t+1]\n",
        "            # hidden_previous_t: (t-s+1, batch_size, hid_size)\n",
        "\n",
        "            hidden_t = hidden_timesteps[t].repeat(t-s+1, 1, 1)\n",
        "            # hidden_t: (t-s+1, batch_size, hid_size)\n",
        "\n",
        "            alignment_scores = self.energy(hidden_t, hidden_previous_t)\n",
        "            # alignment_scores: (t-s+1, batch_size, 1)\n",
        "\n",
        "            attention = self.softmax(alignment_scores)\n",
        "            # attention: (t-s+1, batch_size, 1)\n",
        "\n",
        "            # Residual block with value computation\n",
        "            values = self.relu(self.value(hidden_previous_t))\n",
        "            hidden_previous_t = hidden_previous_t + values\n",
        "\n",
        "            # attention: (t-s+1, batch_size, 1) ----------------------> tnk\n",
        "            # hidden_previous_t: (t-s+1, batch_size, hid_size) -------> tnh\n",
        "            # we want context_vectors[t]: (1, batch_size, hid_size) --> knh\n",
        "            context_vectors[t] = torch.einsum(\"tnk,tnh->knh\", attention, hidden_previous_t)\n",
        "\n",
        "        return context_vectors\n",
        "\n",
        "\n",
        "class Improved_LSTM(nn.Module):\n",
        "\n",
        "    def __init__(self, hid_size, emb_size, vocab_len, attention = True, n_layer = 1, pad_index = 0, tie_weights=True):\n",
        "\n",
        "        super(Improved_LSTM, self).__init__()  \n",
        "\n",
        "        self.hid_size = hid_size\n",
        "        self.emb_size = emb_size\n",
        "        self.vocab_len = vocab_len\n",
        "        self.n_layer = n_layer\n",
        "        self.pad_index = pad_index\n",
        "\n",
        "        # Dropout regularization \n",
        "        # avoids overfitting adding some noise in training phase\n",
        "        self.lockdrop = LockedDropout()\n",
        "        self.dropout_emb = nn.Dropout(0.1) \n",
        "        self.drop_inp = 0.4\n",
        "        self.drop_out = 0.4\n",
        "\n",
        "        # Encoder layer: word embedding layer\n",
        "        self.embedding = nn.Embedding(vocab_len, emb_size, padding_idx=pad_index)\n",
        "        \n",
        "        # We set bidirectionality to false, so the LSTM is one-directional \n",
        "        self.lstm = nn.LSTM(emb_size, hid_size, num_layers = n_layer, bidirectional=False)    \n",
        "\n",
        "        # Attention layer\n",
        "        self.attention = attention\n",
        "        if self.attention:\n",
        "            self.attention_layer = AttentionLayer(hid_size)\n",
        "\n",
        "        # Decoder layer: linear output layer\n",
        "        self.decoder = nn.Linear(hid_size, vocab_len)\n",
        "\n",
        "        # Weight tying regularization technique\n",
        "        if tie_weights:\n",
        "            self.decoder.weight = self.embedding.weight\n",
        "        \n",
        "    def forward(self, sentences, seq_lengths, hidden = None, cell = None):\n",
        "\n",
        "        # Dropout applied to the first layer\n",
        "        # sentences: (batch_size, seq_len)\n",
        "        sents_emb = self.dropout_emb(self.embedding(sentences)) \n",
        "        # sents_emb: (batch_size, seq_len, emb_size)\n",
        "\n",
        "        # Swap the matrix in order to have dimensions setted in another way\n",
        "        # We need seq len first -> permute \n",
        "        sents_emb = sents_emb.permute(1,0,2) \n",
        "        # sents_emb: (seq_len, batch_size, emb_size)\n",
        "        sents_emb = self.lockdrop(sents_emb, self.drop_inp)\n",
        "\n",
        "        # Compression\n",
        "        # pack_padded_sequence avoids computation over pad tokens reducing the computational cost\n",
        "        packed_input = pack_padded_sequence(sents_emb, seq_lengths.cpu().numpy())\n",
        "\n",
        "        # Process the batch through the LSTM layer\n",
        "        if hidden == None:\n",
        "          packed_output, (last_hidden, last_cell) = self.lstm(packed_input) \n",
        "        else:\n",
        "          hidden = hidden.detach()\n",
        "          cell = cell.detach()\n",
        "          packed_output, (last_hidden, last_cell) = self.lstm(packed_input, (hidden, cell)) \n",
        "\n",
        "\n",
        "        # Unpack the sequence: Decompression\n",
        "        padded_output, _ = pad_packed_sequence(packed_output)\n",
        "\n",
        "        lstm_hs = padded_output\n",
        "        padded_output = self.lockdrop(padded_output, self.drop_out)\n",
        "        dropped_lstm_hs = padded_output\n",
        "\n",
        "        # Residual block with attention layer \n",
        "        if self.attention:\n",
        "            identity = padded_output\n",
        "            attention_output = self.attention_layer(padded_output)\n",
        "            attention_output = attention_output + identity\n",
        "        else:\n",
        "            attention_output = padded_output\n",
        "          \n",
        "        # Get the output\n",
        "        out = self.decoder(attention_output)\n",
        "\n",
        "        # Swap the output in order to have dimensions setted correctly for the loss\n",
        "        out = out.permute(1,0,2).contiguous()\n",
        "        out = out.view(-1, out.shape[-1])\n",
        "        # out: (batch_size * seq_len, vocab_len)\n",
        "\n",
        "        return out, last_hidden, last_cell, lstm_hs, dropped_lstm_hs"
      ],
      "metadata": {
        "id": "ZDq8IxmtflpL"
      },
      "execution_count": 12,
      "outputs": []
    },
    {
      "cell_type": "markdown",
      "source": [
        "\n",
        "<br/>\n",
        "\n",
        "### Training loop\n",
        "\n",
        "As done for the architectural design, also in the training pipeline some additional **regularization** and **optimization** techniques are introduced to improve the training and achieve a better performing model.\n",
        "\n",
        "* A very simple but effective adjustment, which is fundamental for reducing the impact of exploding gradients during training, is represented by **gradient clipping**. The problem of exploding gradients is particularly common with recurrent neural networks, such as LSTMs given the accumulation of gradients unrolled over all the input timesteps. With gradient clipping, pre-determined gradient threshold be introduced, and  then gradients norms that exceed this threshold are scaled down, making the training phase more stable.\n",
        "\n",
        "* As well as introducing the **weight decay** regularization technique to reduce the problem of overfitting, $L_2$ decay is used also on the individual\n",
        "unit activations and on the difference in outputs\n",
        "of the LSTM at different time steps. These last two strategies are labeled\n",
        "as **Activation Regularization** (AR) and **Temporal Activation\n",
        "Regularization** (TAR) respectively. Their influence is regulated by the **alpha** and **beta** hyperparameters, and their application was suggested by the *Regularizing and Optimizing LSTM Language Models* paper, which also provides their definition.\n",
        "\n",
        "In this case, differently from the baseline setting, a sort of **Truncated Backpropagation Through Time** is implemented in order to obtain better gradients during training, reduce the problem of vanishing and exploding gradients, speed up training and converge faster. Indeed, the same amount of improvements in the training perplexity happens **at least 10 epochs before** with respect to the case of simple BPTT.\n",
        "\n",
        "Only one truncation is applied to the batch, and it is performed **after the 25th position** of the sentences. The first sub-batch obtained from the original one, in which the maximum sentence length is 25, is passed as input to the RNN model and backpropagation and weight update are performed. After that, before considering the second part of the truncated batch, the final values of the hidden state and cell state of the LSTM are **detached from the computational graph** (while their value is maintained unaltered), in order to avoid considering the first subset of timesteps for the computation of future gradients. Besides being detached, they are also **resized** in order to maintain just the ones that are necessary for the processing of the second sub-batch (their batch size value will have to correspond to the second mini-batch size).\n",
        "\n",
        "The second sub-batch, composed by the remaining parts of the initial sentences, and that could have a **lower batch size** with respect to the initial one, is then passed as input to the RNN. The corresponding loss is then acquired and the backpropagation and weight update steps are performed, limiting the computation of errors and gradients to the timesteps of the current sub-batch.\n",
        "\n",
        "This clearly implies that if the maximum length of the sentences in the batch is less than 25, the truncation is not performed and a simple BackPropagation Through Time is applied to the batch. In this case, indeed, there is no particular need for TBPTT. \n",
        "The specific value of **25** was chosen by considering and studying the frequency distribution of the sentences' lengths for all sentences in the training set. Since the most frequent sentence length is around 20, and **most sentences have length values lower than 25**, this choice for the truncation threshold allows to perform just one backpropagation step for most sentences (the ones with length $<$ 25), while splitting and performing two BPTT steps just for the remaining sequences, that are much fewer. This condition grants a more stable and fast training with respect to setting the truncation threshold to a randomly chosen value.\n",
        "\n",
        "When a new batch, taken from the dataloader, is processed, the LSTM's hidden state and cell state are detached from the computational graph, while their values are **maintained unaltered**. This didn't happen in the baseline case, in which they were re-initialized to 0 with every new batch."
      ],
      "metadata": {
        "id": "XTRQ2vlaTSz6"
      }
    },
    {
      "cell_type": "code",
      "source": [
        "def train_loop(data_loader, optimizer, cost_function, model, alpha = 2, beta = 1, clip = 0.25, hidden = None, cell = None, device = 'cuda:0'):\n",
        "\n",
        "    # Set the model in training mode\n",
        "    model.train()\n",
        "\n",
        "    # Cumulative loss values obtained for each batch\n",
        "    loss_sum_array = []\n",
        "\n",
        "    # Total number of words in the batch\n",
        "    num_words_array = []\n",
        "\n",
        "    # Iterate over the training set\n",
        "    for batch_idx, (inputs, targets, lengths) in enumerate(data_loader):\n",
        "\n",
        "       if lengths[0].item() > 25:\n",
        "\n",
        "          inputs_1 = inputs[:, :25]\n",
        "          targets_1 = targets[:, :25]\n",
        "          lengths_1 = torch.LongTensor([min(25, k) for k in lengths.tolist()])\n",
        "          lengths_2 = torch.LongTensor([lengths[i] - lengths_1[i] for i in range(len(lengths)) if lengths[i] - lengths_1[i] != 0])\n",
        "          inputs_2 = inputs[:len(lengths_2), 25:]\n",
        "          targets_2 = targets[:len(lengths_2), 25:]\n",
        "\n",
        "          \"\"\" First half of minibatch \"\"\"\n",
        "\n",
        "          # Load data into GPU\n",
        "          inputs_1 = inputs_1.to(device)\n",
        "          targets_1 = targets_1.to(device)\n",
        "          lengths_1 = lengths_1.to(device)\n",
        "            \n",
        "          # Gradients reset\n",
        "          optimizer.zero_grad()\n",
        "\n",
        "          # Forward pass\n",
        "          if hidden != None:\n",
        "            hidden = hidden.detach()[:, :len(lengths_1)].contiguous()\n",
        "            cell = cell.detach()[:, :len(lengths_1)].contiguous()\n",
        "          outputs_1, hidden, cell, rnn_hs, dropped_rnn_hs = model(inputs_1, lengths_1, hidden, cell)\n",
        "\n",
        "          # Loss computation\n",
        "          loss_1 = cost_function(outputs_1, targets_1.view(-1))\n",
        "\n",
        "          # Update of the loss array and number of words array\n",
        "          loss_sum_array.append(loss_1.item())\n",
        "          num_words_array.append((torch.sum(lengths_1)).item())\n",
        "\n",
        "          # Activation Regularization\n",
        "          loss_1 = loss_1 + (alpha * dropped_rnn_hs.pow(2).mean())\n",
        "\n",
        "          # Temporal Activation Regularization (slowness)\n",
        "          loss_1 = loss_1 + (beta * (rnn_hs[1:] - rnn_hs[:-1]).pow(2).mean())\n",
        "\n",
        "          # Backward pass\n",
        "          loss_1.backward()\n",
        "          torch.nn.utils.clip_grad_norm_(model.parameters(), clip) \n",
        "          \n",
        "          # Parameters update\n",
        "          optimizer.step()\n",
        "\n",
        "          \"\"\" Second half of minibatch \"\"\"\n",
        "\n",
        "          # Load data into GPU\n",
        "          inputs_2 = inputs_2.to(device)\n",
        "          targets_2 = targets_2.to(device)\n",
        "          lengths_2 = lengths_2.to(device)\n",
        "\n",
        "            \n",
        "          # Gradients reset\n",
        "          optimizer.zero_grad()\n",
        "\n",
        "          # Forward pass: the hidden state and cell are resized in order to \n",
        "          # fit the second mini-batch size\n",
        "          hidden = hidden.detach()\n",
        "          cell = cell.detach()\n",
        "          hidden_2 = hidden[:, :len(lengths_2)].contiguous() \n",
        "          cell_2 = cell[:, :len(lengths_2)].contiguous()\n",
        "          outputs_2, hidden_2, cell_2, rnn_hs, dropped_rnn_hs = model(inputs_2, lengths_2, hidden_2, cell_2)\n",
        "\n",
        "          # Loss computation\n",
        "          loss_2 = cost_function(outputs_2, targets_2.view(-1))\n",
        "\n",
        "          # Update of the loss array and number of words array\n",
        "          loss_sum_array.append(loss_2.item())\n",
        "          num_words_array.append((torch.sum(lengths_2)).item())\n",
        "\n",
        "          # Activation Regularization\n",
        "          loss_2 = loss_2 + (alpha * dropped_rnn_hs.pow(2).mean())\n",
        "\n",
        "          # Temporal Activation Regularization (slowness)\n",
        "          loss_2 = loss_2 + (beta * (rnn_hs[1:] - rnn_hs[:-1]).pow(2).mean())\n",
        "\n",
        "          # Backward pass\n",
        "          loss_2.backward()\n",
        "          torch.nn.utils.clip_grad_norm_(model.parameters(), clip) \n",
        "          \n",
        "          # Parameters update\n",
        "          optimizer.step()\n",
        "\n",
        "          hidden[:, :len(lengths_2)] = hidden_2\n",
        "          cell[:, :len(lengths_2)] = cell_2\n",
        "\n",
        "       else:\n",
        "\n",
        "          \"\"\" Entire mini-batch is processed \"\"\"\n",
        "\n",
        "          # Load data into GPU\n",
        "          inputs = inputs.to(device)\n",
        "          targets = targets.to(device)\n",
        "          lengths = lengths.to(device)\n",
        "\n",
        "          # Gradients reset\n",
        "          optimizer.zero_grad()\n",
        "\n",
        "          # Forward pass\n",
        "          if hidden != None:\n",
        "            hidden = hidden.detach()[:, :len(lengths)].contiguous()\n",
        "            cell = cell.detach()[:, :len(lengths)].contiguous()\n",
        "          outputs, hidden, cell, rnn_hs, dropped_rnn_hs = model(inputs, lengths, hidden, cell)\n",
        "\n",
        "          # Loss computation\n",
        "          loss = cost_function(outputs, targets.view(-1))\n",
        "\n",
        "          # Update of the loss array and number of words array\n",
        "          loss_sum_array.append(loss.item())\n",
        "          num_words_array.append((torch.sum(lengths)).item())\n",
        "\n",
        "          # Activation Regularization\n",
        "          loss = loss + (alpha * dropped_rnn_hs.pow(2).mean())\n",
        "\n",
        "          # Temporal Activation Regularization (slowness)\n",
        "          loss = loss + (beta * (rnn_hs[1:] - rnn_hs[:-1]).pow(2).mean())\n",
        "\n",
        "          # Backward pass\n",
        "          loss.backward()\n",
        "          torch.nn.utils.clip_grad_norm_(model.parameters(), clip) \n",
        "          \n",
        "          # Parameters update\n",
        "          optimizer.step()\n",
        "      \n",
        "    return loss_sum_array, num_words_array"
      ],
      "metadata": {
        "id": "WkS1rQCrTSz_"
      },
      "execution_count": 23,
      "outputs": []
    },
    {
      "cell_type": "markdown",
      "source": [
        "\n",
        "<br/>\n",
        "\n",
        "### Evaluation loop\n",
        "\n",
        "The evaluation loop remains the same as the one adopted in the case of the baseline models. Indeed, the truncation of the batches into two sub-batches is useful only to improve the learning procedure when applying Backpropagation Through Time.\n",
        "\n",
        "The only difference from the baseline case is that the values of the hidden states and cell states of the LSTM layer are not re-initialized to 0 each time a new batch is processed; indeed, they are detached from the computational graph but their value is maintained unaltered. "
      ],
      "metadata": {
        "id": "eSpo33KvatRA"
      }
    },
    {
      "cell_type": "code",
      "source": [
        "def eval_loop(data_loader, cost_function, model, hidden = None, cell = None, device = 'cuda:0'):\n",
        "\n",
        "  # Set the network to evaluation mode\n",
        "  model.eval() \n",
        "\n",
        "  # Cumulative loss values obtained for each batch\n",
        "  loss_sum_array = []\n",
        "\n",
        "  # Total number of words in the batch\n",
        "  num_words_array = []\n",
        "\n",
        "  # Disable gradient computation \n",
        "  with torch.no_grad():\n",
        "\n",
        "    # Iterate over the test set\n",
        "    for batch_idx, (inputs, targets, lengths) in enumerate(data_loader):\n",
        "      \n",
        "        # Load data into GPU\n",
        "        inputs = inputs.to(device)\n",
        "        targets = targets.to(device)\n",
        "        lengths = lengths.to(device)\n",
        "\n",
        "        # Forward pass\n",
        "        if hidden != None:\n",
        "            hidden = hidden[:, :len(lengths)].contiguous()\n",
        "            cell = cell[:, :len(lengths)].contiguous()\n",
        "        outputs, hidden, cell, _, _ = model(inputs, lengths, hidden, cell)\n",
        "\n",
        "        # Loss computation\n",
        "        loss = cost_function(outputs, targets.view(-1))\n",
        "\n",
        "        # Update of the loss array\n",
        "        loss_sum_array.append(loss.item())\n",
        "        num_words_array.append((torch.sum(lengths)).item())\n",
        "      \n",
        "  return loss_sum_array, num_words_array"
      ],
      "metadata": {
        "id": "csl_pXudG8KH"
      },
      "execution_count": 14,
      "outputs": []
    },
    {
      "cell_type": "markdown",
      "source": [
        "\n",
        "<br/>\n",
        "\n",
        "### Definition of the training procedure\n"
      ],
      "metadata": {
        "id": "qlu6rumE-ld-"
      }
    },
    {
      "cell_type": "code",
      "source": [
        "def main(model, \n",
        "         prediction_loss,\n",
        "         optimizer, \n",
        "         train_loader, \n",
        "         valid_loader, \n",
        "         test_loader,\n",
        "         n_epochs = 200,   \n",
        "         patience = 3):\n",
        "\n",
        "    # Vectors filled during training that allow to plot the loss variations across epochs\n",
        "    losses_train = []\n",
        "    losses_valid = []\n",
        "    sampled_epochs = []\n",
        "\n",
        "    # Initial best loss value, used for the early stopping technique\n",
        "    best_loss = 100.00\n",
        "\n",
        "\n",
        "    for x in tqdm(range(1, n_epochs)):\n",
        "\n",
        "        # For each epoch:\n",
        "        print('Epoch n. ', x, '\\n')\n",
        "\n",
        "        \"\"\" Cross entropy loss and perplexity on the training set \"\"\"\n",
        "        loss_train, num_words = train_loop(train_loader, optimizer, prediction_loss, model)\n",
        "\n",
        "        # Cross entropy\n",
        "        ce_train = np.asarray(loss_train).sum() / np.asarray(num_words).sum()\n",
        "        print('CE on the training set: ', ce_train, '\\n')\n",
        "\n",
        "        # Perplexity\n",
        "        perplexity_train = np.exp(ce_train)\n",
        "        print('Perplexity on the training set: ', perplexity_train, '\\n')\n",
        "\n",
        "        if x % 3 == 0:\n",
        "\n",
        "            sampled_epochs.append(x)\n",
        "            losses_train.append(ce_train)\n",
        "\n",
        "            \"\"\" Cross entropy loss and perplexity on the validation set \"\"\"\n",
        "            loss_valid, num_words = eval_loop(valid_loader, prediction_loss, model)\n",
        "\n",
        "            # Cross entropy\n",
        "            ce_valid = np.asarray(loss_valid).sum() / np.asarray(num_words).sum()\n",
        "            print('CE on the validation set: ', ce_valid, '\\n')\n",
        "\n",
        "            # Perplexity\n",
        "            perplexity_valid = np.exp(ce_valid)\n",
        "            print('Perplexity on the validation set: ', perplexity_valid, '\\n')\n",
        "\n",
        "            losses_valid.append(ce_valid)\n",
        "\n",
        "            if ce_valid < best_loss:\n",
        "                best_loss = ce_valid\n",
        "            else:\n",
        "                patience -= 1\n",
        "            if patience <= 0: \n",
        "                # Early stopping with patience\n",
        "                break \n",
        "\n",
        "\n",
        "    \"\"\" Cross entropy loss and perplexity on the test set \"\"\"\n",
        "    loss_test, num_words = eval_loop(test_loader, prediction_loss, model)\n",
        "\n",
        "    # Cross entropy\n",
        "    ce_test = np.asarray(loss_test).sum() / np.asarray(num_words).sum()\n",
        "    print('CE on the test set: ', ce_test, '\\n')\n",
        "\n",
        "    # Perplexity\n",
        "    perplexity_test = np.exp(ce_test)\n",
        "    print('Perplexity on the test set: ', perplexity_test, '\\n')\n",
        "\n",
        "\n",
        "    return losses_train, losses_valid, sampled_epochs, model\n"
      ],
      "metadata": {
        "id": "JONz8aR3-leA"
      },
      "execution_count": 24,
      "outputs": []
    },
    {
      "cell_type": "markdown",
      "source": [
        "\n",
        "<br/>\n",
        "\n",
        "### Training of the neural network\n",
        "\n",
        "In order to train the improved LSTM Language Models, the previously defined **main** procedure is invoked, but some important elements and hyperparameters introduced or changed:\n",
        "\n",
        "*  the **model architecture** corresponds now to the newly defined one: in this case the hidden size and embedding size coincide, otherwise it would not be possible to put in place **weight tying**. Their dimension is set to 500 in order to increase the model's **capacity**.\n",
        "\n",
        "*  The **optimizer**: I tried training the model both using ASGD, as suggested by the *Regularizing and Optimizing LSTM Language Models* paper, and Adam. For my model, **Adam** optimization resulted in being the best performing one among the two. The learning rate **lr** is initialized to the value that has shown to work well in practice, and **weight decay** regularization is introduced along with the optimization procedure.\n",
        "\n",
        "*   The **clip** hyperparameter defined the threshold above which to perform gradient norm clipping. Its value was set to 0.25, as proposed in the *Regularizing and Optimizing LSTM Language Models* paper.\n",
        "\n",
        "In order to show the improvements in the performance brought by the introduction of the **attention module**, the improved LSTM model is trained and evaluated in two cases: with and without the presence of the attention layer. Its introduction in the architecture can be regulated through a simple binary input parameter in the definition of the model. \n",
        "\n",
        "<br/>\n",
        "\n",
        "1.  **Improved model WITHOUT attention**"
      ],
      "metadata": {
        "id": "uaiTPa8DcjjI"
      }
    },
    {
      "cell_type": "code",
      "source": [
        "# Hyperparameters \n",
        "n_epochs = 200        # Number of epochs\n",
        "patience = 3          # Patience parameter for the early stopping regularization\n",
        "hid_size = 500        # Size of the hidden LSTM representation \n",
        "emb_size = 500        # Size of the embedding vector\n",
        "lr = 0.001            # Learning rate for the optimization phase\n",
        "clip = 0.25           # Threshold used to clip the gradient and avoid the exploding gradient problem\n",
        "wd = 1.2e-5           # Weight decay regularization\n",
        "\n",
        "# Computation of the length of the vocabulary \n",
        "vocab_len = len(vocab.word2id)\n",
        "\n",
        "# Definition of the model, initialization of the weights\n",
        "model_noatt = Improved_LSTM(hid_size, emb_size, vocab_len, attention = False, pad_index=PAD_TOKEN, tie_weights=True).to(device)\n",
        "model_noatt.apply(init_weights)\n",
        "\n",
        "# Definition of the optimizer\n",
        "optimizer = torch.optim.Adam(model_noatt.parameters(), lr = lr, weight_decay = wd)\n",
        "#optimizer = torch.optim.ASGD(model_noatt.parameters(), lr = lr, weight_decay=wd)\n",
        "\n",
        "# Definition of the loss\n",
        "prediction_loss = nn.CrossEntropyLoss(ignore_index = PAD_TOKEN, reduction = 'sum')\n",
        "\n",
        "# Training procedure\n",
        "loss_train_noatt, loss_valid_noatt, sampled_epochs_noatt, model_noatt = main(model_noatt, \n",
        "                                                                        prediction_loss,\n",
        "                                                                        optimizer, \n",
        "                                                                        train_loader, \n",
        "                                                                        valid_loader, \n",
        "                                                                        test_loader,\n",
        "                                                                        n_epochs = n_epochs,   \n",
        "                                                                        patience = patience)\n",
        "# Save the trained model \n",
        "torch.save(model_noatt.state_dict(), \"gdrive/MyDrive/NLU_project/models/final_model_noatt\")"
      ],
      "metadata": {
        "id": "ToeEUTvMcjjL",
        "colab": {
          "base_uri": "https://localhost:8080/"
        },
        "outputId": "114c88ad-ea48-4b89-d2d6-652c8cdf77cd"
      },
      "execution_count": null,
      "outputs": [
        {
          "output_type": "stream",
          "name": "stderr",
          "text": [
            "\r  0%|          | 0/199 [00:00<?, ?it/s]"
          ]
        },
        {
          "output_type": "stream",
          "name": "stdout",
          "text": [
            "Epoch n.  1 \n",
            "\n"
          ]
        },
        {
          "output_type": "stream",
          "name": "stderr",
          "text": [
            "\r  1%|          | 1/199 [00:29<1:38:48, 29.94s/it]"
          ]
        },
        {
          "output_type": "stream",
          "name": "stdout",
          "text": [
            "CE on the training set:  5.920194669568814 \n",
            "\n",
            "Perplexity on the training set:  372.48421816090377 \n",
            "\n",
            "Epoch n.  2 \n",
            "\n"
          ]
        },
        {
          "output_type": "stream",
          "name": "stderr",
          "text": [
            "\r  1%|          | 2/199 [00:59<1:37:20, 29.65s/it]"
          ]
        },
        {
          "output_type": "stream",
          "name": "stdout",
          "text": [
            "CE on the training set:  5.353861609159008 \n",
            "\n",
            "Perplexity on the training set:  211.42315712005765 \n",
            "\n",
            "Epoch n.  3 \n",
            "\n",
            "CE on the training set:  5.153573609694759 \n",
            "\n",
            "Perplexity on the training set:  173.04879550929178 \n",
            "\n"
          ]
        },
        {
          "output_type": "stream",
          "name": "stderr",
          "text": [
            "\r  2%|▏         | 3/199 [01:29<1:37:32, 29.86s/it]"
          ]
        },
        {
          "output_type": "stream",
          "name": "stdout",
          "text": [
            "CE on the validation set:  5.0517420624988905 \n",
            "\n",
            "Perplexity on the validation set:  156.29450225536107 \n",
            "\n",
            "Epoch n.  4 \n",
            "\n"
          ]
        },
        {
          "output_type": "stream",
          "name": "stderr",
          "text": [
            "\r  2%|▏         | 4/199 [01:59<1:37:18, 29.94s/it]"
          ]
        },
        {
          "output_type": "stream",
          "name": "stdout",
          "text": [
            "CE on the training set:  5.033255323085079 \n",
            "\n",
            "Perplexity on the training set:  153.431670267705 \n",
            "\n",
            "Epoch n.  5 \n",
            "\n"
          ]
        },
        {
          "output_type": "stream",
          "name": "stderr",
          "text": [
            "\r  3%|▎         | 5/199 [02:28<1:36:10, 29.75s/it]"
          ]
        },
        {
          "output_type": "stream",
          "name": "stdout",
          "text": [
            "CE on the training set:  4.951359014487651 \n",
            "\n",
            "Perplexity on the training set:  141.36695317127666 \n",
            "\n",
            "Epoch n.  6 \n",
            "\n",
            "CE on the training set:  4.886910134597233 \n",
            "\n",
            "Perplexity on the training set:  132.54339942118406 \n",
            "\n"
          ]
        },
        {
          "output_type": "stream",
          "name": "stderr",
          "text": [
            "\r  3%|▎         | 6/199 [02:59<1:36:06, 29.88s/it]"
          ]
        },
        {
          "output_type": "stream",
          "name": "stdout",
          "text": [
            "CE on the validation set:  4.875260362328412 \n",
            "\n",
            "Perplexity on the validation set:  131.00825838596907 \n",
            "\n",
            "Epoch n.  7 \n",
            "\n"
          ]
        },
        {
          "output_type": "stream",
          "name": "stderr",
          "text": [
            "\r  4%|▎         | 7/199 [03:28<1:35:11, 29.75s/it]"
          ]
        },
        {
          "output_type": "stream",
          "name": "stdout",
          "text": [
            "CE on the training set:  4.83968817550634 \n",
            "\n",
            "Perplexity on the training set:  126.429921636502 \n",
            "\n",
            "Epoch n.  8 \n",
            "\n"
          ]
        },
        {
          "output_type": "stream",
          "name": "stderr",
          "text": [
            "\r  4%|▍         | 8/199 [03:58<1:34:44, 29.76s/it]"
          ]
        },
        {
          "output_type": "stream",
          "name": "stdout",
          "text": [
            "CE on the training set:  4.803760388681202 \n",
            "\n",
            "Perplexity on the training set:  121.96820410572555 \n",
            "\n",
            "Epoch n.  9 \n",
            "\n",
            "CE on the training set:  4.773603875664071 \n",
            "\n",
            "Perplexity on the training set:  118.34497493066131 \n",
            "\n"
          ]
        },
        {
          "output_type": "stream",
          "name": "stderr",
          "text": [
            "\r  5%|▍         | 9/199 [04:28<1:34:49, 29.95s/it]"
          ]
        },
        {
          "output_type": "stream",
          "name": "stdout",
          "text": [
            "CE on the validation set:  4.812674349494779 \n",
            "\n",
            "Perplexity on the validation set:  123.06028404525827 \n",
            "\n",
            "Epoch n.  10 \n",
            "\n"
          ]
        },
        {
          "output_type": "stream",
          "name": "stderr",
          "text": [
            "\r  5%|▌         | 10/199 [04:58<1:33:48, 29.78s/it]"
          ]
        },
        {
          "output_type": "stream",
          "name": "stdout",
          "text": [
            "CE on the training set:  4.749945898325019 \n",
            "\n",
            "Perplexity on the training set:  115.57803139294731 \n",
            "\n",
            "Epoch n.  11 \n",
            "\n"
          ]
        },
        {
          "output_type": "stream",
          "name": "stderr",
          "text": [
            "\r  6%|▌         | 11/199 [05:27<1:33:00, 29.68s/it]"
          ]
        },
        {
          "output_type": "stream",
          "name": "stdout",
          "text": [
            "CE on the training set:  4.728729398929088 \n",
            "\n",
            "Perplexity on the training set:  113.15170030080073 \n",
            "\n",
            "Epoch n.  12 \n",
            "\n",
            "CE on the training set:  4.710891543265299 \n",
            "\n",
            "Perplexity on the training set:  111.15121185894995 \n",
            "\n"
          ]
        },
        {
          "output_type": "stream",
          "name": "stderr",
          "text": [
            "\r  6%|▌         | 12/199 [05:57<1:32:55, 29.82s/it]"
          ]
        },
        {
          "output_type": "stream",
          "name": "stdout",
          "text": [
            "CE on the validation set:  4.7682983450463485 \n",
            "\n",
            "Perplexity on the validation set:  117.71875472688279 \n",
            "\n",
            "Epoch n.  13 \n",
            "\n"
          ]
        },
        {
          "output_type": "stream",
          "name": "stderr",
          "text": [
            "\r  7%|▋         | 13/199 [06:27<1:32:32, 29.85s/it]"
          ]
        },
        {
          "output_type": "stream",
          "name": "stdout",
          "text": [
            "CE on the training set:  4.6969705947409555 \n",
            "\n",
            "Perplexity on the training set:  109.61460190949687 \n",
            "\n",
            "Epoch n.  14 \n",
            "\n"
          ]
        },
        {
          "output_type": "stream",
          "name": "stderr",
          "text": [
            "\r  7%|▋         | 14/199 [06:57<1:31:42, 29.74s/it]"
          ]
        },
        {
          "output_type": "stream",
          "name": "stdout",
          "text": [
            "CE on the training set:  4.683995227987173 \n",
            "\n",
            "Perplexity on the training set:  108.20149983278743 \n",
            "\n",
            "Epoch n.  15 \n",
            "\n",
            "CE on the training set:  4.672786844328868 \n",
            "\n",
            "Perplexity on the training set:  106.99550715009322 \n",
            "\n"
          ]
        },
        {
          "output_type": "stream",
          "name": "stderr",
          "text": [
            "\r  8%|▊         | 15/199 [07:27<1:31:44, 29.92s/it]"
          ]
        },
        {
          "output_type": "stream",
          "name": "stdout",
          "text": [
            "CE on the validation set:  4.75330877660401 \n",
            "\n",
            "Perplexity on the validation set:  115.96736051055511 \n",
            "\n",
            "Epoch n.  16 \n",
            "\n"
          ]
        },
        {
          "output_type": "stream",
          "name": "stderr",
          "text": [
            "\r  8%|▊         | 16/199 [07:56<1:30:52, 29.80s/it]"
          ]
        },
        {
          "output_type": "stream",
          "name": "stdout",
          "text": [
            "CE on the training set:  4.6629535632785135 \n",
            "\n",
            "Perplexity on the training set:  105.94854622385154 \n",
            "\n",
            "Epoch n.  17 \n",
            "\n"
          ]
        },
        {
          "output_type": "stream",
          "name": "stderr",
          "text": [
            "\r  9%|▊         | 17/199 [08:26<1:30:09, 29.72s/it]"
          ]
        },
        {
          "output_type": "stream",
          "name": "stdout",
          "text": [
            "CE on the training set:  4.6547024184341375 \n",
            "\n",
            "Perplexity on the training set:  105.07794608612653 \n",
            "\n",
            "Epoch n.  18 \n",
            "\n",
            "CE on the training set:  4.646008368794296 \n",
            "\n",
            "Perplexity on the training set:  104.1683529601021 \n",
            "\n"
          ]
        },
        {
          "output_type": "stream",
          "name": "stderr",
          "text": [
            "\r  9%|▉         | 18/199 [08:57<1:30:27, 29.99s/it]"
          ]
        },
        {
          "output_type": "stream",
          "name": "stdout",
          "text": [
            "CE on the validation set:  4.733966571706519 \n",
            "\n",
            "Perplexity on the validation set:  113.7458497790467 \n",
            "\n",
            "Epoch n.  19 \n",
            "\n"
          ]
        },
        {
          "output_type": "stream",
          "name": "stderr",
          "text": [
            "\r 10%|▉         | 19/199 [09:26<1:29:29, 29.83s/it]"
          ]
        },
        {
          "output_type": "stream",
          "name": "stdout",
          "text": [
            "CE on the training set:  4.6367031820536955 \n",
            "\n",
            "Perplexity on the training set:  103.20354281425355 \n",
            "\n",
            "Epoch n.  20 \n",
            "\n"
          ]
        },
        {
          "output_type": "stream",
          "name": "stderr",
          "text": [
            "\r 10%|█         | 20/199 [09:56<1:28:42, 29.73s/it]"
          ]
        },
        {
          "output_type": "stream",
          "name": "stdout",
          "text": [
            "CE on the training set:  4.632749057708531 \n",
            "\n",
            "Perplexity on the training set:  102.79626890958247 \n",
            "\n",
            "Epoch n.  21 \n",
            "\n",
            "CE on the training set:  4.629239270357868 \n",
            "\n",
            "Perplexity on the training set:  102.4361082786047 \n",
            "\n"
          ]
        },
        {
          "output_type": "stream",
          "name": "stderr",
          "text": [
            "\r 11%|█         | 21/199 [10:26<1:28:32, 29.84s/it]"
          ]
        },
        {
          "output_type": "stream",
          "name": "stdout",
          "text": [
            "CE on the validation set:  4.727654376370712 \n",
            "\n",
            "Perplexity on the validation set:  113.03012503024632 \n",
            "\n",
            "Epoch n.  22 \n",
            "\n"
          ]
        },
        {
          "output_type": "stream",
          "name": "stderr",
          "text": [
            "\r 11%|█         | 22/199 [10:56<1:28:07, 29.88s/it]"
          ]
        },
        {
          "output_type": "stream",
          "name": "stdout",
          "text": [
            "CE on the training set:  4.622868866757416 \n",
            "\n",
            "Perplexity on the training set:  101.78562305215809 \n",
            "\n",
            "Epoch n.  23 \n",
            "\n"
          ]
        },
        {
          "output_type": "stream",
          "name": "stderr",
          "text": [
            "\r 12%|█▏        | 23/199 [11:25<1:27:14, 29.74s/it]"
          ]
        },
        {
          "output_type": "stream",
          "name": "stdout",
          "text": [
            "CE on the training set:  4.615642140731768 \n",
            "\n",
            "Perplexity on the training set:  101.0526977559507 \n",
            "\n",
            "Epoch n.  24 \n",
            "\n",
            "CE on the training set:  4.612286308289339 \n",
            "\n",
            "Perplexity on the training set:  100.71415020656694 \n",
            "\n"
          ]
        },
        {
          "output_type": "stream",
          "name": "stderr",
          "text": [
            "\r 12%|█▏        | 24/199 [11:55<1:27:02, 29.84s/it]"
          ]
        },
        {
          "output_type": "stream",
          "name": "stdout",
          "text": [
            "CE on the validation set:  4.719058517583952 \n",
            "\n",
            "Perplexity on the validation set:  112.06269792704671 \n",
            "\n",
            "Epoch n.  25 \n",
            "\n"
          ]
        },
        {
          "output_type": "stream",
          "name": "stderr",
          "text": [
            "\r 13%|█▎        | 25/199 [12:25<1:26:19, 29.77s/it]"
          ]
        },
        {
          "output_type": "stream",
          "name": "stdout",
          "text": [
            "CE on the training set:  4.607303047975978 \n",
            "\n",
            "Perplexity on the training set:  100.21351381559792 \n",
            "\n",
            "Epoch n.  26 \n",
            "\n"
          ]
        },
        {
          "output_type": "stream",
          "name": "stderr",
          "text": [
            "\r 13%|█▎        | 26/199 [12:54<1:25:33, 29.67s/it]"
          ]
        },
        {
          "output_type": "stream",
          "name": "stdout",
          "text": [
            "CE on the training set:  4.604435233315628 \n",
            "\n",
            "Perplexity on the training set:  99.92653173390991 \n",
            "\n",
            "Epoch n.  27 \n",
            "\n",
            "CE on the training set:  4.60033446168875 \n",
            "\n",
            "Perplexity on the training set:  99.51759489915557 \n",
            "\n"
          ]
        },
        {
          "output_type": "stream",
          "name": "stderr",
          "text": [
            "\r 14%|█▎        | 27/199 [13:25<1:25:53, 29.96s/it]"
          ]
        },
        {
          "output_type": "stream",
          "name": "stdout",
          "text": [
            "CE on the validation set:  4.702830480875524 \n",
            "\n",
            "Perplexity on the validation set:  110.25881666449409 \n",
            "\n",
            "Epoch n.  28 \n",
            "\n"
          ]
        },
        {
          "output_type": "stream",
          "name": "stderr",
          "text": [
            "\r 14%|█▍        | 28/199 [13:54<1:24:58, 29.82s/it]"
          ]
        },
        {
          "output_type": "stream",
          "name": "stdout",
          "text": [
            "CE on the training set:  4.597208533835347 \n",
            "\n",
            "Perplexity on the training set:  99.20699578548326 \n",
            "\n",
            "Epoch n.  29 \n",
            "\n"
          ]
        },
        {
          "output_type": "stream",
          "name": "stderr",
          "text": [
            "\r 15%|█▍        | 29/199 [14:24<1:24:09, 29.70s/it]"
          ]
        },
        {
          "output_type": "stream",
          "name": "stdout",
          "text": [
            "CE on the training set:  4.59526373228634 \n",
            "\n",
            "Perplexity on the training set:  99.01424535782506 \n",
            "\n",
            "Epoch n.  30 \n",
            "\n",
            "CE on the training set:  4.592030641252163 \n",
            "\n",
            "Perplexity on the training set:  98.69464022354929 \n",
            "\n"
          ]
        },
        {
          "output_type": "stream",
          "name": "stderr",
          "text": [
            "\r 15%|█▌        | 30/199 [14:54<1:23:59, 29.82s/it]"
          ]
        },
        {
          "output_type": "stream",
          "name": "stdout",
          "text": [
            "CE on the validation set:  4.704808384119948 \n",
            "\n",
            "Perplexity on the validation set:  110.47711374979112 \n",
            "\n",
            "Epoch n.  31 \n",
            "\n"
          ]
        },
        {
          "output_type": "stream",
          "name": "stderr",
          "text": [
            "\r 16%|█▌        | 31/199 [15:24<1:23:47, 29.93s/it]"
          ]
        },
        {
          "output_type": "stream",
          "name": "stdout",
          "text": [
            "CE on the training set:  4.589619847689723 \n",
            "\n",
            "Perplexity on the training set:  98.45699439286871 \n",
            "\n",
            "Epoch n.  32 \n",
            "\n"
          ]
        },
        {
          "output_type": "stream",
          "name": "stderr",
          "text": [
            "\r 16%|█▌        | 32/199 [15:54<1:23:01, 29.83s/it]"
          ]
        },
        {
          "output_type": "stream",
          "name": "stdout",
          "text": [
            "CE on the training set:  4.586842669733693 \n",
            "\n",
            "Perplexity on the training set:  98.18394113266997 \n",
            "\n",
            "Epoch n.  33 \n",
            "\n",
            "CE on the training set:  4.584919976348843 \n",
            "\n",
            "Perplexity on the training set:  97.99534488303586 \n",
            "\n"
          ]
        },
        {
          "output_type": "stream",
          "name": "stderr",
          "text": [
            "\r 17%|█▋        | 33/199 [16:24<1:22:49, 29.94s/it]"
          ]
        },
        {
          "output_type": "stream",
          "name": "stdout",
          "text": [
            "CE on the validation set:  4.705938041763967 \n",
            "\n",
            "Perplexity on the validation set:  110.60198558375926 \n",
            "\n",
            "Epoch n.  34 \n",
            "\n"
          ]
        },
        {
          "output_type": "stream",
          "name": "stderr",
          "text": [
            "\r 17%|█▋        | 34/199 [16:53<1:21:57, 29.80s/it]"
          ]
        },
        {
          "output_type": "stream",
          "name": "stdout",
          "text": [
            "CE on the training set:  4.583081324245039 \n",
            "\n",
            "Perplexity on the training set:  97.81533107809776 \n",
            "\n",
            "Epoch n.  35 \n",
            "\n"
          ]
        },
        {
          "output_type": "stream",
          "name": "stderr",
          "text": [
            "\r 18%|█▊        | 35/199 [17:23<1:21:13, 29.72s/it]"
          ]
        },
        {
          "output_type": "stream",
          "name": "stdout",
          "text": [
            "CE on the training set:  4.580225754305546 \n",
            "\n",
            "Perplexity on the training set:  97.53641098649679 \n",
            "\n",
            "Epoch n.  36 \n",
            "\n",
            "CE on the training set:  4.576608272093108 \n",
            "\n",
            "Perplexity on the training set:  97.18421217523358 \n",
            "\n"
          ]
        },
        {
          "output_type": "stream",
          "name": "stderr",
          "text": [
            "\r 18%|█▊        | 35/199 [17:54<1:23:53, 30.69s/it]"
          ]
        },
        {
          "output_type": "stream",
          "name": "stdout",
          "text": [
            "CE on the validation set:  4.7036897941380165 \n",
            "\n",
            "Perplexity on the validation set:  110.35360424824181 \n",
            "\n"
          ]
        },
        {
          "output_type": "stream",
          "name": "stderr",
          "text": [
            "\n"
          ]
        },
        {
          "output_type": "stream",
          "name": "stdout",
          "text": [
            "CE on the test set:  4.672596721384655 \n",
            "\n",
            "Perplexity on the test set:  106.9751667829028 \n",
            "\n"
          ]
        }
      ]
    },
    {
      "cell_type": "markdown",
      "source": [
        "\n",
        "<br/>\n",
        "\n",
        "In order to **assess the reliability** of the obtained result for the test loss and perplexity, at this point multiple runs (**5**) of training and test of the aforementioned model are executed, maintaining exactly the same setting described above for each run.  \n",
        "\n",
        "At the end of each run the test loss and perplexity values are stored, and in the end the results' **mean** and **standard deviation** is computed and printed. "
      ],
      "metadata": {
        "id": "mmBD1dbPHxxb"
      }
    },
    {
      "cell_type": "code",
      "source": [
        "# Definition of the number of runs\n",
        "runs = 5 \n",
        "\n",
        "test_loss_runs, test_perplexity_runs = [], []\n",
        "\n",
        "for x in tqdm(range(0, runs)):\n",
        "\n",
        "    # Hyperparameters \n",
        "    n_epochs = 200        # Number of epochs\n",
        "    patience = 3          # Patience parameter for the early stopping regularization\n",
        "    hid_size = 500        # Size of the hidden LSTM representation \n",
        "    emb_size = 500        # Size of the embedding vector\n",
        "    lr = 0.001            # Learning rate for the optimization phase\n",
        "    clip = 0.25           # Threshold used to clip the gradient and avoid the exploding gradient problem\n",
        "    wd = 1.2e-5           # Weight decay regularization\n",
        "\n",
        "    # Computation of the length of the vocabulary \n",
        "    vocab_len = len(vocab.word2id)\n",
        "\n",
        "    # Definition of the model, initialization of the weights\n",
        "    model_noatt = Improved_LSTM(hid_size, emb_size, vocab_len, attention = False, pad_index=PAD_TOKEN, tie_weights=True).to(device)\n",
        "    model_noatt.apply(init_weights)\n",
        "\n",
        "    # Definition of the optimizer\n",
        "    optimizer = torch.optim.Adam(model_noatt.parameters(), lr = lr, weight_decay = wd)\n",
        "\n",
        "    # Definition of the loss\n",
        "    prediction_loss = nn.CrossEntropyLoss(ignore_index = PAD_TOKEN, reduction = 'sum')\n",
        "    \n",
        "\n",
        "    # Initial best loss value, used for the early stopping technique\n",
        "    best_loss = 100.00\n",
        "\n",
        "\n",
        "    for x in range(1, n_epochs):\n",
        "\n",
        "        # For each epoch:\n",
        "        \"\"\" Training step \"\"\"\n",
        "        loss_train, num_words = train_loop(train_loader, optimizer, prediction_loss, model_noatt)\n",
        "\n",
        "        if x % 3 == 0:\n",
        "\n",
        "            \"\"\" Validation step \"\"\"\n",
        "            loss_valid, num_words = eval_loop(valid_loader, prediction_loss, model_noatt)\n",
        "\n",
        "            # Cross entropy\n",
        "            ce_valid = np.asarray(loss_valid).sum() / np.asarray(num_words).sum()\n",
        "\n",
        "            if ce_valid < best_loss:\n",
        "                best_loss = ce_valid\n",
        "            else:\n",
        "                patience -= 1\n",
        "            if patience <= 0: \n",
        "                # Early stopping with patience\n",
        "                break \n",
        "\n",
        "\n",
        "    \"\"\" Cross entropy loss and perplexity on the test set \"\"\"\n",
        "    loss_test, num_words = eval_loop(test_loader, prediction_loss, model_noatt)\n",
        "\n",
        "    # Cross entropy\n",
        "    ce_test = np.asarray(loss_test).sum() / np.asarray(num_words).sum()\n",
        "    test_loss_runs.append(ce_test)\n",
        "\n",
        "    # Perplexity\n",
        "    perplexity_test = np.exp(ce_test)\n",
        "    test_perplexity_runs.append(perplexity_test)\n",
        "    print(perplexity_test)\n",
        "\n",
        "test_loss_runs = np.asarray(test_loss_runs)\n",
        "test_perplexity_runs = np.asarray(test_perplexity_runs)\n",
        "\n",
        "# Computation of mean and standard deviation values among the results of the 5 runs\n",
        "print('Test loss', round(test_loss_runs.mean(),3), '+-', round(test_loss_runs.std(),3))\n",
        "print('Test perplexity', round(test_perplexity_runs.mean(), 3), '+-', round(test_perplexity_runs.std(), 3))"
      ],
      "metadata": {
        "colab": {
          "base_uri": "https://localhost:8080/"
        },
        "outputId": "68289818-743b-4dbe-917b-a1f7b2d31daf",
        "id": "Om01OwqPHxxe"
      },
      "execution_count": 38,
      "outputs": [
        {
          "output_type": "stream",
          "name": "stderr",
          "text": [
            " 20%|██        | 1/5 [29:46<1:59:05, 1786.38s/it]"
          ]
        },
        {
          "output_type": "stream",
          "name": "stdout",
          "text": [
            "106.0367830443064\n"
          ]
        },
        {
          "output_type": "stream",
          "name": "stderr",
          "text": [
            "\r 40%|████      | 2/5 [1:03:09<1:35:42, 1914.14s/it]"
          ]
        },
        {
          "output_type": "stream",
          "name": "stdout",
          "text": [
            "105.69032445965743\n"
          ]
        },
        {
          "output_type": "stream",
          "name": "stderr",
          "text": [
            "\r 60%|██████    | 3/5 [1:34:47<1:03:33, 1906.54s/it]"
          ]
        },
        {
          "output_type": "stream",
          "name": "stdout",
          "text": [
            "105.23669994845878\n"
          ]
        },
        {
          "output_type": "stream",
          "name": "stderr",
          "text": [
            "\r 80%|████████  | 4/5 [2:06:31<31:45, 1905.55s/it]  "
          ]
        },
        {
          "output_type": "stream",
          "name": "stdout",
          "text": [
            "105.74162403878158\n"
          ]
        },
        {
          "output_type": "stream",
          "name": "stderr",
          "text": [
            "100%|██████████| 5/5 [2:34:31<00:00, 1854.33s/it]"
          ]
        },
        {
          "output_type": "stream",
          "name": "stdout",
          "text": [
            "105.96736698019647\n",
            "Test loss 4.661 +- 0.003\n",
            "Test perplexity 105.735 +- 0.281\n"
          ]
        },
        {
          "output_type": "stream",
          "name": "stderr",
          "text": [
            "\n"
          ]
        }
      ]
    },
    {
      "cell_type": "markdown",
      "source": [
        "<br/>\n",
        "\n",
        "2.  **Improved model WITH attention**"
      ],
      "metadata": {
        "id": "cDjW0GHieHCm"
      }
    },
    {
      "cell_type": "code",
      "source": [
        "# Hyperparameters \n",
        "n_epochs = 200        # Number of epochs\n",
        "patience = 3          # Patience parameter for the early stopping regularization\n",
        "hid_size = 500        # Size of the hidden LSTM representation \n",
        "emb_size = 500        # Size of the embedding vector\n",
        "lr = 0.001            # Learning rate for the optimization phase\n",
        "clip = 0.25           # Threshold used to clip the gradient and avoid the exploding gradient problem\n",
        "wd = 1.2e-5           # Weight decay regularization\n",
        "\n",
        "# Computation of the length of the vocabulary \n",
        "vocab_len = len(vocab.word2id)\n",
        "\n",
        "# Definition of the model, initialization of the weights\n",
        "model_att = Improved_LSTM(hid_size, emb_size, vocab_len, attention = True, pad_index=PAD_TOKEN, tie_weights=True).to(device)\n",
        "model_att.apply(init_weights)\n",
        "\n",
        "# Definition of the optimizer\n",
        "optimizer = torch.optim.Adam(model_att.parameters(), lr = lr, weight_decay = wd)\n",
        "#optimizer = torch.optim.ASGD(model_att.parameters(), lr = lr, weight_decay=wd)\n",
        "\n",
        "# Definition of the loss\n",
        "prediction_loss = nn.CrossEntropyLoss(ignore_index = PAD_TOKEN, reduction = 'sum')\n",
        "\n",
        "# Training procedure\n",
        "loss_train_att, loss_valid_att, sampled_epochs_att, model_att = main(model_att,\n",
        "                                                                    prediction_loss, \n",
        "                                                                    optimizer, \n",
        "                                                                    train_loader, \n",
        "                                                                    valid_loader, \n",
        "                                                                    test_loader,\n",
        "                                                                    n_epochs = n_epochs,   \n",
        "                                                                    patience = patience)\n",
        "# Save the trained model \n",
        "torch.save(model_att.state_dict(), \"gdrive/MyDrive/NLU_project/models/final_model_att\")"
      ],
      "metadata": {
        "colab": {
          "base_uri": "https://localhost:8080/"
        },
        "outputId": "783e54a2-329c-47bd-8ec5-1d946a6fbee0",
        "id": "QSV9fE7QweSn"
      },
      "execution_count": null,
      "outputs": [
        {
          "output_type": "stream",
          "name": "stderr",
          "text": [
            "\r  0%|          | 0/199 [00:00<?, ?it/s]"
          ]
        },
        {
          "output_type": "stream",
          "name": "stdout",
          "text": [
            "Epoch n.  1 \n",
            "\n"
          ]
        },
        {
          "output_type": "stream",
          "name": "stderr",
          "text": [
            "\r  1%|          | 1/199 [02:11<7:12:44, 131.14s/it]"
          ]
        },
        {
          "output_type": "stream",
          "name": "stdout",
          "text": [
            "CE on the training set:  5.8135714651943085 \n",
            "\n",
            "Perplexity on the training set:  334.812765021987 \n",
            "\n",
            "Epoch n.  2 \n",
            "\n"
          ]
        },
        {
          "output_type": "stream",
          "name": "stderr",
          "text": [
            "\r  1%|          | 2/199 [04:22<7:10:16, 131.05s/it]"
          ]
        },
        {
          "output_type": "stream",
          "name": "stdout",
          "text": [
            "CE on the training set:  5.185196735459563 \n",
            "\n",
            "Perplexity on the training set:  178.60858497559096 \n",
            "\n",
            "Epoch n.  3 \n",
            "\n",
            "CE on the training set:  4.969149752022566 \n",
            "\n",
            "Perplexity on the training set:  143.9044808465604 \n",
            "\n"
          ]
        },
        {
          "output_type": "stream",
          "name": "stderr",
          "text": [
            "\r  2%|▏         | 3/199 [06:34<7:09:43, 131.55s/it]"
          ]
        },
        {
          "output_type": "stream",
          "name": "stdout",
          "text": [
            "CE on the validation set:  4.897575512601666 \n",
            "\n",
            "Perplexity on the validation set:  133.96459017459165 \n",
            "\n",
            "Epoch n.  4 \n",
            "\n"
          ]
        },
        {
          "output_type": "stream",
          "name": "stderr",
          "text": [
            "\r  2%|▏         | 4/199 [08:45<7:07:36, 131.57s/it]"
          ]
        },
        {
          "output_type": "stream",
          "name": "stdout",
          "text": [
            "CE on the training set:  4.838642782185973 \n",
            "\n",
            "Perplexity on the training set:  126.29782170115413 \n",
            "\n",
            "Epoch n.  5 \n",
            "\n"
          ]
        },
        {
          "output_type": "stream",
          "name": "stderr",
          "text": [
            "\r  3%|▎         | 5/199 [10:56<7:04:49, 131.39s/it]"
          ]
        },
        {
          "output_type": "stream",
          "name": "stdout",
          "text": [
            "CE on the training set:  4.752013655484818 \n",
            "\n",
            "Perplexity on the training set:  115.8172659491191 \n",
            "\n",
            "Epoch n.  6 \n",
            "\n",
            "CE on the training set:  4.691887587848604 \n",
            "\n",
            "Perplexity on the training set:  109.05884379025495 \n",
            "\n"
          ]
        },
        {
          "output_type": "stream",
          "name": "stderr",
          "text": [
            "\r  3%|▎         | 6/199 [13:09<7:04:23, 131.93s/it]"
          ]
        },
        {
          "output_type": "stream",
          "name": "stdout",
          "text": [
            "CE on the validation set:  4.74847043591952 \n",
            "\n",
            "Perplexity on the validation set:  115.40762609694363 \n",
            "\n",
            "Epoch n.  7 \n",
            "\n"
          ]
        },
        {
          "output_type": "stream",
          "name": "stderr",
          "text": [
            "\r  4%|▎         | 7/199 [15:20<7:01:14, 131.64s/it]"
          ]
        },
        {
          "output_type": "stream",
          "name": "stdout",
          "text": [
            "CE on the training set:  4.645875164269331 \n",
            "\n",
            "Perplexity on the training set:  104.15447818824138 \n",
            "\n",
            "Epoch n.  8 \n",
            "\n"
          ]
        },
        {
          "output_type": "stream",
          "name": "stderr",
          "text": [
            "\r  4%|▍         | 8/199 [17:32<6:58:42, 131.53s/it]"
          ]
        },
        {
          "output_type": "stream",
          "name": "stdout",
          "text": [
            "CE on the training set:  4.611623496136624 \n",
            "\n",
            "Perplexity on the training set:  100.64741776184042 \n",
            "\n",
            "Epoch n.  9 \n",
            "\n",
            "CE on the training set:  4.5837941206267665 \n",
            "\n",
            "Perplexity on the training set:  97.88507834701508 \n",
            "\n"
          ]
        },
        {
          "output_type": "stream",
          "name": "stderr",
          "text": [
            "\r  5%|▍         | 9/199 [19:44<6:57:18, 131.78s/it]"
          ]
        },
        {
          "output_type": "stream",
          "name": "stdout",
          "text": [
            "CE on the validation set:  4.706641634304189 \n",
            "\n",
            "Perplexity on the validation set:  110.67983169851111 \n",
            "\n",
            "Epoch n.  10 \n",
            "\n"
          ]
        },
        {
          "output_type": "stream",
          "name": "stderr",
          "text": [
            "\r  5%|▌         | 10/199 [21:55<6:54:00, 131.43s/it]"
          ]
        },
        {
          "output_type": "stream",
          "name": "stdout",
          "text": [
            "CE on the training set:  4.561781558455509 \n",
            "\n",
            "Perplexity on the training set:  95.75391916550363 \n",
            "\n",
            "Epoch n.  11 \n",
            "\n"
          ]
        },
        {
          "output_type": "stream",
          "name": "stderr",
          "text": [
            "\r  6%|▌         | 11/199 [24:06<6:51:12, 131.24s/it]"
          ]
        },
        {
          "output_type": "stream",
          "name": "stdout",
          "text": [
            "CE on the training set:  4.541545452516741 \n",
            "\n",
            "Perplexity on the training set:  93.83570674662835 \n",
            "\n",
            "Epoch n.  12 \n",
            "\n",
            "CE on the training set:  4.525375504026779 \n",
            "\n",
            "Perplexity on the training set:  92.33058982829021 \n",
            "\n"
          ]
        },
        {
          "output_type": "stream",
          "name": "stderr",
          "text": [
            "\r  6%|▌         | 12/199 [26:18<6:49:59, 131.55s/it]"
          ]
        },
        {
          "output_type": "stream",
          "name": "stdout",
          "text": [
            "CE on the validation set:  4.678245575432412 \n",
            "\n",
            "Perplexity on the validation set:  107.58116386991914 \n",
            "\n",
            "Epoch n.  13 \n",
            "\n"
          ]
        },
        {
          "output_type": "stream",
          "name": "stderr",
          "text": [
            "\r  7%|▋         | 13/199 [28:28<6:46:41, 131.19s/it]"
          ]
        },
        {
          "output_type": "stream",
          "name": "stdout",
          "text": [
            "CE on the training set:  4.514084126451716 \n",
            "\n",
            "Perplexity on the training set:  91.29391403992824 \n",
            "\n",
            "Epoch n.  14 \n",
            "\n"
          ]
        },
        {
          "output_type": "stream",
          "name": "stderr",
          "text": [
            "\r  7%|▋         | 14/199 [30:39<6:43:45, 130.95s/it]"
          ]
        },
        {
          "output_type": "stream",
          "name": "stdout",
          "text": [
            "CE on the training set:  4.503381164768302 \n",
            "\n",
            "Perplexity on the training set:  90.3220091841442 \n",
            "\n",
            "Epoch n.  15 \n",
            "\n",
            "CE on the training set:  4.49399627537106 \n",
            "\n",
            "Perplexity on the training set:  89.47831231118829 \n",
            "\n"
          ]
        },
        {
          "output_type": "stream",
          "name": "stderr",
          "text": [
            "\r  8%|▊         | 15/199 [32:50<6:41:45, 131.01s/it]"
          ]
        },
        {
          "output_type": "stream",
          "name": "stdout",
          "text": [
            "CE on the validation set:  4.6624324806713044 \n",
            "\n",
            "Perplexity on the validation set:  105.893352660607 \n",
            "\n",
            "Epoch n.  16 \n",
            "\n"
          ]
        },
        {
          "output_type": "stream",
          "name": "stderr",
          "text": [
            "\r  8%|▊         | 16/199 [34:59<6:38:10, 130.55s/it]"
          ]
        },
        {
          "output_type": "stream",
          "name": "stdout",
          "text": [
            "CE on the training set:  4.484543235558992 \n",
            "\n",
            "Perplexity on the training set:  88.63645558418658 \n",
            "\n",
            "Epoch n.  17 \n",
            "\n"
          ]
        },
        {
          "output_type": "stream",
          "name": "stderr",
          "text": [
            "\r  9%|▊         | 17/199 [37:09<6:35:39, 130.44s/it]"
          ]
        },
        {
          "output_type": "stream",
          "name": "stdout",
          "text": [
            "CE on the training set:  4.474880082980931 \n",
            "\n",
            "Perplexity on the training set:  87.78407297420529 \n",
            "\n",
            "Epoch n.  18 \n",
            "\n",
            "CE on the training set:  4.467718803301583 \n",
            "\n",
            "Perplexity on the training set:  87.15767226858853 \n",
            "\n"
          ]
        },
        {
          "output_type": "stream",
          "name": "stderr",
          "text": [
            "\r  9%|▉         | 18/199 [39:21<6:34:32, 130.79s/it]"
          ]
        },
        {
          "output_type": "stream",
          "name": "stdout",
          "text": [
            "CE on the validation set:  4.6619017947717625 \n",
            "\n",
            "Perplexity on the validation set:  105.83717146009877 \n",
            "\n",
            "Epoch n.  19 \n",
            "\n"
          ]
        },
        {
          "output_type": "stream",
          "name": "stderr",
          "text": [
            "\r 10%|▉         | 19/199 [41:31<6:31:51, 130.62s/it]"
          ]
        },
        {
          "output_type": "stream",
          "name": "stdout",
          "text": [
            "CE on the training set:  4.463512400250985 \n",
            "\n",
            "Perplexity on the training set:  86.79182196642927 \n",
            "\n",
            "Epoch n.  20 \n",
            "\n"
          ]
        },
        {
          "output_type": "stream",
          "name": "stderr",
          "text": [
            "\r 10%|█         | 20/199 [43:41<6:29:04, 130.42s/it]"
          ]
        },
        {
          "output_type": "stream",
          "name": "stdout",
          "text": [
            "CE on the training set:  4.455925521167438 \n",
            "\n",
            "Perplexity on the training set:  86.13583450310182 \n",
            "\n",
            "Epoch n.  21 \n",
            "\n",
            "CE on the training set:  4.452342669405865 \n",
            "\n",
            "Perplexity on the training set:  85.82777477243455 \n",
            "\n"
          ]
        },
        {
          "output_type": "stream",
          "name": "stderr",
          "text": [
            "\r 11%|█         | 21/199 [45:53<6:28:30, 130.96s/it]"
          ]
        },
        {
          "output_type": "stream",
          "name": "stdout",
          "text": [
            "CE on the validation set:  4.651059481521479 \n",
            "\n",
            "Perplexity on the validation set:  104.69585015587309 \n",
            "\n",
            "Epoch n.  22 \n",
            "\n"
          ]
        },
        {
          "output_type": "stream",
          "name": "stderr",
          "text": [
            "\r 11%|█         | 22/199 [48:04<6:25:58, 130.84s/it]"
          ]
        },
        {
          "output_type": "stream",
          "name": "stdout",
          "text": [
            "CE on the training set:  4.446031599917721 \n",
            "\n",
            "Perplexity on the training set:  85.28781537466898 \n",
            "\n",
            "Epoch n.  23 \n",
            "\n"
          ]
        },
        {
          "output_type": "stream",
          "name": "stderr",
          "text": [
            "\r 12%|█▏        | 23/199 [50:14<6:23:20, 130.68s/it]"
          ]
        },
        {
          "output_type": "stream",
          "name": "stdout",
          "text": [
            "CE on the training set:  4.442244938857377 \n",
            "\n",
            "Perplexity on the training set:  84.96547001674575 \n",
            "\n",
            "Epoch n.  24 \n",
            "\n",
            "CE on the training set:  4.436686617232596 \n",
            "\n",
            "Perplexity on the training set:  84.49451468051753 \n",
            "\n"
          ]
        },
        {
          "output_type": "stream",
          "name": "stderr",
          "text": [
            "\r 12%|█▏        | 24/199 [52:27<6:22:55, 131.29s/it]"
          ]
        },
        {
          "output_type": "stream",
          "name": "stdout",
          "text": [
            "CE on the validation set:  4.643160285413189 \n",
            "\n",
            "Perplexity on the validation set:  103.8720948893032 \n",
            "\n",
            "Epoch n.  25 \n",
            "\n"
          ]
        },
        {
          "output_type": "stream",
          "name": "stderr",
          "text": [
            "\r 13%|█▎        | 25/199 [54:38<6:20:24, 131.18s/it]"
          ]
        },
        {
          "output_type": "stream",
          "name": "stdout",
          "text": [
            "CE on the training set:  4.435627755345097 \n",
            "\n",
            "Perplexity on the training set:  84.40509400964459 \n",
            "\n",
            "Epoch n.  26 \n",
            "\n"
          ]
        },
        {
          "output_type": "stream",
          "name": "stderr",
          "text": [
            "\r 13%|█▎        | 26/199 [56:49<6:17:49, 131.04s/it]"
          ]
        },
        {
          "output_type": "stream",
          "name": "stdout",
          "text": [
            "CE on the training set:  4.431742128636406 \n",
            "\n",
            "Perplexity on the training set:  84.07776367559404 \n",
            "\n",
            "Epoch n.  27 \n",
            "\n",
            "CE on the training set:  4.427624984853805 \n",
            "\n",
            "Perplexity on the training set:  83.73231505241881 \n",
            "\n"
          ]
        },
        {
          "output_type": "stream",
          "name": "stderr",
          "text": [
            "\r 14%|█▎        | 27/199 [59:01<6:17:07, 131.55s/it]"
          ]
        },
        {
          "output_type": "stream",
          "name": "stdout",
          "text": [
            "CE on the validation set:  4.651076043128019 \n",
            "\n",
            "Perplexity on the validation set:  104.6975841017082 \n",
            "\n",
            "Epoch n.  28 \n",
            "\n"
          ]
        },
        {
          "output_type": "stream",
          "name": "stderr",
          "text": [
            "\r 14%|█▍        | 28/199 [1:01:12<6:14:30, 131.41s/it]"
          ]
        },
        {
          "output_type": "stream",
          "name": "stdout",
          "text": [
            "CE on the training set:  4.425812810945135 \n",
            "\n",
            "Perplexity on the training set:  83.5807149401398 \n",
            "\n",
            "Epoch n.  29 \n",
            "\n"
          ]
        },
        {
          "output_type": "stream",
          "name": "stderr",
          "text": [
            "\r 15%|█▍        | 29/199 [1:03:23<6:11:40, 131.18s/it]"
          ]
        },
        {
          "output_type": "stream",
          "name": "stdout",
          "text": [
            "CE on the training set:  4.421151033804241 \n",
            "\n",
            "Perplexity on the training set:  83.19198705917839 \n",
            "\n",
            "Epoch n.  30 \n",
            "\n",
            "CE on the training set:  4.418520194041453 \n",
            "\n",
            "Perplexity on the training set:  82.97340991846441 \n",
            "\n"
          ]
        },
        {
          "output_type": "stream",
          "name": "stderr",
          "text": [
            "\r 15%|█▌        | 30/199 [1:05:36<6:10:49, 131.65s/it]"
          ]
        },
        {
          "output_type": "stream",
          "name": "stdout",
          "text": [
            "CE on the validation set:  4.649643254324123 \n",
            "\n",
            "Perplexity on the validation set:  104.5476819900902 \n",
            "\n",
            "Epoch n.  31 \n",
            "\n"
          ]
        },
        {
          "output_type": "stream",
          "name": "stderr",
          "text": [
            "\r 16%|█▌        | 31/199 [1:07:47<6:08:02, 131.44s/it]"
          ]
        },
        {
          "output_type": "stream",
          "name": "stdout",
          "text": [
            "CE on the training set:  4.416674550732242 \n",
            "\n",
            "Perplexity on the training set:  82.82041183298337 \n",
            "\n",
            "Epoch n.  32 \n",
            "\n"
          ]
        },
        {
          "output_type": "stream",
          "name": "stderr",
          "text": [
            "\r 16%|█▌        | 32/199 [1:09:58<6:05:38, 131.37s/it]"
          ]
        },
        {
          "output_type": "stream",
          "name": "stdout",
          "text": [
            "CE on the training set:  4.413904425049715 \n",
            "\n",
            "Perplexity on the training set:  82.59130635511674 \n",
            "\n",
            "Epoch n.  33 \n",
            "\n",
            "CE on the training set:  4.411203398572559 \n",
            "\n",
            "Perplexity on the training set:  82.36852605305786 \n",
            "\n"
          ]
        },
        {
          "output_type": "stream",
          "name": "stderr",
          "text": [
            "\r 17%|█▋        | 33/199 [1:12:11<6:04:55, 131.90s/it]"
          ]
        },
        {
          "output_type": "stream",
          "name": "stdout",
          "text": [
            "CE on the validation set:  4.635888859168561 \n",
            "\n",
            "Perplexity on the validation set:  103.11953601648412 \n",
            "\n",
            "Epoch n.  34 \n",
            "\n"
          ]
        },
        {
          "output_type": "stream",
          "name": "stderr",
          "text": [
            "\r 17%|█▋        | 34/199 [1:14:22<6:01:58, 131.63s/it]"
          ]
        },
        {
          "output_type": "stream",
          "name": "stdout",
          "text": [
            "CE on the training set:  4.410248169993992 \n",
            "\n",
            "Perplexity on the training set:  82.28988285009494 \n",
            "\n",
            "Epoch n.  35 \n",
            "\n"
          ]
        },
        {
          "output_type": "stream",
          "name": "stderr",
          "text": [
            "\r 18%|█▊        | 35/199 [1:16:34<5:59:54, 131.68s/it]"
          ]
        },
        {
          "output_type": "stream",
          "name": "stdout",
          "text": [
            "CE on the training set:  4.406826312339189 \n",
            "\n",
            "Perplexity on the training set:  82.00877980614165 \n",
            "\n",
            "Epoch n.  36 \n",
            "\n",
            "CE on the training set:  4.406659845709098 \n",
            "\n",
            "Perplexity on the training set:  81.99512921714474 \n",
            "\n"
          ]
        },
        {
          "output_type": "stream",
          "name": "stderr",
          "text": [
            "\r 18%|█▊        | 35/199 [1:18:47<6:09:11, 135.07s/it]"
          ]
        },
        {
          "output_type": "stream",
          "name": "stdout",
          "text": [
            "CE on the validation set:  4.639139123876793 \n",
            "\n",
            "Perplexity on the validation set:  103.45524708450233 \n",
            "\n"
          ]
        },
        {
          "output_type": "stream",
          "name": "stderr",
          "text": [
            "\n"
          ]
        },
        {
          "output_type": "stream",
          "name": "stdout",
          "text": [
            "CE on the test set:  4.604309276769002 \n",
            "\n",
            "Perplexity on the test set:  99.91394612569295 \n",
            "\n"
          ]
        }
      ]
    },
    {
      "cell_type": "markdown",
      "source": [
        "\n",
        "<br/>\n",
        "\n",
        "In order to **assess the reliability** of the obtained result for the test loss and perplexity, at this point multiple runs (**5**) of training and test of the aforementioned model are executed, maintaining exactly the same setting described above for each run.  \n",
        "\n",
        "At the end of each run the test loss and perplexity values are stored, and in the end the results' **mean** and **standard deviation** is computed and printed. "
      ],
      "metadata": {
        "id": "a9IaEpbbI3B0"
      }
    },
    {
      "cell_type": "code",
      "source": [
        "# Definition of the number of runs\n",
        "runs = 5 \n",
        "\n",
        "test_loss_runs, test_perplexity_runs = [], []\n",
        "\n",
        "for x in tqdm(range(0, runs)):\n",
        "\n",
        "    # Hyperparameters \n",
        "    n_epochs = 200        # Number of epochs\n",
        "    patience = 3          # Patience parameter for the early stopping regularization\n",
        "    hid_size = 500        # Size of the hidden LSTM representation \n",
        "    emb_size = 500        # Size of the embedding vector\n",
        "    lr = 0.001            # Learning rate for the optimization phase\n",
        "    clip = 0.25           # Threshold used to clip the gradient and avoid the exploding gradient problem\n",
        "    wd = 1.2e-5           # Weight decay regularization\n",
        "\n",
        "    # Computation of the length of the vocabulary \n",
        "    vocab_len = len(vocab.word2id)\n",
        "\n",
        "    # Definition of the model, initialization of the weights\n",
        "    model_att = Improved_LSTM(hid_size, emb_size, vocab_len, attention = True, pad_index=PAD_TOKEN, tie_weights=True).to(device)\n",
        "    model_att.apply(init_weights)\n",
        "\n",
        "    # Definition of the optimizer\n",
        "    optimizer = torch.optim.Adam(model_att.parameters(), lr = lr, weight_decay = wd)\n",
        "\n",
        "    # Definition of the loss\n",
        "    prediction_loss = nn.CrossEntropyLoss(ignore_index = PAD_TOKEN, reduction = 'sum')\n",
        "    \n",
        "\n",
        "    # Initial best loss value, used for the early stopping technique\n",
        "    best_loss = 100.00\n",
        "\n",
        "\n",
        "    for x in range(1, n_epochs):\n",
        "\n",
        "        # For each epoch:\n",
        "        \"\"\" Training step \"\"\"\n",
        "        loss_train, num_words = train_loop(train_loader, optimizer, prediction_loss, model_att)\n",
        "\n",
        "        if x % 3 == 0:\n",
        "\n",
        "            \"\"\" Validation step \"\"\"\n",
        "            loss_valid, num_words = eval_loop(valid_loader, prediction_loss, model_att)\n",
        "\n",
        "            # Cross entropy\n",
        "            ce_valid = np.asarray(loss_valid).sum() / np.asarray(num_words).sum()\n",
        "\n",
        "            if ce_valid < best_loss:\n",
        "                best_loss = ce_valid\n",
        "            else:\n",
        "                patience -= 1\n",
        "            if patience <= 0: \n",
        "                # Early stopping with patience\n",
        "                break \n",
        "\n",
        "\n",
        "    \"\"\" Cross entropy loss and perplexity on the test set \"\"\"\n",
        "    loss_test, num_words = eval_loop(test_loader, prediction_loss, model_att)\n",
        "\n",
        "    # Cross entropy\n",
        "    ce_test = np.asarray(loss_test).sum() / np.asarray(num_words).sum()\n",
        "    test_loss_runs.append(ce_test)\n",
        "\n",
        "    # Perplexity\n",
        "    perplexity_test = np.exp(ce_test)\n",
        "    test_perplexity_runs.append(perplexity_test)\n",
        "    print(perplexity_test)\n",
        "\n",
        "\n",
        "test_loss_runs = np.asarray(test_loss_runs)\n",
        "test_perplexity_runs = np.asarray(test_perplexity_runs)\n",
        "\n",
        "# Computation of mean and standard deviation values among the results of the 5 runs\n",
        "print('Test loss', round(test_loss_runs.mean(),3), '+-', round(test_loss_runs.std(),3))\n",
        "print('Test perplexity', round(test_perplexity_runs.mean(), 3), '+-', round(test_perplexity_runs.std(), 3))"
      ],
      "metadata": {
        "colab": {
          "base_uri": "https://localhost:8080/"
        },
        "outputId": "847ccf39-246e-47e4-ecd7-70b5c1f039f6",
        "id": "XB6fqMQloOJz"
      },
      "execution_count": 15,
      "outputs": [
        {
          "output_type": "stream",
          "name": "stderr",
          "text": [
            " 20%|██        | 1/5 [1:13:28<4:53:53, 4408.46s/it]"
          ]
        },
        {
          "output_type": "stream",
          "name": "stdout",
          "text": [
            "100.88950504731793\n"
          ]
        },
        {
          "output_type": "stream",
          "name": "stderr",
          "text": [
            "\r 40%|████      | 2/5 [2:46:57<4:15:44, 5114.84s/it]"
          ]
        },
        {
          "output_type": "stream",
          "name": "stdout",
          "text": [
            "100.15998993067198\n"
          ]
        },
        {
          "output_type": "stream",
          "name": "stderr",
          "text": [
            "\r 60%|██████    | 3/5 [4:20:27<2:58:01, 5340.79s/it]"
          ]
        },
        {
          "output_type": "stream",
          "name": "stdout",
          "text": [
            "100.31901766844857\n"
          ]
        },
        {
          "output_type": "stream",
          "name": "stderr",
          "text": [
            "\r 80%|████████  | 4/5 [5:53:01<1:30:24, 5424.89s/it]"
          ]
        },
        {
          "output_type": "stream",
          "name": "stdout",
          "text": [
            "99.42241199578274\n"
          ]
        },
        {
          "output_type": "stream",
          "name": "stderr",
          "text": [
            "100%|██████████| 5/5 [6:58:51<00:00, 5026.37s/it]"
          ]
        },
        {
          "output_type": "stream",
          "name": "stdout",
          "text": [
            "100.86198328298684\n",
            "Test loss 4.608 +- 0.005\n",
            "Test perplexity 100.331 +- 0.538\n"
          ]
        },
        {
          "output_type": "stream",
          "name": "stderr",
          "text": [
            "\n"
          ]
        }
      ]
    },
    {
      "cell_type": "markdown",
      "source": [
        "\n",
        "<br/>\n",
        "\n",
        "### Plot of the training and validation losses for the improved models\n",
        "\n",
        "The plots clearly show that the improved LSTM architecture performs generally better with respect to the starting baseline models, \n",
        "  -  the final **perplexity values** for the validation and test set are much **lower**,\n",
        "  -  the **training procedure is smoother**, less affected by the problems of vanishing and exploding gradient,\n",
        "  -  the gap between training error and validation/test errors is smaller: the model is **less prone to overfit** and it is characterized by **higher generalization capabilities**.\n"
      ],
      "metadata": {
        "id": "AWzOcswoekMQ"
      }
    },
    {
      "cell_type": "code",
      "source": [
        "# Improved LSTM without Attention\n",
        "\n",
        "plt.figure(num = 3, figsize=(8, 5)).patch.set_facecolor('white')\n",
        "plt.title('No Attention LSTM: Train and Valid Losses')\n",
        "plt.ylabel('Loss')\n",
        "plt.xlabel('Epochs')\n",
        "plt.plot(sampled_epochs_noatt, loss_train_noatt, label='No Attention LSTM: Train loss')\n",
        "plt.plot(sampled_epochs_noatt, loss_valid_noatt, label='No Attention LSTM: Valid loss')\n",
        "plt.legend()\n",
        "plt.show()\n",
        "\n",
        "# Improved LSTM with Attention\n",
        "\n",
        "plt.figure(num = 3, figsize=(8, 5)).patch.set_facecolor('white')\n",
        "plt.title('Attention LSTM: Train and Valid Losses')\n",
        "plt.ylabel('Loss')\n",
        "plt.xlabel('Epochs')\n",
        "plt.plot(sampled_epochs_att, loss_train_att, label='Attention LSTM: Train loss')\n",
        "plt.plot(sampled_epochs_att, loss_valid_att, label='Attention LSTM: Valid loss')\n",
        "plt.legend()\n",
        "plt.show()"
      ],
      "metadata": {
        "colab": {
          "base_uri": "https://localhost:8080/",
          "height": 683
        },
        "outputId": "f2f811a1-b28b-45b4-b63f-44d7fddb0578",
        "id": "huRFNiO7ekMS"
      },
      "execution_count": null,
      "outputs": [
        {
          "output_type": "display_data",
          "data": {
            "text/plain": [
              "<Figure size 576x360 with 1 Axes>"
            ],
            "image/png": "[encoded data removed]"
          },
          "metadata": {}
        },
        {
          "output_type": "display_data",
          "data": {
            "text/plain": [
              "<Figure size 576x360 with 1 Axes>"
            ],
            "image/png": "[encoded data removed]"
          },
          "metadata": {}
        }
      ]
    },
    {
      "cell_type": "markdown",
      "source": [
        "\n",
        "<br/>\n",
        "\n",
        "## <center>Models comparison and error analysis</center>\n",
        "\n",
        "As clearly shown by the obtained results, the **improved LSTM model with attention** is the one that grants the most stable training procedure, with the best resulting model.\n",
        "\n",
        "Although the improvement in Perplexity score with respect to the baseline models is remarkable, the final perplexity value obtained by the improved model on the test set is still quite high, that is around the value of 100. In order to understand the behaviour of the network when it deals with previously unseen sentences, a detailed **error analysis** must be carried out. \n",
        "\n",
        "For the sake of studying the behaviour of the network, a run on all the samples of the test set is performed and the obtained predictions are stored and analyzed. "
      ],
      "metadata": {
        "id": "B6iKKMT90emK"
      }
    },
    {
      "cell_type": "code",
      "source": [
        "# Output predictions\n",
        "test_outputs_idx = []\n",
        "test_inputs_idx = []\n",
        "test_targets_idx = []\n",
        "test_outputs = []\n",
        "test_inputs = []\n",
        "test_targets = []\n",
        "test_loss = []\n",
        "lengths = []\n",
        "\n",
        "# Definition of the model\n",
        "hid_size = 500        \n",
        "emb_size = 500 \n",
        "vocab_len = len(vocab.word2id)\n",
        "\n",
        "model = Improved_LSTM(hid_size, emb_size, vocab_len, attention = True, pad_index=PAD_TOKEN, tie_weights=True).to(device)\n",
        "model.load_state_dict(torch.load(\"gdrive/MyDrive/NLU_project/models/final_model_att\"))\n",
        "\n",
        "# Set the network to evaluation mode\n",
        "model.eval()\n",
        "\n",
        "# Define a dataloader for the test set with batch_size = 1\n",
        "test_loader = DataLoader(test_dataset, batch_size = 1, collate_fn=collate_fn)\n",
        "\n",
        "# Definition of the cost function\n",
        "# In this case reduction = 'mean' -> the mean is computed already\n",
        "cost_function = nn.CrossEntropyLoss(ignore_index = PAD_TOKEN)\n",
        "\n",
        "# Disable gradient computation \n",
        "with torch.no_grad():\n",
        "\n",
        "  # Iterate over the test set\n",
        "  for batch_idx, (inputs, targets, length) in enumerate(test_loader):\n",
        "    \n",
        "      # Load data into GPU\n",
        "      inputs = inputs.to(device)\n",
        "      targets = targets.to(device)\n",
        "      length = length.to(device)\n",
        "        \n",
        "      # Forward pass\n",
        "      outputs, _, _, _, _ = model(inputs, length)\n",
        "      _, predicted_index = outputs.max(dim = 1)\n",
        "\n",
        "      # Loss computation\n",
        "      loss = cost_function(outputs, targets.view(-1))\n",
        "\n",
        "      # Update of the outputs array\n",
        "      test_outputs_idx.append(predicted_index)\n",
        "      test_inputs_idx.append(inputs)\n",
        "      test_targets_idx.append(targets)\n",
        "      test_loss.append(loss.item())\n",
        "      lengths.append(length.item())\n",
        "\n",
        "# For each sentence in the predictions\n",
        "for sent_idx in test_outputs_idx:\n",
        "\n",
        "      # Convert list of indexes to list of words\n",
        "      sent_idx = sent_idx.tolist()\n",
        "      sent = [vocab.id2word[id] for id in sent_idx]\n",
        "      test_outputs.append(sent)\n",
        "\n",
        "# For each sentence in the inputs\n",
        "for sent_idx in test_inputs_idx:\n",
        "\n",
        "      # Convert list of indexes to list of words\n",
        "      sent_idx = sent_idx.tolist()\n",
        "      sent = [vocab.id2word[id] for id in sent_idx[0]]\n",
        "      test_inputs.append(sent)\n",
        "\n",
        "# For each sentence in the targets\n",
        "for sent_idx in test_targets_idx:\n",
        "\n",
        "      # Convert list of indexes to list of words\n",
        "      sent_idx = sent_idx.tolist()\n",
        "      sent = [vocab.id2word[id] for id in sent_idx[0]]\n",
        "      test_targets.append(sent)\n",
        "\n",
        "# Test triplets: [(input, target, prediction, sentence-level loss, sentence length)]\n",
        "test_tuples = [(test_inputs[i], test_targets[i], test_outputs[i], test_loss[i], lengths[i]) for i in range(len(test_loss))]\n",
        "sorted_tuples = sorted(test_tuples, key=lambda tup: tup[3])"
      ],
      "metadata": {
        "id": "EsQz1U-c0emP"
      },
      "execution_count": 31,
      "outputs": []
    },
    {
      "cell_type": "markdown",
      "source": [
        "\n",
        "<br/>\n",
        "\n",
        "In order to evaluate the coherence of the results, it may be a good idea  to compute the number of times the model predicts the **'pad'** token. \n",
        "\n",
        "Indeed, **'pad'** is used just for padding and, even though it is contained in the vocabulary and hence could be predicted, it should never be, if the model learns to behave well. As expected, it does not belong to the set of predicted words, and this implies the model behaves well in this sense. "
      ],
      "metadata": {
        "id": "oSTzFF-K0emW"
      }
    },
    {
      "cell_type": "code",
      "source": [
        "# List of words in the test set's predictions\n",
        "predicted_words = []\n",
        "for sent in test_outputs:\n",
        "  for w in sent:\n",
        "    predicted_words.append(w) \n",
        "\n",
        "# Set of predicted words\n",
        "predicted_set = set(predicted_words)\n",
        "print(\"'pad' token belongs to the predicted words: \", 'pad' in predicted_set, \"\\n\")"
      ],
      "metadata": {
        "colab": {
          "base_uri": "https://localhost:8080/"
        },
        "outputId": "61f3e627-27ba-4c83-f65c-5ebdf4f8d64f",
        "id": "jTlzh20r0emY"
      },
      "execution_count": 34,
      "outputs": [
        {
          "output_type": "stream",
          "name": "stdout",
          "text": [
            "'pad' token belongs to the predicted words:  False \n",
            "\n"
          ]
        }
      ]
    },
    {
      "cell_type": "markdown",
      "source": [
        "\n",
        "<br/>\n",
        "\n",
        "Another starting point to assess the effectiveness of the training could be analyzing whether the most frequently predicted words on the test set are someway aligned to the most frequently appearing words in the training set.\n",
        "\n",
        "Indeed, it is easily verified by analyzing the Frequency Dictionaries that the most frequent predicted words correspond also to the most frequent ones of **both the training and test sets**. This reflects the ability of the model to learn the statistical properties of words appearances from the training data."
      ],
      "metadata": {
        "id": "EzU3D07F0emb"
      }
    },
    {
      "cell_type": "code",
      "source": [
        "# Frequency list of the words in the training set \n",
        "\n",
        "training_freqdist = nltk.FreqDist(train_words_list)\n",
        "print(\"First 50 words of the training Frequency Dictionary: \")\n",
        "sorted_dict_train = dict(sorted(training_freqdist.items(), key=lambda item: item[1], reverse=True)[:50])\n",
        "print(sorted_dict_train, '\\n')\n",
        "\n",
        "# Frequency list of the words in the test set\n",
        "\n",
        "test_freqdist = nltk.FreqDist(test_words_list)\n",
        "print(\"First 50 words of the test Frequency Dictionary: \")\n",
        "print(dict(sorted(test_freqdist.items(), key=lambda item: item[1], reverse=True)[:50]), '\\n')\n",
        "\n",
        "# Frequency list of the predicted words on the test set\n",
        "\n",
        "predicted_freqdist = nltk.FreqDist(predicted_words)\n",
        "print(\"First 50 words of the predicted words' Frequency Dictionary: \")\n",
        "print(dict(sorted(predicted_freqdist.items(), key=lambda item: item[1], reverse=True)[:50]), '\\n')"
      ],
      "metadata": {
        "colab": {
          "base_uri": "https://localhost:8080/"
        },
        "outputId": "cd5a8e7c-2d79-4591-845d-dfe4ed6bfa38",
        "id": "R5hQR0X2McMr"
      },
      "execution_count": 36,
      "outputs": [
        {
          "output_type": "stream",
          "name": "stdout",
          "text": [
            "First 50 words of the training Frequency Dictionary: \n",
            "{'the': 50770, '<unk>': 45020, 'N': 32481, 'of': 24400, 'to': 23638, 'a': 21196, 'in': 18000, 'and': 17474, \"'s\": 9784, 'that': 8931, 'for': 8927, '$': 7541, 'is': 7337, 'it': 6112, 'said': 6027, 'on': 5650, 'by': 4915, 'at': 4894, 'as': 4833, 'from': 4724, 'million': 4627, 'with': 4585, 'mr.': 4326, 'was': 4073, 'be': 3923, 'are': 3914, 'its': 3846, 'he': 3632, 'but': 3541, 'has': 3494, 'an': 3477, \"n't\": 3388, 'will': 3270, 'have': 3245, 'new': 2793, 'or': 2704, 'company': 2680, 'they': 2562, 'this': 2438, 'year': 2379, 'which': 2362, 'would': 2308, 'about': 2220, 'says': 2092, 'more': 2065, 'were': 2009, 'market': 2005, 'billion': 1881, 'his': 1852, 'had': 1850} \n",
            "\n",
            "First 50 words of the test Frequency Dictionary: \n",
            "{'<unk>': 4794, 'the': 4529, 'N': 2523, 'of': 2195, 'to': 2042, 'a': 1821, 'in': 1640, 'and': 1539, \"'s\": 903, 'that': 831, 'for': 783, 'is': 667, 'said': 601, '$': 564, 'it': 542, 'on': 507, 'as': 461, 'by': 450, 'at': 420, 'with': 405, 'its': 393, 'was': 391, 'be': 384, 'are': 365, 'from': 355, 'million': 348, \"n't\": 335, 'but': 335, 'mr.': 319, 'have': 309, 'he': 302, 'market': 300, 'has': 296, 'will': 294, 'an': 260, 'about': 258, 'this': 255, 'company': 227, 'or': 220, 'they': 220, 'new': 219, 'year': 214, 'were': 203, 'which': 202, 'more': 198, 'would': 189, 'u.s.': 179, 'stock': 175, 'had': 175, 'than': 173} \n",
            "\n",
            "First 50 words of the predicted words' Frequency Dictionary: \n",
            "{'<unk>': 13935, '</s>': 11846, 'the': 11686, 'of': 3270, 'N': 2944, 'to': 2517, 'a': 1894, 'in': 1826, 'be': 1517, 'said': 1381, \"n't\": 1106, \"'s\": 1101, 'is': 928, 'are': 881, 'and': 801, 'that': 783, '$': 722, 'been': 669, 'company': 645, 'million': 494, 'it': 382, 'have': 347, 'for': 328, 'has': 298, 'by': 296, 'year': 291, 'would': 285, 'was': 255, 'than': 254, 'as': 238, 'market': 226, 'corp.': 217, 'new': 197, 'years': 193, 'with': 176, 'on': 170, 'u.s.': 164, '&': 157, 'inc.': 157, 'first': 155, 'at': 151, 'prices': 144, 'stock': 139, 'its': 135, 'co.': 128, 'share': 126, 'york': 125, 'from': 125, 'quarter': 119, 'months': 115} \n",
            "\n"
          ]
        }
      ]
    },
    {
      "cell_type": "markdown",
      "source": [
        "\n",
        "<br/>\n",
        "\n",
        "It may also be interesting to test whether the model has learnt how to use **the end-of-sequence token \"\\</s>\"** properly, that is, to mark the  end of a meaningful sentence and the start of a new one. \n",
        "\n",
        "In order to do this, the 50 most frequent predicted words are considered and some plausible **start-of-sentence** words are chosen among them. \n",
        "Starting from these, the network is then used as a generative model, and it is asked to predict the successive word, given the previously predicted one. This generative process stops when the end-of-sequence token **\"\\</s>\"** is reached or more than 100 iterations are executed.\n",
        "\n",
        "Some of the most plausible start-of-sentence words among the ones belonging to the 50 most frequently predicted are: **\"the\"**, **\"N\"**, **\"be\"**, **\"a\"**, **\"\\</s\\>\"**.\n",
        "\n",
        "It is quite clear from the sentences generated by the model that when no proper and significant context is provided, it has a tendency for outputting some of the most frequently seen words in the training phase, such as **\"\\<unk\\>\"**, **\"N\"**, **\"\\</s\\>\"**. It is particularly interesting to notice that, when provided with the end-of-sentence token **\"\\</s\\>\"** as input, the model predicts **\"the\"**, which is a totally valid choice for the start of a new sentence."
      ],
      "metadata": {
        "id": "CGNR0Y_H0eme"
      }
    },
    {
      "cell_type": "code",
      "source": [
        "# For each start-of-sentence token \n",
        "for starting_token in [\"the\", \"N\", \"be\", \"a\", \"</s>\"]:\n",
        "\n",
        "    sent = []\n",
        "\n",
        "    # Map to index format\n",
        "    input = torch.LongTensor([[vocab.word2id[starting_token]]]).to(device)\n",
        "    length = torch.LongTensor([1]).to(device)\n",
        "\n",
        "    # Computation of the output\n",
        "    output, _, _, _, _ = model(input, length)\n",
        "    _, predicted_index = output.max(dim = 1)\n",
        "\n",
        "    # Map to word format\n",
        "    pred_word = vocab.id2word[predicted_index.item()]\n",
        "\n",
        "    # Update the generated sentence\n",
        "    sent.append(pred_word)\n",
        "\n",
        "    t = 0 \n",
        "\n",
        "    # While stopping criteria is not met\n",
        "    while pred_word != \"</s>\" and t < 100:\n",
        "\n",
        "        # Map to index format\n",
        "        input = torch.LongTensor([[vocab.word2id[pred_word]]]).to(device)\n",
        "        length = torch.LongTensor([1]).to(device)\n",
        "\n",
        "        # Computation of the output\n",
        "        output, _, _, _, _ = model(input, length)\n",
        "        _, predicted_index = output.max(dim = 1)\n",
        "\n",
        "        # Map to word format\n",
        "        pred_word = vocab.id2word[predicted_index.item()]\n",
        "\n",
        "        # Update the generated sentence\n",
        "        sent.append(pred_word)\n",
        "        t = t + 1\n",
        "\n",
        "    print(\" \".join(word for word in sent))"
      ],
      "metadata": {
        "colab": {
          "base_uri": "https://localhost:8080/"
        },
        "outputId": "6d7d1593-01ab-401a-ead5-d23876a8b604",
        "id": "rouAmLnW0emg"
      },
      "execution_count": null,
      "outputs": [
        {
          "output_type": "stream",
          "name": "stdout",
          "text": [
            "<unk> </s>\n",
            "N N N N N N N N N N N N N N N N N N N N N N N N N N N N N N N N N N N N N N N N N N N N N N N N N N N N N N N N N N N N N N N N N N N N N N N N N N N N N N N N N N N N N N N N N N N N N N N N N N N N N\n",
            "<unk> </s>\n",
            "spokesman </s>\n",
            "the <unk> </s>\n"
          ]
        }
      ]
    },
    {
      "cell_type": "markdown",
      "source": [
        "\n",
        "<br/>\n",
        "\n",
        "In order to better perform the error analysis, it could be useful to print and study the characteristics of the test sentences on which the model scored the worst and the best.\n",
        "\n",
        "* **Sentences on which the model obtained the lowest perplexity values**:\n",
        "Very interestingly, of the 30 sentences with lower loss, 18 were already present in the training data. For what concerns the other 12, they are characterized by being very short or, if longer, very repetitive and with no underlying complex structure or meaning. These are the cases in which not too much effort must be put in place to capture and exploit contextual information."
      ],
      "metadata": {
        "id": "uT39zl9Y0emi"
      }
    },
    {
      "cell_type": "code",
      "source": [
        "for i in range(30):\n",
        "    # Extract the tuple\n",
        "    (input, target, output, loss, _) = sorted_tuples[i]\n",
        "\n",
        "    print(\"Input sentence: \", \" \".join(input))\n",
        "    print(\"Target sentence: \", \" \".join(target))\n",
        "    print(\"predicted sentence: \", \" \".join(output))\n",
        "    print(\"Loss: \", loss)\n",
        "    print(\"This sentence also belonged to the training set: \", input in train_sents, \"\\n\")"
      ],
      "metadata": {
        "colab": {
          "base_uri": "https://localhost:8080/"
        },
        "outputId": "80cf1f66-5ceb-4409-d803-1f00e43cef09",
        "id": "41UyyFls0emj"
      },
      "execution_count": null,
      "outputs": [
        {
          "output_type": "stream",
          "name": "stdout",
          "text": [
            "Input sentence:  revenue rose N N to $ N billion from $ N billion\n",
            "Target sentence:  rose N N to $ N billion from $ N billion </s>\n",
            "predicted sentence:  rose N N to $ N billion from $ N billion </s>\n",
            "Loss:  0.22633951902389526\n",
            "This sentence also belonged to the training set:  True \n",
            "\n",
            "Input sentence:  N N N to N days N N N to N days N N N to N days N N N to N days N N N to N days N N N to N days N N N to N days N N N to N days\n",
            "Target sentence:  N N to N days N N N to N days N N N to N days N N N to N days N N N to N days N N N to N days N N N to N days N N N to N days </s>\n",
            "predicted sentence:  N </s> </s> N days N N N to N days N N N to N days N N N to N days N N N to N days N N N to N days N N N to N days N N N to N days N\n",
            "Loss:  0.29104653000831604\n",
            "This sentence also belonged to the training set:  False \n",
            "\n",
            "Input sentence:  markets\n",
            "Target sentence:  </s>\n",
            "predicted sentence:  </s>\n",
            "Loss:  0.3347003161907196\n",
            "This sentence also belonged to the training set:  True \n",
            "\n",
            "Input sentence:  net fell to $ N million or N cents a share from $ N million or N cents a share\n",
            "Target sentence:  fell to $ N million or N cents a share from $ N million or N cents a share </s>\n",
            "predicted sentence:  income N $ N million or $ cents a share from $ N million or N cents a share </s>\n",
            "Loss:  0.4576435089111328\n",
            "This sentence also belonged to the training set:  False \n",
            "\n",
            "Input sentence:  revenue gained N N to $ N billion from $ N billion\n",
            "Target sentence:  gained N N to $ N billion from $ N billion </s>\n",
            "predicted sentence:  rose N N to $ N billion from $ N billion </s>\n",
            "Loss:  0.5238772034645081\n",
            "This sentence also belonged to the training set:  True \n",
            "\n",
            "Input sentence:  certificates of deposit\n",
            "Target sentence:  of deposit </s>\n",
            "predicted sentence:  of deposit </s>\n",
            "Loss:  0.5286746621131897\n",
            "This sentence also belonged to the training set:  False \n",
            "\n",
            "Input sentence:  negotiable bank-backed business credit instruments typically financing an import order\n",
            "Target sentence:  bank-backed business credit instruments typically financing an import order </s>\n",
            "predicted sentence:  </s> business credit instruments typically financing an import order </s>\n",
            "Loss:  0.5655263066291809\n",
            "This sentence also belonged to the training set:  True \n",
            "\n",
            "Input sentence:  plunge\n",
            "Target sentence:  </s>\n",
            "predicted sentence:  </s>\n",
            "Loss:  0.5692690014839172\n",
            "This sentence also belonged to the training set:  False \n",
            "\n",
            "Input sentence:  annualized average rate of return after expenses for the past N days not a forecast of future returns\n",
            "Target sentence:  average rate of return after expenses for the past N days not a forecast of future returns </s>\n",
            "predicted sentence:  the rate of return after expenses for the past N days not a forecast of future returns </s>\n",
            "Loss:  0.5749097466468811\n",
            "This sentence also belonged to the training set:  True \n",
            "\n",
            "Input sentence:  N N standard conventional fixed-rate mortgages N N N rate capped one-year adjustable rate mortgages\n",
            "Target sentence:  N standard conventional fixed-rate mortgages N N N rate capped one-year adjustable rate mortgages </s>\n",
            "predicted sentence:  N </s> conventional fixed-rate mortgages N N N rate capped one-year adjustable rate mortgages </s>\n",
            "Loss:  0.5925795435905457\n",
            "This sentence also belonged to the training set:  True \n",
            "\n",
            "Input sentence:  reserves traded among commercial banks for overnight use in amounts of $ N million or more\n",
            "Target sentence:  traded among commercial banks for overnight use in amounts of $ N million or more </s>\n",
            "predicted sentence:  </s> among commercial banks for overnight use in amounts of $ N million or more </s>\n",
            "Loss:  0.625925600528717\n",
            "This sentence also belonged to the training set:  True \n",
            "\n",
            "Input sentence:  source telerate systems inc\n",
            "Target sentence:  telerate systems inc </s>\n",
            "predicted sentence:  of systems inc </s>\n",
            "Loss:  0.6420911550521851\n",
            "This sentence also belonged to the training set:  True \n",
            "\n",
            "Input sentence:  source telerate systems inc\n",
            "Target sentence:  telerate systems inc </s>\n",
            "predicted sentence:  of systems inc </s>\n",
            "Loss:  0.6420911550521851\n",
            "This sentence also belonged to the training set:  True \n",
            "\n",
            "Input sentence:  rated <unk> by moody 's and <unk> by s&p the issue will be sold through underwriters led by morgan stanley & co\n",
            "Target sentence:  <unk> by moody 's and <unk> by s&p the issue will be sold through underwriters led by morgan stanley & co </s>\n",
            "predicted sentence:  <unk> by moody 's and s&p by s&p </s> issue will be sold through underwriters led by merrill stanley & co </s>\n",
            "Loss:  0.6491838693618774\n",
            "This sentence also belonged to the training set:  False \n",
            "\n",
            "Input sentence:  revenue rose to $ N million from $ N million\n",
            "Target sentence:  rose to $ N million from $ N million </s>\n",
            "predicted sentence:  rose N $ N billion from $ N million </s>\n",
            "Loss:  0.6612904667854309\n",
            "This sentence also belonged to the training set:  True \n",
            "\n",
            "Input sentence:  dow jones industrials N off N transportation N off N utilities N off N\n",
            "Target sentence:  jones industrials N off N transportation N off N utilities N off N </s>\n",
            "predicted sentence:  jones industrial N up N transportation N off N utilities N off N utilities\n",
            "Loss:  0.6672471761703491\n",
            "This sentence also belonged to the training set:  True \n",
            "\n",
            "Input sentence:  terms were n't disclosed\n",
            "Target sentence:  were n't disclosed </s>\n",
            "predicted sentence:  of n't disclosed </s>\n",
            "Loss:  0.6909109950065613\n",
            "This sentence also belonged to the training set:  True \n",
            "\n",
            "Input sentence:  revenue gained N N to $ N million from $ N million\n",
            "Target sentence:  gained N N to $ N million from $ N million </s>\n",
            "predicted sentence:  rose N N to $ N billion from $ N million </s>\n",
            "Loss:  0.6979773044586182\n",
            "This sentence also belonged to the training set:  True \n",
            "\n",
            "Input sentence:  oregon\n",
            "Target sentence:  </s>\n",
            "predicted sentence:  </s>\n",
            "Loss:  0.7785921096801758\n",
            "This sentence also belonged to the training set:  False \n",
            "\n",
            "Input sentence:  these rate indications are n't directly comparable lending practices vary widely by location\n",
            "Target sentence:  rate indications are n't directly comparable lending practices vary widely by location </s>\n",
            "predicted sentence:  <unk> indications are n't directly comparable lending practices vary widely by location </s>\n",
            "Loss:  0.7802671194076538\n",
            "This sentence also belonged to the training set:  True \n",
            "\n",
            "Input sentence:  $ N million of N N debentures due oct. N N priced at N to yield N N\n",
            "Target sentence:  N million of N N debentures due oct. N N priced at N to yield N N </s>\n",
            "predicted sentence:  N million </s> N N bonds due nov. N N priced at N to yield N N </s>\n",
            "Loss:  0.7864372730255127\n",
            "This sentence also belonged to the training set:  False \n",
            "\n",
            "Input sentence:  the average of interbank offered rates for dollar deposits in the london market based on quotations at five major banks\n",
            "Target sentence:  average of interbank offered rates for dollar deposits in the london market based on quotations at five major banks </s>\n",
            "predicted sentence:  <unk> yield interbank offered rates for dollar deposits in london london market based on quotations at five major banks </s>\n",
            "Loss:  0.7867265343666077\n",
            "This sentence also belonged to the training set:  True \n",
            "\n",
            "Input sentence:  the following were among friday 's offerings and pricings in the u.s. and non-u.s. capital markets with terms and syndicate manager as compiled by dow jones capital markets report\n",
            "Target sentence:  following were among friday 's offerings and pricings in the u.s. and non-u.s. capital markets with terms and syndicate manager as compiled by dow jones capital markets report </s>\n",
            "predicted sentence:  <unk> the among the 's offerings and pricings in the u.s. and non-u.s. capital markets with terms and syndicate manager as compiled by dow jones capital markets report </s>\n",
            "Loss:  0.8066229820251465\n",
            "This sentence also belonged to the training set:  True \n",
            "\n",
            "Input sentence:  in the nine months <unk> 's net rose N N to $ N million or $ N a share from $ N million or $ N a share\n",
            "Target sentence:  the nine months <unk> 's net rose N N to $ N million or $ N a share from $ N million or $ N a share </s>\n",
            "predicted sentence:  the past months net earned net income N N to $ N million or N N a share from $ N million or $ N a share </s>\n",
            "Loss:  0.8360195159912109\n",
            "This sentence also belonged to the training set:  False \n",
            "\n",
            "Input sentence:  N N N days N N N days N N N days N N N days N N N days N N N days\n",
            "Target sentence:  N N days N N N days N N N days N N N days N N N days N N N days </s>\n",
            "predicted sentence:  N </s> </s> </s> N N days </s> N N days </s> N N days </s> N N days </s> N N days </s>\n",
            "Loss:  0.8383274674415588\n",
            "This sentence also belonged to the training set:  False \n",
            "\n",
            "Input sentence:  source fulton prebon u.s.a inc\n",
            "Target sentence:  fulton prebon u.s.a inc </s>\n",
            "predicted sentence:  of prebon u.s.a inc </s>\n",
            "Loss:  0.9039332270622253\n",
            "This sentence also belonged to the training set:  True \n",
            "\n",
            "Input sentence:  N N N to N N N one month N N N to N N N two months N N N to N N N three months N N N to N N N four months N N N to N N N five months N N N to N N N six months\n",
            "Target sentence:  N N to N N N one month N N N to N N N two months N N N to N N N three months N N N to N N N four months N N N to N N N five months N N N to N N N six months </s>\n",
            "predicted sentence:  N </s> </s> N days </s> </s> month N days </s> to N days N five months N N N to N days N five months N N N to N days N five months N N N to N days N five months N N N to N days N five months </s>\n",
            "Loss:  0.9045479893684387\n",
            "This sentence also belonged to the training set:  False \n",
            "\n",
            "Input sentence:  in the latest nine months net income was $ N million or $ N a share on revenue of $ N million\n",
            "Target sentence:  the latest nine months net income was $ N million or $ N a share on revenue of $ N million </s>\n",
            "predicted sentence:  the past period months net income rose $ N million or N N a share </s> revenue of $ N million </s>\n",
            "Loss:  0.9367450475692749\n",
            "This sentence also belonged to the training set:  False \n",
            "\n",
            "Input sentence:  results of the tuesday october N N auction of short-term u.s. government bills sold at a discount from face value in units of $ N to $ N million\n",
            "Target sentence:  of the tuesday october N N auction of short-term u.s. government bills sold at a discount from face value in units of $ N to $ N million </s>\n",
            "predicted sentence:  </s> the company october N auction auction of short-term u.s. government bills sold at a discount from face value in units of $ N to $ N million N\n",
            "Loss:  0.9468639492988586\n",
            "This sentence also belonged to the training set:  False \n",
            "\n",
            "Input sentence:  average of top rates paid by major new york banks on primary new issues of negotiable c.d.s usually on amounts of $ N million and more\n",
            "Target sentence:  of top rates paid by major new york banks on primary new issues of negotiable c.d.s usually on amounts of $ N million and more </s>\n",
            "predicted sentence:  </s> N rates paid by major banks york banks </s> primary new issues of negotiable c.d.s usually on amounts of $ N million and more </s>\n",
            "Loss:  0.9483597278594971\n",
            "This sentence also belonged to the training set:  True \n",
            "\n"
          ]
        }
      ]
    },
    {
      "cell_type": "markdown",
      "source": [
        "\n",
        "<br/>\n",
        "\n",
        "* **Sentences on which the model obtained the highest perplexity values**:\n",
        "Qualitatively, they often contain words that usually appear quite rarely, and supposedly they almost always consist in small cuts of longer periods that are quite difficult to contextualize and make a sense of. For this reason, with no proper context, the model struggles in predicting correctly and just outputs the guesses with the highest overall probability, such as **\"\\<unk\\>\"**, **\"\\</s\\>\"** and **\"the\"**. "
      ],
      "metadata": {
        "id": "33C-V6yO0emk"
      }
    },
    {
      "cell_type": "code",
      "source": [
        "for i in range(30):\n",
        "    # Extract the tuple\n",
        "    (input, target, output, loss, _) = sorted_tuples[-(i + 1)]\n",
        "\n",
        "    print(\"Input sentence: \", \" \".join(input))\n",
        "    print(\"Target sentence: \", \" \".join(target))\n",
        "    print(\"Predicted sentence: \", \" \".join(output))\n",
        "    print(\"Loss: \", loss)\n",
        "    print(\"This sentence also belonged to the training set: \", input in train_sents, \"\\n\")"
      ],
      "metadata": {
        "colab": {
          "base_uri": "https://localhost:8080/"
        },
        "outputId": "c7abe2ee-546d-4505-8ac0-4707bffcc85b",
        "id": "Lp-O6qL-0emm"
      },
      "execution_count": null,
      "outputs": [
        {
          "output_type": "stream",
          "name": "stdout",
          "text": [
            "Input sentence:  as commonly understood service implies sacrifice\n",
            "Target sentence:  commonly understood service implies sacrifice </s>\n",
            "Predicted sentence:  the as the </s> that <unk>\n",
            "Loss:  9.352524757385254\n",
            "This sentence also belonged to the training set:  False \n",
            "\n",
            "Input sentence:  european drama has had better though still mixed fortunes\n",
            "Target sentence:  drama has had better though still mixed fortunes </s>\n",
            "Predicted sentence:  <unk> <unk> been been than the <unk> the </s>\n",
            "Loss:  7.862180233001709\n",
            "This sentence also belonged to the training set:  False \n",
            "\n",
            "Input sentence:  fcc counsel joins firm\n",
            "Target sentence:  counsel joins firm </s>\n",
            "Predicted sentence:  </s> <unk> the of\n",
            "Loss:  7.854410648345947\n",
            "This sentence also belonged to the training set:  False \n",
            "\n",
            "Input sentence:  replied a justin salesman exactly\n",
            "Target sentence:  a justin salesman exactly </s>\n",
            "Predicted sentence:  </s> <unk> <unk> in the\n",
            "Loss:  7.8230133056640625\n",
            "This sentence also belonged to the training set:  False \n",
            "\n",
            "Input sentence:  <unk> makes and repairs jet engines\n",
            "Target sentence:  makes and repairs jet engines </s>\n",
            "Predicted sentence:  <unk> the <unk> </s> <unk> </s>\n",
            "Loss:  7.7289581298828125\n",
            "This sentence also belonged to the training set:  False \n",
            "\n",
            "Input sentence:  some say november\n",
            "Target sentence:  say november </s>\n",
            "Predicted sentence:  <unk> the 's\n",
            "Loss:  7.686651706695557\n",
            "This sentence also belonged to the training set:  False \n",
            "\n",
            "Input sentence:  hardest hit are what he calls secondary sites that primarily serve neighborhood residents\n",
            "Target sentence:  hit are what he calls secondary sites that primarily serve neighborhood residents </s>\n",
            "Predicted sentence:  </s> the <unk> the says for </s> </s> the the as <unk> </s>\n",
            "Loss:  7.592613220214844\n",
            "This sentence also belonged to the training set:  False \n",
            "\n",
            "Input sentence:  not everything looks grim for quantum\n",
            "Target sentence:  everything looks grim for quantum </s>\n",
            "Predicted sentence:  <unk> </s> like </s> the </s>\n",
            "Loss:  7.554712772369385\n",
            "This sentence also belonged to the training set:  False \n",
            "\n",
            "Input sentence:  yes if targeted\n",
            "Target sentence:  if targeted </s>\n",
            "Predicted sentence:  </s> the <unk>\n",
            "Loss:  7.548065185546875\n",
            "This sentence also belonged to the training set:  False \n",
            "\n",
            "Input sentence:  but she stressed i am against managed trade\n",
            "Target sentence:  she stressed i am against managed trade </s>\n",
            "Predicted sentence:  the said that think not the to and\n",
            "Loss:  7.536115646362305\n",
            "This sentence also belonged to the training set:  False \n",
            "\n",
            "Input sentence:  population drain ends for midwestern states\n",
            "Target sentence:  drain ends for midwestern states </s>\n",
            "Predicted sentence:  </s> </s> in the <unk> </s>\n",
            "Loss:  7.44642972946167\n",
            "This sentence also belonged to the training set:  False \n",
            "\n",
            "Input sentence:  the omnibus can be defeated the virus controlled and real service protected\n",
            "Target sentence:  omnibus can be defeated the virus controlled and real service protected </s>\n",
            "Predicted sentence:  <unk> <unk> be <unk> </s> <unk> is by <unk> estate </s> by\n",
            "Loss:  7.3306450843811035\n",
            "This sentence also belonged to the training set:  False \n",
            "\n",
            "Input sentence:  these stocks eventually reopened\n",
            "Target sentence:  stocks eventually reopened </s>\n",
            "Predicted sentence:  <unk> are have the\n",
            "Loss:  7.312952518463135\n",
            "This sentence also belonged to the training set:  False \n",
            "\n",
            "Input sentence:  what plunge\n",
            "Target sentence:  plunge </s>\n",
            "Predicted sentence:  the in\n",
            "Loss:  7.306215763092041\n",
            "This sentence also belonged to the training set:  False \n",
            "\n",
            "Input sentence:  <unk> yes something called a star chamber\n",
            "Target sentence:  yes something called a star chamber </s>\n",
            "Predicted sentence:  <unk> </s> of the <unk> <unk> of\n",
            "Loss:  7.280195713043213\n",
            "This sentence also belonged to the training set:  False \n",
            "\n",
            "Input sentence:  all of the gm divisions except cadillac showed big declines\n",
            "Target sentence:  of the gm divisions except cadillac showed big declines </s>\n",
            "Predicted sentence:  <unk> the <unk> 's </s> for <unk> a board in\n",
            "Loss:  7.258247375488281\n",
            "This sentence also belonged to the training set:  False \n",
            "\n",
            "Input sentence:  many affluent people place personal success and money above family\n",
            "Target sentence:  affluent people place personal success and money above family </s>\n",
            "Predicted sentence:  <unk> <unk> are the <unk> in <unk> </s> the <unk>\n",
            "Loss:  7.215588569641113\n",
            "This sentence also belonged to the training set:  False \n",
            "\n",
            "Input sentence:  <unk> crude carriers ltd.\n",
            "Target sentence:  crude carriers ltd. </s>\n",
            "Predicted sentence:  <unk> </s> </s> said\n",
            "Loss:  7.196537017822266\n",
            "This sentence also belonged to the training set:  False \n",
            "\n",
            "Input sentence:  in leipzig activists vowed to continue street protests to demand internal change\n",
            "Target sentence:  leipzig activists vowed to continue street protests to demand internal change </s>\n",
            "Predicted sentence:  the </s> </s> to <unk> to to to the for <unk> </s>\n",
            "Loss:  7.162181854248047\n",
            "This sentence also belonged to the training set:  False \n",
            "\n",
            "Input sentence:  the financially struggling station offers programs obviously made available <unk> from its boss 's other ventures\n",
            "Target sentence:  financially struggling station offers programs obviously made available <unk> from its boss 's other ventures </s>\n",
            "Predicted sentence:  <unk> <unk> to </s> a in <unk> the to </s> the <unk> </s> <unk> <unk> </s>\n",
            "Loss:  7.1576056480407715\n",
            "This sentence also belonged to the training set:  False \n",
            "\n",
            "Input sentence:  size and weight considerations also have limited screen displays\n",
            "Target sentence:  and weight considerations also have limited screen displays </s>\n",
            "Predicted sentence:  </s> the </s> </s> are been to </s> </s>\n",
            "Loss:  7.152291297912598\n",
            "This sentence also belonged to the training set:  False \n",
            "\n",
            "Input sentence:  that is what common cause should ask be investigated\n",
            "Target sentence:  is what common cause should ask be investigated </s>\n",
            "Predicted sentence:  the the the shares </s> be the a </s>\n",
            "Loss:  7.129258155822754\n",
            "This sentence also belonged to the training set:  False \n",
            "\n",
            "Input sentence:  canadian investment rules require that big foreign takeovers meet that standard\n",
            "Target sentence:  investment rules require that big foreign takeovers meet that standard </s>\n",
            "Predicted sentence:  <unk> bank </s> a the board banks are with the &\n",
            "Loss:  7.0822553634643555\n",
            "This sentence also belonged to the training set:  False \n",
            "\n",
            "Input sentence:  the fcc effort collapsed\n",
            "Target sentence:  fcc effort collapsed </s>\n",
            "Predicted sentence:  <unk> 's to in\n",
            "Loss:  7.07655143737793\n",
            "This sentence also belonged to the training set:  False \n",
            "\n",
            "Input sentence:  in fact few consume much of anything\n",
            "Target sentence:  fact few consume much of anything </s>\n",
            "Predicted sentence:  the that years <unk> of the else\n",
            "Loss:  7.067477703094482\n",
            "This sentence also belonged to the training set:  False \n",
            "\n",
            "Input sentence:  it might well win senate passage\n",
            "Target sentence:  might well win senate passage </s>\n",
            "Predicted sentence:  <unk> be be the <unk> </s>\n",
            "Loss:  7.066192150115967\n",
            "This sentence also belonged to the training set:  False \n",
            "\n",
            "Input sentence:  this role reversal holds true as well for his three liberal and moderate allies justices <unk> marshall harry <unk> and john stevens\n",
            "Target sentence:  role reversal holds true as well for his three liberal and moderate allies justices <unk> marshall harry <unk> and john stevens </s>\n",
            "Predicted sentence:  <unk> in is a interest a as the own years <unk> <unk> <unk> </s> </s> <unk> <unk> <unk> and <unk> <unk> of\n",
            "Loss:  7.052467346191406\n",
            "This sentence also belonged to the training set:  False \n",
            "\n",
            "Input sentence:  now producers hope prices have hit bottom\n",
            "Target sentence:  producers hope prices have hit bottom </s>\n",
            "Predicted sentence:  the are to are been the </s>\n",
            "Loss:  7.039435386657715\n",
            "This sentence also belonged to the training set:  False \n",
            "\n",
            "Input sentence:  pennsylvania higher education facilities authority\n",
            "Target sentence:  higher education facilities authority </s>\n",
            "Predicted sentence:  </s> </s> and and $\n",
            "Loss:  7.033559322357178\n",
            "This sentence also belonged to the training set:  False \n",
            "\n",
            "Input sentence:  employee benefit plans inc.\n",
            "Target sentence:  benefit plans inc. </s>\n",
            "Predicted sentence:  </s> </s> to a\n",
            "Loss:  6.999269485473633\n",
            "This sentence also belonged to the training set:  False \n",
            "\n"
          ]
        }
      ]
    },
    {
      "cell_type": "markdown",
      "source": [
        "\n",
        "<br/>\n",
        "\n",
        "In order to understand how the Perplexity is correlated with the length of the test sequences, I performed two types of analysis on the length-loss pairs. First of all I plotted **how the typical sentence length varies with respect to the loss, for increasing loss values**. Additionally, I computed and visualized the **mean and standard deviation of the loss values for each length** value in the test data.\n",
        "\n",
        "The results are the same in both cases and they show, very interestingly, that while the mean loss value is almost the same for all lengths, the standard deviation tendentially decreases with the increase in length. This happens because longer sequences yield more substantial contextual info, and the performance of the model on them depends on its ability to capture and interpret that info, hence its score is quite stable in this case. For what concerns shorter sentences, instead, as observed during the qualitative analysis, some may be difficult to interpret because of the lack of context, while others can be so repetitive that guessing right is particularly easy; for this reason the model could perform poorly or brilliantly depending on the specific case, and the scores are characterized by high variability. "
      ],
      "metadata": {
        "id": "zoy7l6uI0emn"
      }
    },
    {
      "cell_type": "code",
      "source": [
        "# Histogram that shows how the length of the sentences in the test varies with respect to the associated loss\n",
        "\n",
        "lengths = [tuple[-1] for tuple in sorted_tuples]\n",
        "loss = [tuple[3] for tuple in sorted_tuples]\n",
        "\n",
        "pos = np.linspace(loss[0], loss[-1], 15)\n",
        "width = 0.1  \n",
        "lens_ = np.linspace(loss[0], loss[-1], 15).tolist()\n",
        "lens = [\"{:.1f}\".format(n) for n in lens_]\n",
        "\n",
        "ax = plt.axes()\n",
        "ax.set_xticks(pos + (width / 2))\n",
        "ax.set_xticklabels(lens)\n",
        "ax.set_xlabel(r'Sentence loss')\n",
        "ax.set_ylabel(r'Sentence length')\n",
        "\n",
        "plt.bar(loss, lengths, width, color='m')\n",
        "plt.show()"
      ],
      "metadata": {
        "colab": {
          "base_uri": "https://localhost:8080/",
          "height": 281
        },
        "outputId": "197a9455-620b-4056-85bb-5fc461e35b23",
        "id": "zigVvEnG0emn"
      },
      "execution_count": null,
      "outputs": [
        {
          "output_type": "display_data",
          "data": {
            "text/plain": [
              "<Figure size 432x288 with 1 Axes>"
            ],
            "image/png": "[encoded data removed]"
          },
          "metadata": {
            "needs_background": "light"
          }
        }
      ]
    },
    {
      "cell_type": "code",
      "source": [
        "loss_per_len = {i: [] for i in range(1, 78)}\n",
        "for tuple in sorted_tuples:\n",
        "  loss_per_len[tuple[-1]].append(tuple[3])\n",
        "\n",
        "lengths = [i for i in range(1, 78)]\n",
        "mean_per_len = [round(np.mean(loss_per_len[i]), 3) for i in lengths]\n",
        "std_per_len = [round(np.std(loss_per_len[i]), 3) for i in lengths]\n",
        "print(mean_per_len)\n",
        "print(std_per_len)\n",
        "\n",
        "# Histogram that shows the mean of the loss for each test sequence length\n",
        "\n",
        "pos = np.arange(1, 81, 5)\n",
        "width = 0.5  \n",
        "lens = np.arange(1, 81, 5).tolist()\n",
        "\n",
        "ax = plt.axes()\n",
        "ax.set_xticks(pos + (width / 2))\n",
        "ax.set_xticklabels(lens)\n",
        "ax.set_xlabel(r'Sentence length')\n",
        "ax.set_ylabel(r'Mean loss value')\n",
        "\n",
        "plt.bar(lengths, mean_per_len, width, color='g')\n",
        "plt.show()\n",
        "\n",
        "\n",
        "# Histogram that shows the standard deviation of the loss for each test sentence length\n",
        "\n",
        "pos = np.arange(1, 81, 5)\n",
        "width = 0.5  \n",
        "lens = np.arange(1, 81, 5).tolist()\n",
        "\n",
        "ax = plt.axes()\n",
        "ax.set_xticks(pos + (width / 2))\n",
        "ax.set_xticklabels(lens)\n",
        "ax.set_xlabel(r'Sentence length')\n",
        "ax.set_ylabel(r'Std dev of loss value')\n",
        "\n",
        "plt.bar(lengths, std_per_len, width, color='r')\n",
        "plt.show()\n",
        "\n",
        "\n",
        "# Histogram that shows the frequency distribution of length values in the test set  \n",
        "\n",
        "lengths = list(range(1, 78))\n",
        "frequencies = [0 for i in lengths]\n",
        "for sent in test_sents:\n",
        "  frequencies[len(sent)-1] += 1\n",
        "\n",
        "pos = np.arange(1, len(lengths)+1, 5)\n",
        "width = 0.5  \n",
        "lens = list(range(1, 81, 5))\n",
        "\n",
        "ax = plt.axes()\n",
        "ax.set_xticks(pos + (width / 2))\n",
        "ax.set_xticklabels(lens)\n",
        "ax.set_xlabel(r'Sentence length')\n",
        "ax.set_ylabel(r'Length frequence in the test set')\n",
        "\n",
        "plt.bar(lengths, frequencies, width, color='b')\n",
        "plt.show()"
      ],
      "metadata": {
        "colab": {
          "base_uri": "https://localhost:8080/",
          "height": 1000
        },
        "id": "KTkkN1f3cvS2",
        "outputId": "0a766e8f-b6c4-4fa4-b97c-c14e347169f1"
      },
      "execution_count": null,
      "outputs": [
        {
          "output_type": "stream",
          "name": "stderr",
          "text": [
            "/usr/local/lib/python3.7/dist-packages/numpy/core/fromnumeric.py:3441: RuntimeWarning: Mean of empty slice.\n",
            "  out=out, **kwargs)\n",
            "/usr/local/lib/python3.7/dist-packages/numpy/core/_methods.py:189: RuntimeWarning: invalid value encountered in double_scalars\n",
            "  ret = ret.dtype.type(ret / rcount)\n",
            "/usr/local/lib/python3.7/dist-packages/numpy/core/_methods.py:263: RuntimeWarning: Degrees of freedom <= 0 for slice\n",
            "  keepdims=keepdims, where=where)\n",
            "/usr/local/lib/python3.7/dist-packages/numpy/core/_methods.py:223: RuntimeWarning: invalid value encountered in true_divide\n",
            "  subok=False)\n",
            "/usr/local/lib/python3.7/dist-packages/numpy/core/_methods.py:254: RuntimeWarning: invalid value encountered in double_scalars\n",
            "  ret = ret.dtype.type(ret / rcount)\n"
          ]
        },
        {
          "output_type": "stream",
          "name": "stdout",
          "text": [
            "[1.2628668606281281, 4.042672722838645, 4.754617631435394, 4.7452436946332455, 4.689029804120461, 4.660706026737507, 4.805224893523044, 4.729110197175907, 4.82877632856369, 4.634291247679637, 4.619146307309468, 4.489723921649986, 4.450233241833678, 4.503030318324849, 4.48573430418189, 4.616185925550909, 4.805877778566245, 4.610446559854701, 4.6874544431423315, 4.5952237571856775, 4.571715110582663, 4.581495661735534, 4.548211361798975, 4.547730464161488, 4.535211580732595, 4.607835248593362, 4.727936189953644, 4.458623421603236, 4.4563468000323505, 4.587072825147992, 4.722928605862518, 4.637911606479335, 4.547455474734306, 4.7206681655003475, 4.625062530690974, 4.665714706693377, 4.443122516978871, 4.54462447310939, 4.46839702129364, 4.594318548838298, 4.72617503007253, 4.856705599360996, 4.77259227808784, 4.922428982598441, 4.771134734153748, 4.329945683479309, 4.761226654052734, 3.5431721061468124, 4.90362674849374, 4.257231426239014, 4.5473809242248535, 4.751059859991074, 4.495310306549072, 3.2456386238336563, nan, nan, 4.798958778381348, 5.212508201599121, 5.075536251068115, 5.099555492401123, nan, nan, nan, 4.486529350280762, nan, nan, nan, nan, nan, nan, nan, nan, nan, nan, nan, nan, 4.6146931648254395]\n",
            "[0.9629730454745377, 1.642683745359625, 1.4806061341588563, 1.922986974094744, 1.6159006022958327, 1.6757168776302536, 1.3981333434302923, 1.3962847524267337, 1.2694856062485393, 1.2210368696702354, 1.1480130611541315, 1.3367210606984818, 1.2695362681943547, 1.0574024105398896, 1.095796566089857, 1.0929608048057182, 0.914759154944571, 1.0399854250358957, 0.9336620816899324, 1.0380894776323448, 1.0392990609027148, 1.0751198918181142, 0.9906248096739118, 0.8249444672543674, 0.9629519189848663, 0.8432699136090487, 0.848720690552293, 0.931895531650039, 1.0372803882829718, 0.9436489328349802, 0.7354484075557403, 0.6589557191497357, 0.7901892264215311, 0.8108844357555167, 0.681771009935621, 0.8296125810007271, 0.8190596909533914, 0.9602374280724075, 0.9667224353711887, 0.6005903067221301, 0.5609629227196001, 0.7118644494816372, 0.6249331562574459, 0.5220006772179757, 0.5010126607246991, 0.855306630100509, 0.6311189114510383, 1.7672369856216585, 0.9174545593415044, 0.48423528207028854, 0.4095335006713867, 0.7016193554914695, 0.1579604148864746, 1.6955570692098014, nan, nan, 0.33838796615600586, 0.0, 0.0, 0.13626670837402344, nan, nan, nan, 0.0, nan, nan, nan, nan, nan, nan, nan, nan, nan, nan, nan, nan, 0.0]\n"
          ]
        },
        {
          "output_type": "display_data",
          "data": {
            "text/plain": [
              "<Figure size 432x288 with 1 Axes>"
            ],
            "image/png": "[encoded data removed]"
          },
          "metadata": {
            "needs_background": "light"
          }
        },
        {
          "output_type": "display_data",
          "data": {
            "text/plain": [
              "<Figure size 432x288 with 1 Axes>"
            ],
            "image/png": "[encoded data removed]"
          },
          "metadata": {
            "needs_background": "light"
          }
        },
        {
          "output_type": "display_data",
          "data": {
            "text/plain": [
              "<Figure size 432x288 with 1 Axes>"
            ],
            "image/png": "[encoded data removed]"
          },
          "metadata": {
            "needs_background": "light"
          }
        }
      ]
    },
    {
      "cell_type": "markdown",
      "source": [
        "\n",
        "<br/>\n",
        "\n",
        "\n",
        "Another check that can be performed is considering some of the words that appear most frequently in the **training set**, for example the 50 most frequent words, and compute the percentage of times they are **predicted correctly**, with respect to all the times they appear **in the targets**.\n",
        "\n",
        "Ideally, the more frequently a word appeared during training, the more the model should be able to capture its influence and meaning in different contexts, and the higher should be the percentage of times it is predicted correctly at test time.\n",
        "\n",
        "In order to verify this trend, I decided to plot the percentage of times some words were predicted correctly, when present in the **target sentences of the test set**. The analyzed words are the 50 most frequent words from the training data, considered in **descending order of frequency**. The expected behaviour of the histogram is that a higher **recall** in prediction should be associated to those words that appeared most frequently in the training set, since the model should be able to better capture their meaning and context of appearance. Indeed, a **general decreasing tendency** can be observed from the plot with the decrease of the words' frequencies, except for some outliers characterized by high recall values, although their appearance in the training set is more rare.\n",
        "\n",
        "\n",
        "\n",
        "\n",
        "\n"
      ],
      "metadata": {
        "id": "_Zzu3VOP0ems"
      }
    },
    {
      "cell_type": "code",
      "source": [
        "recall = []\n",
        "\n",
        "# For each word in the sorted dictionary of 50 most frequent words in the training set\n",
        "for token in sorted_dict_train:\n",
        "\n",
        "    # Number of appearances in the target set\n",
        "    target_appearance = 0\n",
        "    # Number of correct appearances in the predictions\n",
        "    correct_prediction = 0\n",
        "\n",
        "    # For each sentence in the target set\n",
        "    for i in range(len(test_targets)):\n",
        "\n",
        "        sent = test_targets[i]\n",
        "\n",
        "        # For each word in the sentence\n",
        "        for j in range(len(sent)):\n",
        "            # If the word coincides with the considered token, update target_appearance\n",
        "            if sent[j] == token:\n",
        "                target_appearance += 1\n",
        "                # If the word is correctly predicted, update correct_prediction\n",
        "                if sent[j] == test_outputs[i][j]:\n",
        "                    correct_prediction += 1\n",
        "\n",
        "    # Update list of percentages\n",
        "    recall.append(correct_prediction*100/target_appearance)\n",
        "  \n",
        "\n",
        "\"\"\"\n",
        "The following histogram plots the RECALL value for the classes corresponding\n",
        "to the 50 most frequent words in the training set, considered in decreasing order of frequency\n",
        "\"\"\" \n",
        "frequencies = list(range(1, 51))\n",
        "pos = np.arange(1, 51, 5)\n",
        "width = 0.3  \n",
        "lens = np.arange(1, 51, 5).tolist()\n",
        "\n",
        "ax = plt.axes()\n",
        "ax.set_xticks(pos + (width / 2))\n",
        "ax.set_xticklabels(lens)\n",
        "ax.set_xlabel(r'Frequency rank in training set: 1 = most frequent')\n",
        "ax.set_ylabel(r'Recall in test set')\n",
        "\n",
        "plt.bar(frequencies, recall, width, color='y')\n",
        "plt.show()"
      ],
      "metadata": {
        "colab": {
          "base_uri": "https://localhost:8080/",
          "height": 279
        },
        "id": "ZI7oy7XxmixU",
        "outputId": "e9e8b16f-ce0f-45bf-a11f-050626f8a654"
      },
      "execution_count": null,
      "outputs": [
        {
          "output_type": "display_data",
          "data": {
            "text/plain": [
              "<Figure size 432x288 with 1 Axes>"
            ],
            "image/png": "[encoded data removed]"
          },
          "metadata": {
            "needs_background": "light"
          }
        }
      ]
    },
    {
      "cell_type": "markdown",
      "source": [
        "\n",
        "<br/>\n",
        "\n",
        "Another value that may be interesting to check is the **precision** in the test set corresponding to each of the 50 most frequent words of the training set. The precision corresponds to the percentage of times a certain word is **predicted correctly**, with respect to the number of times it appears **in the predictions**.\n",
        "\n",
        "The computation can be performed in a similar way as it was done for the recall. In this case the plot does not show any meaningful trend."
      ],
      "metadata": {
        "id": "6c4qS5p5ahze"
      }
    },
    {
      "cell_type": "code",
      "source": [
        "precision = []\n",
        "\n",
        "# For each word in the sorted dictionary of 50 most frequent words in the training set\n",
        "for token in sorted_dict_train:\n",
        "\n",
        "    # Number of appearances in the target set\n",
        "    output_appearance = 0\n",
        "    # Number of correct appearances in the predictions\n",
        "    correct_prediction = 0\n",
        "\n",
        "    # For each sentence in the output set\n",
        "    for i in range(len(test_outputs)):\n",
        "\n",
        "        sent = test_outputs[i]\n",
        "\n",
        "        # For each word in the sentence\n",
        "        for j in range(len(sent)):\n",
        "            # If the word coincides with the considered token, update output_appearance\n",
        "            if sent[j] == token:\n",
        "                output_appearance += 1\n",
        "                # If the word is correctly predicted, update correct_prediction\n",
        "                if sent[j] == test_targets[i][j]:\n",
        "                    correct_prediction += 1\n",
        "\n",
        "    # Update list of percentages\n",
        "    precision.append(correct_prediction*100/output_appearance)\n",
        "\n",
        "\n",
        "\"\"\"\n",
        "The following histogram plots the PRECISION value for the classes corresponding\n",
        "to the 50 most frequent words in the training set, considered in decreasing order of frequency\n",
        "\"\"\" \n",
        "frequencies = list(range(1, 51))\n",
        "pos = np.arange(1, 51, 5)\n",
        "width = 0.3  \n",
        "lens = np.arange(1, 51, 5).tolist()\n",
        "\n",
        "ax = plt.axes()\n",
        "ax.set_xticks(pos + (width / 2))\n",
        "ax.set_xticklabels(lens)\n",
        "ax.set_xlabel(r'Frequency rank in training set: 1 = most frequent')\n",
        "ax.set_ylabel(r'Precision in test set')\n",
        "\n",
        "plt.bar(frequencies, precision, width, color='m')\n",
        "plt.show()"
      ],
      "metadata": {
        "colab": {
          "base_uri": "https://localhost:8080/",
          "height": 279
        },
        "id": "GxAE-mJnbvZ9",
        "outputId": "624082d2-8659-4ad3-9706-94af7c06cbe2"
      },
      "execution_count": null,
      "outputs": [
        {
          "output_type": "display_data",
          "data": {
            "text/plain": [
              "<Figure size 432x288 with 1 Axes>"
            ],
            "image/png": "[encoded data removed]"
          },
          "metadata": {
            "needs_background": "light"
          }
        }
      ]
    }
  ]
}